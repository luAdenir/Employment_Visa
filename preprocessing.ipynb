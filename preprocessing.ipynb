{
 "cells": [
  {
   "cell_type": "markdown",
   "metadata": {},
   "source": [
    "## Import Dependencies"
   ]
  },
  {
   "cell_type": "code",
   "execution_count": 1,
   "metadata": {
    "scrolled": false
   },
   "outputs": [],
   "source": [
    "import numpy as np\n",
    "import pandas as pd\n",
    "from sklearn.model_selection import train_test_split\n",
    "from imblearn.over_sampling import RandomOverSampler\n",
    "from sklearn.linear_model import LogisticRegression\n",
    "from sklearn.metrics import balanced_accuracy_score\n",
    "from sklearn.metrics import confusion_matrix\n",
    "from pathlib import Path\n",
    "from pandas.plotting import scatter_matrix\n",
    "import matplotlib.pyplot as plt\n",
    "import seaborn as sns"
   ]
  },
  {
   "cell_type": "code",
   "execution_count": 2,
   "metadata": {},
   "outputs": [],
   "source": [
    "import warnings\n",
    "warnings.filterwarnings('ignore')"
   ]
  },
  {
   "cell_type": "markdown",
   "metadata": {},
   "source": [
    "## Load the Data"
   ]
  },
  {
   "cell_type": "code",
   "execution_count": 3,
   "metadata": {
    "scrolled": true
   },
   "outputs": [],
   "source": [
    "file_path = Path(\"us_perm_visas.csv\")\n",
    "df = pd.read_csv(file_path, low_memory=False)"
   ]
  },
  {
   "cell_type": "code",
   "execution_count": 4,
   "metadata": {
    "scrolled": true
   },
   "outputs": [
    {
     "data": {
      "text/html": [
       "<div>\n",
       "<style scoped>\n",
       "    .dataframe tbody tr th:only-of-type {\n",
       "        vertical-align: middle;\n",
       "    }\n",
       "\n",
       "    .dataframe tbody tr th {\n",
       "        vertical-align: top;\n",
       "    }\n",
       "\n",
       "    .dataframe thead th {\n",
       "        text-align: right;\n",
       "    }\n",
       "</style>\n",
       "<table border=\"1\" class=\"dataframe\">\n",
       "  <thead>\n",
       "    <tr style=\"text-align: right;\">\n",
       "      <th></th>\n",
       "      <th>add_these_pw_job_title_9089</th>\n",
       "      <th>agent_city</th>\n",
       "      <th>agent_firm_name</th>\n",
       "      <th>agent_state</th>\n",
       "      <th>application_type</th>\n",
       "      <th>case_no</th>\n",
       "      <th>case_number</th>\n",
       "      <th>case_received_date</th>\n",
       "      <th>case_status</th>\n",
       "      <th>class_of_admission</th>\n",
       "      <th>...</th>\n",
       "      <th>ri_pvt_employment_firm_to</th>\n",
       "      <th>ri_us_workers_considered</th>\n",
       "      <th>schd_a_sheepherder</th>\n",
       "      <th>us_economic_sector</th>\n",
       "      <th>wage_offer_from_9089</th>\n",
       "      <th>wage_offer_to_9089</th>\n",
       "      <th>wage_offer_unit_of_pay_9089</th>\n",
       "      <th>wage_offered_from_9089</th>\n",
       "      <th>wage_offered_to_9089</th>\n",
       "      <th>wage_offered_unit_of_pay_9089</th>\n",
       "    </tr>\n",
       "  </thead>\n",
       "  <tbody>\n",
       "    <tr>\n",
       "      <th>0</th>\n",
       "      <td>NaN</td>\n",
       "      <td>NaN</td>\n",
       "      <td>NaN</td>\n",
       "      <td>NaN</td>\n",
       "      <td>PERM</td>\n",
       "      <td>A-07323-97014</td>\n",
       "      <td>NaN</td>\n",
       "      <td>NaN</td>\n",
       "      <td>Certified</td>\n",
       "      <td>J-1</td>\n",
       "      <td>...</td>\n",
       "      <td>NaN</td>\n",
       "      <td>NaN</td>\n",
       "      <td>NaN</td>\n",
       "      <td>IT</td>\n",
       "      <td>75629.0</td>\n",
       "      <td>NaN</td>\n",
       "      <td>yr</td>\n",
       "      <td>NaN</td>\n",
       "      <td>NaN</td>\n",
       "      <td>NaN</td>\n",
       "    </tr>\n",
       "    <tr>\n",
       "      <th>1</th>\n",
       "      <td>NaN</td>\n",
       "      <td>NaN</td>\n",
       "      <td>NaN</td>\n",
       "      <td>NaN</td>\n",
       "      <td>PERM</td>\n",
       "      <td>A-07332-99439</td>\n",
       "      <td>NaN</td>\n",
       "      <td>NaN</td>\n",
       "      <td>Denied</td>\n",
       "      <td>B-2</td>\n",
       "      <td>...</td>\n",
       "      <td>NaN</td>\n",
       "      <td>NaN</td>\n",
       "      <td>NaN</td>\n",
       "      <td>Other Economic Sector</td>\n",
       "      <td>37024.0</td>\n",
       "      <td>NaN</td>\n",
       "      <td>yr</td>\n",
       "      <td>NaN</td>\n",
       "      <td>NaN</td>\n",
       "      <td>NaN</td>\n",
       "    </tr>\n",
       "    <tr>\n",
       "      <th>2</th>\n",
       "      <td>NaN</td>\n",
       "      <td>NaN</td>\n",
       "      <td>NaN</td>\n",
       "      <td>NaN</td>\n",
       "      <td>PERM</td>\n",
       "      <td>A-07333-99643</td>\n",
       "      <td>NaN</td>\n",
       "      <td>NaN</td>\n",
       "      <td>Certified</td>\n",
       "      <td>H-1B</td>\n",
       "      <td>...</td>\n",
       "      <td>NaN</td>\n",
       "      <td>NaN</td>\n",
       "      <td>NaN</td>\n",
       "      <td>Aerospace</td>\n",
       "      <td>47923.0</td>\n",
       "      <td>NaN</td>\n",
       "      <td>yr</td>\n",
       "      <td>NaN</td>\n",
       "      <td>NaN</td>\n",
       "      <td>NaN</td>\n",
       "    </tr>\n",
       "    <tr>\n",
       "      <th>3</th>\n",
       "      <td>NaN</td>\n",
       "      <td>NaN</td>\n",
       "      <td>NaN</td>\n",
       "      <td>NaN</td>\n",
       "      <td>PERM</td>\n",
       "      <td>A-07339-01930</td>\n",
       "      <td>NaN</td>\n",
       "      <td>NaN</td>\n",
       "      <td>Certified</td>\n",
       "      <td>B-2</td>\n",
       "      <td>...</td>\n",
       "      <td>NaN</td>\n",
       "      <td>NaN</td>\n",
       "      <td>NaN</td>\n",
       "      <td>Other Economic Sector</td>\n",
       "      <td>10.97</td>\n",
       "      <td>NaN</td>\n",
       "      <td>hr</td>\n",
       "      <td>NaN</td>\n",
       "      <td>NaN</td>\n",
       "      <td>NaN</td>\n",
       "    </tr>\n",
       "    <tr>\n",
       "      <th>4</th>\n",
       "      <td>NaN</td>\n",
       "      <td>NaN</td>\n",
       "      <td>NaN</td>\n",
       "      <td>NaN</td>\n",
       "      <td>PERM</td>\n",
       "      <td>A-07345-03565</td>\n",
       "      <td>NaN</td>\n",
       "      <td>NaN</td>\n",
       "      <td>Certified</td>\n",
       "      <td>L-1</td>\n",
       "      <td>...</td>\n",
       "      <td>NaN</td>\n",
       "      <td>NaN</td>\n",
       "      <td>NaN</td>\n",
       "      <td>Advanced Mfg</td>\n",
       "      <td>100000.0</td>\n",
       "      <td>NaN</td>\n",
       "      <td>yr</td>\n",
       "      <td>NaN</td>\n",
       "      <td>NaN</td>\n",
       "      <td>NaN</td>\n",
       "    </tr>\n",
       "  </tbody>\n",
       "</table>\n",
       "<p>5 rows × 154 columns</p>\n",
       "</div>"
      ],
      "text/plain": [
       "  add_these_pw_job_title_9089 agent_city agent_firm_name agent_state  \\\n",
       "0                         NaN        NaN             NaN         NaN   \n",
       "1                         NaN        NaN             NaN         NaN   \n",
       "2                         NaN        NaN             NaN         NaN   \n",
       "3                         NaN        NaN             NaN         NaN   \n",
       "4                         NaN        NaN             NaN         NaN   \n",
       "\n",
       "  application_type        case_no case_number case_received_date case_status  \\\n",
       "0             PERM  A-07323-97014         NaN                NaN   Certified   \n",
       "1             PERM  A-07332-99439         NaN                NaN      Denied   \n",
       "2             PERM  A-07333-99643         NaN                NaN   Certified   \n",
       "3             PERM  A-07339-01930         NaN                NaN   Certified   \n",
       "4             PERM  A-07345-03565         NaN                NaN   Certified   \n",
       "\n",
       "  class_of_admission  ... ri_pvt_employment_firm_to ri_us_workers_considered  \\\n",
       "0                J-1  ...                       NaN                      NaN   \n",
       "1                B-2  ...                       NaN                      NaN   \n",
       "2               H-1B  ...                       NaN                      NaN   \n",
       "3                B-2  ...                       NaN                      NaN   \n",
       "4                L-1  ...                       NaN                      NaN   \n",
       "\n",
       "  schd_a_sheepherder     us_economic_sector wage_offer_from_9089  \\\n",
       "0                NaN                     IT              75629.0   \n",
       "1                NaN  Other Economic Sector              37024.0   \n",
       "2                NaN              Aerospace              47923.0   \n",
       "3                NaN  Other Economic Sector                10.97   \n",
       "4                NaN           Advanced Mfg             100000.0   \n",
       "\n",
       "  wage_offer_to_9089 wage_offer_unit_of_pay_9089 wage_offered_from_9089  \\\n",
       "0                NaN                          yr                    NaN   \n",
       "1                NaN                          yr                    NaN   \n",
       "2                NaN                          yr                    NaN   \n",
       "3                NaN                          hr                    NaN   \n",
       "4                NaN                          yr                    NaN   \n",
       "\n",
       "  wage_offered_to_9089  wage_offered_unit_of_pay_9089  \n",
       "0                  NaN                            NaN  \n",
       "1                  NaN                            NaN  \n",
       "2                  NaN                            NaN  \n",
       "3                  NaN                            NaN  \n",
       "4                  NaN                            NaN  \n",
       "\n",
       "[5 rows x 154 columns]"
      ]
     },
     "execution_count": 4,
     "metadata": {},
     "output_type": "execute_result"
    }
   ],
   "source": [
    "df.head()"
   ]
  },
  {
   "cell_type": "code",
   "execution_count": 5,
   "metadata": {},
   "outputs": [
    {
     "data": {
      "text/html": [
       "<div>\n",
       "<style scoped>\n",
       "    .dataframe tbody tr th:only-of-type {\n",
       "        vertical-align: middle;\n",
       "    }\n",
       "\n",
       "    .dataframe tbody tr th {\n",
       "        vertical-align: top;\n",
       "    }\n",
       "\n",
       "    .dataframe thead th {\n",
       "        text-align: right;\n",
       "    }\n",
       "</style>\n",
       "<table border=\"1\" class=\"dataframe\">\n",
       "  <thead>\n",
       "    <tr style=\"text-align: right;\">\n",
       "      <th></th>\n",
       "      <th>add_these_pw_job_title_9089</th>\n",
       "      <th>agent_city</th>\n",
       "      <th>agent_firm_name</th>\n",
       "      <th>agent_state</th>\n",
       "      <th>application_type</th>\n",
       "      <th>case_no</th>\n",
       "      <th>case_number</th>\n",
       "      <th>case_received_date</th>\n",
       "      <th>case_status</th>\n",
       "      <th>class_of_admission</th>\n",
       "      <th>...</th>\n",
       "      <th>ri_pvt_employment_firm_to</th>\n",
       "      <th>ri_us_workers_considered</th>\n",
       "      <th>schd_a_sheepherder</th>\n",
       "      <th>us_economic_sector</th>\n",
       "      <th>wage_offer_from_9089</th>\n",
       "      <th>wage_offer_to_9089</th>\n",
       "      <th>wage_offer_unit_of_pay_9089</th>\n",
       "      <th>wage_offered_from_9089</th>\n",
       "      <th>wage_offered_to_9089</th>\n",
       "      <th>wage_offered_unit_of_pay_9089</th>\n",
       "    </tr>\n",
       "  </thead>\n",
       "  <tbody>\n",
       "    <tr>\n",
       "      <th>374357</th>\n",
       "      <td>NaN</td>\n",
       "      <td>Buena Park</td>\n",
       "      <td>Law Offices of Yohan Lee</td>\n",
       "      <td>CA</td>\n",
       "      <td>NaN</td>\n",
       "      <td>NaN</td>\n",
       "      <td>A-16363-85407</td>\n",
       "      <td>2016-12-29</td>\n",
       "      <td>Withdrawn</td>\n",
       "      <td>NaN</td>\n",
       "      <td>...</td>\n",
       "      <td>NaN</td>\n",
       "      <td>NaN</td>\n",
       "      <td>N</td>\n",
       "      <td>NaN</td>\n",
       "      <td>28,330.00</td>\n",
       "      <td>NaN</td>\n",
       "      <td>Year</td>\n",
       "      <td>NaN</td>\n",
       "      <td>NaN</td>\n",
       "      <td>NaN</td>\n",
       "    </tr>\n",
       "    <tr>\n",
       "      <th>374358</th>\n",
       "      <td>NaN</td>\n",
       "      <td>Seattle</td>\n",
       "      <td>MacDonald Hoague &amp; Bayless</td>\n",
       "      <td>WA</td>\n",
       "      <td>NaN</td>\n",
       "      <td>NaN</td>\n",
       "      <td>A-16271-56745</td>\n",
       "      <td>2016-12-30</td>\n",
       "      <td>Withdrawn</td>\n",
       "      <td>L-1</td>\n",
       "      <td>...</td>\n",
       "      <td>NaN</td>\n",
       "      <td>Y</td>\n",
       "      <td>N</td>\n",
       "      <td>NaN</td>\n",
       "      <td>122,000.00</td>\n",
       "      <td>142,000.00</td>\n",
       "      <td>Year</td>\n",
       "      <td>NaN</td>\n",
       "      <td>NaN</td>\n",
       "      <td>NaN</td>\n",
       "    </tr>\n",
       "    <tr>\n",
       "      <th>374359</th>\n",
       "      <td>NaN</td>\n",
       "      <td>Schaumburg</td>\n",
       "      <td>International Legal and Business Services Grou...</td>\n",
       "      <td>IL</td>\n",
       "      <td>NaN</td>\n",
       "      <td>NaN</td>\n",
       "      <td>A-16354-82345</td>\n",
       "      <td>2016-12-30</td>\n",
       "      <td>Withdrawn</td>\n",
       "      <td>H-1B</td>\n",
       "      <td>...</td>\n",
       "      <td>NaN</td>\n",
       "      <td>NaN</td>\n",
       "      <td>N</td>\n",
       "      <td>NaN</td>\n",
       "      <td>79,082.00</td>\n",
       "      <td>79,082.00</td>\n",
       "      <td>Year</td>\n",
       "      <td>NaN</td>\n",
       "      <td>NaN</td>\n",
       "      <td>NaN</td>\n",
       "    </tr>\n",
       "    <tr>\n",
       "      <th>374360</th>\n",
       "      <td>NaN</td>\n",
       "      <td>LOS ANGELES</td>\n",
       "      <td>LAW OFFICES OF JAMES S HONG</td>\n",
       "      <td>CA</td>\n",
       "      <td>NaN</td>\n",
       "      <td>NaN</td>\n",
       "      <td>A-16357-84250</td>\n",
       "      <td>2016-12-30</td>\n",
       "      <td>Withdrawn</td>\n",
       "      <td>B-2</td>\n",
       "      <td>...</td>\n",
       "      <td>NaN</td>\n",
       "      <td>NaN</td>\n",
       "      <td>N</td>\n",
       "      <td>NaN</td>\n",
       "      <td>37,981.00</td>\n",
       "      <td>NaN</td>\n",
       "      <td>Year</td>\n",
       "      <td>NaN</td>\n",
       "      <td>NaN</td>\n",
       "      <td>NaN</td>\n",
       "    </tr>\n",
       "    <tr>\n",
       "      <th>374361</th>\n",
       "      <td>NaN</td>\n",
       "      <td>Phoenix</td>\n",
       "      <td>Fragomen, Del Rey, Bernsen &amp; Loewy, LLP</td>\n",
       "      <td>AZ</td>\n",
       "      <td>NaN</td>\n",
       "      <td>NaN</td>\n",
       "      <td>A-16279-59292</td>\n",
       "      <td>2016-12-30</td>\n",
       "      <td>Withdrawn</td>\n",
       "      <td>H-1B</td>\n",
       "      <td>...</td>\n",
       "      <td>NaN</td>\n",
       "      <td>NaN</td>\n",
       "      <td>N</td>\n",
       "      <td>NaN</td>\n",
       "      <td>84,926.00</td>\n",
       "      <td>121,500.00</td>\n",
       "      <td>Year</td>\n",
       "      <td>NaN</td>\n",
       "      <td>NaN</td>\n",
       "      <td>NaN</td>\n",
       "    </tr>\n",
       "  </tbody>\n",
       "</table>\n",
       "<p>5 rows × 154 columns</p>\n",
       "</div>"
      ],
      "text/plain": [
       "       add_these_pw_job_title_9089   agent_city  \\\n",
       "374357                         NaN   Buena Park   \n",
       "374358                         NaN      Seattle   \n",
       "374359                         NaN   Schaumburg   \n",
       "374360                         NaN  LOS ANGELES   \n",
       "374361                         NaN      Phoenix   \n",
       "\n",
       "                                          agent_firm_name agent_state  \\\n",
       "374357                           Law Offices of Yohan Lee          CA   \n",
       "374358                         MacDonald Hoague & Bayless          WA   \n",
       "374359  International Legal and Business Services Grou...          IL   \n",
       "374360                        LAW OFFICES OF JAMES S HONG          CA   \n",
       "374361            Fragomen, Del Rey, Bernsen & Loewy, LLP          AZ   \n",
       "\n",
       "       application_type case_no    case_number case_received_date case_status  \\\n",
       "374357              NaN     NaN  A-16363-85407         2016-12-29   Withdrawn   \n",
       "374358              NaN     NaN  A-16271-56745         2016-12-30   Withdrawn   \n",
       "374359              NaN     NaN  A-16354-82345         2016-12-30   Withdrawn   \n",
       "374360              NaN     NaN  A-16357-84250         2016-12-30   Withdrawn   \n",
       "374361              NaN     NaN  A-16279-59292         2016-12-30   Withdrawn   \n",
       "\n",
       "       class_of_admission  ... ri_pvt_employment_firm_to  \\\n",
       "374357                NaN  ...                       NaN   \n",
       "374358                L-1  ...                       NaN   \n",
       "374359               H-1B  ...                       NaN   \n",
       "374360                B-2  ...                       NaN   \n",
       "374361               H-1B  ...                       NaN   \n",
       "\n",
       "       ri_us_workers_considered schd_a_sheepherder us_economic_sector  \\\n",
       "374357                      NaN                  N                NaN   \n",
       "374358                        Y                  N                NaN   \n",
       "374359                      NaN                  N                NaN   \n",
       "374360                      NaN                  N                NaN   \n",
       "374361                      NaN                  N                NaN   \n",
       "\n",
       "       wage_offer_from_9089 wage_offer_to_9089 wage_offer_unit_of_pay_9089  \\\n",
       "374357            28,330.00                NaN                        Year   \n",
       "374358           122,000.00         142,000.00                        Year   \n",
       "374359            79,082.00          79,082.00                        Year   \n",
       "374360            37,981.00                NaN                        Year   \n",
       "374361            84,926.00         121,500.00                        Year   \n",
       "\n",
       "       wage_offered_from_9089 wage_offered_to_9089  \\\n",
       "374357                    NaN                  NaN   \n",
       "374358                    NaN                  NaN   \n",
       "374359                    NaN                  NaN   \n",
       "374360                    NaN                  NaN   \n",
       "374361                    NaN                  NaN   \n",
       "\n",
       "        wage_offered_unit_of_pay_9089  \n",
       "374357                            NaN  \n",
       "374358                            NaN  \n",
       "374359                            NaN  \n",
       "374360                            NaN  \n",
       "374361                            NaN  \n",
       "\n",
       "[5 rows x 154 columns]"
      ]
     },
     "execution_count": 5,
     "metadata": {},
     "output_type": "execute_result"
    }
   ],
   "source": [
    "df.tail()"
   ]
  },
  {
   "cell_type": "code",
   "execution_count": 6,
   "metadata": {},
   "outputs": [
    {
     "data": {
      "text/plain": [
       "(374362, 154)"
      ]
     },
     "execution_count": 6,
     "metadata": {},
     "output_type": "execute_result"
    }
   ],
   "source": [
    "df.shape"
   ]
  },
  {
   "cell_type": "code",
   "execution_count": 7,
   "metadata": {
    "scrolled": false
   },
   "outputs": [
    {
     "name": "stdout",
     "output_type": "stream",
     "text": [
      "<class 'pandas.core.frame.DataFrame'>\n",
      "RangeIndex: 374362 entries, 0 to 374361\n",
      "Data columns (total 154 columns):\n",
      " #   Column                                  Dtype  \n",
      "---  ------                                  -----  \n",
      " 0   add_these_pw_job_title_9089             object \n",
      " 1   agent_city                              object \n",
      " 2   agent_firm_name                         object \n",
      " 3   agent_state                             object \n",
      " 4   application_type                        object \n",
      " 5   case_no                                 object \n",
      " 6   case_number                             object \n",
      " 7   case_received_date                      object \n",
      " 8   case_status                             object \n",
      " 9   class_of_admission                      object \n",
      " 10  country_of_citizenship                  object \n",
      " 11  country_of_citzenship                   object \n",
      " 12  decision_date                           object \n",
      " 13  employer_address_1                      object \n",
      " 14  employer_address_2                      object \n",
      " 15  employer_city                           object \n",
      " 16  employer_country                        object \n",
      " 17  employer_decl_info_title                object \n",
      " 18  employer_name                           object \n",
      " 19  employer_num_employees                  float64\n",
      " 20  employer_phone                          object \n",
      " 21  employer_phone_ext                      object \n",
      " 22  employer_postal_code                    object \n",
      " 23  employer_state                          object \n",
      " 24  employer_yr_estab                       float64\n",
      " 25  foreign_worker_info_alt_edu_experience  object \n",
      " 26  foreign_worker_info_birth_country       object \n",
      " 27  foreign_worker_info_city                object \n",
      " 28  foreign_worker_info_education           object \n",
      " 29  foreign_worker_info_education_other     object \n",
      " 30  foreign_worker_info_inst                object \n",
      " 31  foreign_worker_info_major               object \n",
      " 32  foreign_worker_info_postal_code         object \n",
      " 33  foreign_worker_info_rel_occup_exp       object \n",
      " 34  foreign_worker_info_req_experience      object \n",
      " 35  foreign_worker_info_state               object \n",
      " 36  foreign_worker_info_training_comp       object \n",
      " 37  foreign_worker_ownership_interest       object \n",
      " 38  foreign_worker_yr_rel_edu_completed     float64\n",
      " 39  fw_info_alt_edu_experience              object \n",
      " 40  fw_info_birth_country                   object \n",
      " 41  fw_info_education_other                 object \n",
      " 42  fw_info_postal_code                     object \n",
      " 43  fw_info_rel_occup_exp                   object \n",
      " 44  fw_info_req_experience                  object \n",
      " 45  fw_info_training_comp                   object \n",
      " 46  fw_info_yr_rel_edu_completed            float64\n",
      " 47  fw_ownership_interest                   object \n",
      " 48  ji_foreign_worker_live_on_premises      object \n",
      " 49  ji_fw_live_on_premises                  object \n",
      " 50  ji_live_in_dom_svc_contract             object \n",
      " 51  ji_live_in_domestic_service             object \n",
      " 52  ji_offered_to_sec_j_foreign_worker      object \n",
      " 53  ji_offered_to_sec_j_fw                  object \n",
      " 54  job_info_alt_cmb_ed_oth_yrs             float64\n",
      " 55  job_info_alt_combo_ed                   object \n",
      " 56  job_info_alt_combo_ed_exp               object \n",
      " 57  job_info_alt_combo_ed_other             object \n",
      " 58  job_info_alt_field                      object \n",
      " 59  job_info_alt_field_name                 object \n",
      " 60  job_info_alt_occ                        object \n",
      " 61  job_info_alt_occ_job_title              object \n",
      " 62  job_info_alt_occ_num_months             float64\n",
      " 63  job_info_combo_occupation               object \n",
      " 64  job_info_education                      object \n",
      " 65  job_info_education_other                object \n",
      " 66  job_info_experience                     object \n",
      " 67  job_info_experience_num_months          float64\n",
      " 68  job_info_foreign_ed                     object \n",
      " 69  job_info_foreign_lang_req               object \n",
      " 70  job_info_job_req_normal                 object \n",
      " 71  job_info_job_title                      object \n",
      " 72  job_info_major                          object \n",
      " 73  job_info_training                       object \n",
      " 74  job_info_training_field                 object \n",
      " 75  job_info_training_num_months            float64\n",
      " 76  job_info_work_city                      object \n",
      " 77  job_info_work_postal_code               object \n",
      " 78  job_info_work_state                     object \n",
      " 79  naics_2007_us_code                      object \n",
      " 80  naics_2007_us_title                     object \n",
      " 81  naics_code                              object \n",
      " 82  naics_title                             object \n",
      " 83  naics_us_code                           object \n",
      " 84  naics_us_code_2007                      object \n",
      " 85  naics_us_title                          object \n",
      " 86  naics_us_title_2007                     object \n",
      " 87  orig_case_no                            object \n",
      " 88  orig_file_date                          object \n",
      " 89  preparer_info_emp_completed             object \n",
      " 90  preparer_info_title                     object \n",
      " 91  pw_amount_9089                          object \n",
      " 92  pw_determ_date                          object \n",
      " 93  pw_expire_date                          object \n",
      " 94  pw_job_title_908                        object \n",
      " 95  pw_job_title_9089                       object \n",
      " 96  pw_level_9089                           object \n",
      " 97  pw_soc_code                             object \n",
      " 98  pw_soc_title                            object \n",
      " 99  pw_source_name_9089                     object \n",
      " 100 pw_source_name_other_9089               object \n",
      " 101 pw_track_num                            object \n",
      " 102 pw_unit_of_pay_9089                     object \n",
      " 103 rec_info_barg_rep_notified              object \n",
      " 104 recr_info_barg_rep_notified             object \n",
      " 105 recr_info_coll_teach_comp_proc          object \n",
      " 106 recr_info_coll_univ_teacher             object \n",
      " 107 recr_info_employer_rec_payment          object \n",
      " 108 recr_info_first_ad_start                object \n",
      " 109 recr_info_job_fair_from                 object \n",
      " 110 recr_info_job_fair_to                   object \n",
      " 111 recr_info_on_campus_recr_from           object \n",
      " 112 recr_info_on_campus_recr_to             object \n",
      " 113 recr_info_pro_org_advert_from           object \n",
      " 114 recr_info_pro_org_advert_to             object \n",
      " 115 recr_info_prof_org_advert_from          object \n",
      " 116 recr_info_prof_org_advert_to            object \n",
      " 117 recr_info_professional_occ              object \n",
      " 118 recr_info_radio_tv_ad_from              object \n",
      " 119 recr_info_radio_tv_ad_to                object \n",
      " 120 recr_info_second_ad_start               object \n",
      " 121 recr_info_sunday_newspaper              object \n",
      " 122 recr_info_swa_job_order_end             object \n",
      " 123 recr_info_swa_job_order_start           object \n",
      " 124 refile                                  object \n",
      " 125 ri_1st_ad_newspaper_name                object \n",
      " 126 ri_2nd_ad_newspaper_name                object \n",
      " 127 ri_2nd_ad_newspaper_or_journal          object \n",
      " 128 ri_campus_placement_from                object \n",
      " 129 ri_campus_placement_to                  object \n",
      " 130 ri_coll_tch_basic_process               object \n",
      " 131 ri_coll_teach_pro_jnl                   object \n",
      " 132 ri_coll_teach_select_date               object \n",
      " 133 ri_employee_referral_prog_from          object \n",
      " 134 ri_employee_referral_prog_to            object \n",
      " 135 ri_employer_web_post_from               object \n",
      " 136 ri_employer_web_post_to                 object \n",
      " 137 ri_job_search_website_from              object \n",
      " 138 ri_job_search_website_to                object \n",
      " 139 ri_layoff_in_past_six_months            object \n",
      " 140 ri_local_ethnic_paper_from              object \n",
      " 141 ri_local_ethnic_paper_to                object \n",
      " 142 ri_posted_notice_at_worksite            object \n",
      " 143 ri_pvt_employment_firm_from             object \n",
      " 144 ri_pvt_employment_firm_to               object \n",
      " 145 ri_us_workers_considered                object \n",
      " 146 schd_a_sheepherder                      object \n",
      " 147 us_economic_sector                      object \n",
      " 148 wage_offer_from_9089                    object \n",
      " 149 wage_offer_to_9089                      object \n",
      " 150 wage_offer_unit_of_pay_9089             object \n",
      " 151 wage_offered_from_9089                  float64\n",
      " 152 wage_offered_to_9089                    float64\n",
      " 153 wage_offered_unit_of_pay_9089           object \n",
      "dtypes: float64(10), object(144)\n",
      "memory usage: 439.8+ MB\n"
     ]
    }
   ],
   "source": [
    "df.info(verbose=True)"
   ]
  },
  {
   "cell_type": "code",
   "execution_count": 8,
   "metadata": {
    "scrolled": false
   },
   "outputs": [
    {
     "data": {
      "text/plain": [
       "add_these_pw_job_title_9089       object\n",
       "agent_city                        object\n",
       "agent_firm_name                   object\n",
       "agent_state                       object\n",
       "application_type                  object\n",
       "                                  ...   \n",
       "wage_offer_to_9089                object\n",
       "wage_offer_unit_of_pay_9089       object\n",
       "wage_offered_from_9089           float64\n",
       "wage_offered_to_9089             float64\n",
       "wage_offered_unit_of_pay_9089     object\n",
       "Length: 154, dtype: object"
      ]
     },
     "execution_count": 8,
     "metadata": {},
     "output_type": "execute_result"
    }
   ],
   "source": [
    "df.dtypes"
   ]
  },
  {
   "cell_type": "code",
   "execution_count": 9,
   "metadata": {
    "scrolled": true
   },
   "outputs": [
    {
     "name": "stdout",
     "output_type": "stream",
     "text": [
      "Attribute 'add_these_pw_job_title_9089' contains  332168  missing values\n",
      "Attribute 'agent_city' contains  162908  missing values\n",
      "Attribute 'agent_firm_name' contains  167365  missing values\n",
      "Attribute 'agent_state' contains  166123  missing values\n",
      "Attribute 'application_type' contains  239093  missing values\n",
      "Attribute 'case_no' contains  239093  missing values\n",
      "Attribute 'case_number' contains  135269  missing values\n",
      "Attribute 'case_received_date' contains  135271  missing values\n",
      "Attribute 'case_status' contains  0  missing values\n",
      "Attribute 'class_of_admission' contains  22845  missing values\n",
      "Attribute 'country_of_citizenship' contains  20633  missing values\n",
      "Attribute 'country_of_citzenship' contains  353788  missing values\n",
      "Attribute 'decision_date' contains  0  missing values\n",
      "Attribute 'employer_address_1' contains  42  missing values\n",
      "Attribute 'employer_address_2' contains  149193  missing values\n",
      "Attribute 'employer_city' contains  14  missing values\n",
      "Attribute 'employer_country' contains  135343  missing values\n",
      "Attribute 'employer_decl_info_title' contains  135308  missing values\n",
      "Attribute 'employer_name' contains  12  missing values\n",
      "Attribute 'employer_num_employees' contains  135349  missing values\n",
      "Attribute 'employer_phone' contains  135305  missing values\n",
      "Attribute 'employer_phone_ext' contains  350901  missing values\n",
      "Attribute 'employer_postal_code' contains  37  missing values\n",
      "Attribute 'employer_state' contains  42  missing values\n",
      "Attribute 'employer_yr_estab' contains  135404  missing values\n",
      "Attribute 'foreign_worker_info_alt_edu_experience' contains  285737  missing values\n",
      "Attribute 'foreign_worker_info_birth_country' contains  285734  missing values\n",
      "Attribute 'foreign_worker_info_city' contains  135297  missing values\n",
      "Attribute 'foreign_worker_info_education' contains  135309  missing values\n",
      "Attribute 'foreign_worker_info_education_other' contains  370422  missing values\n",
      "Attribute 'foreign_worker_info_inst' contains  153996  missing values\n",
      "Attribute 'foreign_worker_info_major' contains  154972  missing values\n",
      "Attribute 'foreign_worker_info_postal_code' contains  288465  missing values\n",
      "Attribute 'foreign_worker_info_rel_occup_exp' contains  285729  missing values\n",
      "Attribute 'foreign_worker_info_req_experience' contains  285727  missing values\n",
      "Attribute 'foreign_worker_info_state' contains  152464  missing values\n",
      "Attribute 'foreign_worker_info_training_comp' contains  285728  missing values\n",
      "Attribute 'foreign_worker_ownership_interest' contains  285724  missing values\n",
      "Attribute 'foreign_worker_yr_rel_edu_completed' contains  290998  missing values\n",
      "Attribute 'fw_info_alt_edu_experience' contains  223916  missing values\n",
      "Attribute 'fw_info_birth_country' contains  223928  missing values\n",
      "Attribute 'fw_info_education_other' contains  224347  missing values\n",
      "Attribute 'fw_info_postal_code' contains  226143  missing values\n",
      "Attribute 'fw_info_rel_occup_exp' contains  223919  missing values\n",
      "Attribute 'fw_info_req_experience' contains  223915  missing values\n",
      "Attribute 'fw_info_training_comp' contains  223918  missing values\n",
      "Attribute 'fw_info_yr_rel_edu_completed' contains  237164  missing values\n",
      "Attribute 'fw_ownership_interest' contains  223917  missing values\n",
      "Attribute 'ji_foreign_worker_live_on_premises' contains  285725  missing values\n",
      "Attribute 'ji_fw_live_on_premises' contains  223916  missing values\n",
      "Attribute 'ji_live_in_dom_svc_contract' contains  371964  missing values\n",
      "Attribute 'ji_live_in_domestic_service' contains  135282  missing values\n",
      "Attribute 'ji_offered_to_sec_j_foreign_worker' contains  285725  missing values\n",
      "Attribute 'ji_offered_to_sec_j_fw' contains  223916  missing values\n",
      "Attribute 'job_info_alt_cmb_ed_oth_yrs' contains  304142  missing values\n",
      "Attribute 'job_info_alt_combo_ed' contains  303814  missing values\n",
      "Attribute 'job_info_alt_combo_ed_exp' contains  135304  missing values\n",
      "Attribute 'job_info_alt_combo_ed_other' contains  365148  missing values\n",
      "Attribute 'job_info_alt_field' contains  135303  missing values\n",
      "Attribute 'job_info_alt_field_name' contains  280934  missing values\n",
      "Attribute 'job_info_alt_occ' contains  225342  missing values\n",
      "Attribute 'job_info_alt_occ_job_title' contains  226962  missing values\n",
      "Attribute 'job_info_alt_occ_num_months' contains  227162  missing values\n",
      "Attribute 'job_info_combo_occupation' contains  135279  missing values\n",
      "Attribute 'job_info_education' contains  135282  missing values\n",
      "Attribute 'job_info_education_other' contains  366593  missing values\n",
      "Attribute 'job_info_experience' contains  135281  missing values\n",
      "Attribute 'job_info_experience_num_months' contains  241174  missing values\n",
      "Attribute 'job_info_foreign_ed' contains  135500  missing values\n",
      "Attribute 'job_info_foreign_lang_req' contains  135286  missing values\n",
      "Attribute 'job_info_job_req_normal' contains  135283  missing values\n",
      "Attribute 'job_info_job_title' contains  135313  missing values\n",
      "Attribute 'job_info_major' contains  161723  missing values\n",
      "Attribute 'job_info_training' contains  135284  missing values\n",
      "Attribute 'job_info_training_field' contains  369883  missing values\n",
      "Attribute 'job_info_training_num_months' contains  369583  missing values\n",
      "Attribute 'job_info_work_city' contains  102  missing values\n",
      "Attribute 'job_info_work_postal_code' contains  135353  missing values\n",
      "Attribute 'job_info_work_state' contains  103  missing values\n",
      "Attribute 'naics_2007_us_code' contains  353846  missing values\n",
      "Attribute 'naics_2007_us_title' contains  354462  missing values\n",
      "Attribute 'naics_code' contains  285929  missing values\n",
      "Attribute 'naics_title' contains  285929  missing values\n",
      "Attribute 'naics_us_code' contains  224233  missing values\n",
      "Attribute 'naics_us_code_2007' contains  260061  missing values\n",
      "Attribute 'naics_us_title' contains  224233  missing values\n",
      "Attribute 'naics_us_title_2007' contains  263116  missing values\n",
      "Attribute 'orig_case_no' contains  374068  missing values\n",
      "Attribute 'orig_file_date' contains  374081  missing values\n",
      "Attribute 'preparer_info_emp_completed' contains  135308  missing values\n",
      "Attribute 'preparer_info_title' contains  164075  missing values\n",
      "Attribute 'pw_amount_9089' contains  2216  missing values\n",
      "Attribute 'pw_determ_date' contains  135587  missing values\n",
      "Attribute 'pw_expire_date' contains  135668  missing values\n",
      "Attribute 'pw_job_title_908' contains  223983  missing values\n",
      "Attribute 'pw_job_title_9089' contains  150771  missing values\n",
      "Attribute 'pw_level_9089' contains  27627  missing values\n",
      "Attribute 'pw_soc_code' contains  397  missing values\n",
      "Attribute 'pw_soc_title' contains  2336  missing values\n",
      "Attribute 'pw_source_name_9089' contains  2099  missing values\n",
      "Attribute 'pw_source_name_other_9089' contains  358603  missing values\n",
      "Attribute 'pw_track_num' contains  137236  missing values\n",
      "Attribute 'pw_unit_of_pay_9089' contains  1572  missing values\n",
      "Attribute 'rec_info_barg_rep_notified' contains  285788  missing values\n",
      "Attribute 'recr_info_barg_rep_notified' contains  223932  missing values\n",
      "Attribute 'recr_info_coll_teach_comp_proc' contains  367341  missing values\n",
      "Attribute 'recr_info_coll_univ_teacher' contains  135300  missing values\n",
      "Attribute 'recr_info_employer_rec_payment' contains  135289  missing values\n",
      "Attribute 'recr_info_first_ad_start' contains  141429  missing values\n",
      "Attribute 'recr_info_job_fair_from' contains  372564  missing values\n",
      "Attribute 'recr_info_job_fair_to' contains  372569  missing values\n",
      "Attribute 'recr_info_on_campus_recr_from' contains  372490  missing values\n",
      "Attribute 'recr_info_on_campus_recr_to' contains  372497  missing values\n",
      "Attribute 'recr_info_pro_org_advert_from' contains  360286  missing values\n",
      "Attribute 'recr_info_pro_org_advert_to' contains  360292  missing values\n",
      "Attribute 'recr_info_prof_org_advert_from' contains  346269  missing values\n",
      "Attribute 'recr_info_prof_org_advert_to' contains  346276  missing values\n",
      "Attribute 'recr_info_professional_occ' contains  135286  missing values\n",
      "Attribute 'recr_info_radio_tv_ad_from' contains  354009  missing values\n",
      "Attribute 'recr_info_radio_tv_ad_to' contains  354008  missing values\n",
      "Attribute 'recr_info_second_ad_start' contains  141466  missing values\n",
      "Attribute 'recr_info_sunday_newspaper' contains  141340  missing values\n",
      "Attribute 'recr_info_swa_job_order_end' contains  141465  missing values\n",
      "Attribute 'recr_info_swa_job_order_start' contains  141443  missing values\n",
      "Attribute 'refile' contains  256283  missing values\n",
      "Attribute 'ri_1st_ad_newspaper_name' contains  137634  missing values\n",
      "Attribute 'ri_2nd_ad_newspaper_name' contains  137666  missing values\n",
      "Attribute 'ri_2nd_ad_newspaper_or_journal' contains  141448  missing values\n",
      "Attribute 'ri_campus_placement_from' contains  344359  missing values\n",
      "Attribute 'ri_campus_placement_to' contains  344369  missing values\n",
      "Attribute 'ri_coll_tch_basic_process' contains  367349  missing values\n",
      "Attribute 'ri_coll_teach_pro_jnl' contains  221788  missing values\n"
     ]
    },
    {
     "name": "stdout",
     "output_type": "stream",
     "text": [
      "Attribute 'ri_coll_teach_select_date' contains  368632  missing values\n",
      "Attribute 'ri_employee_referral_prog_from' contains  305641  missing values\n",
      "Attribute 'ri_employee_referral_prog_to' contains  305640  missing values\n",
      "Attribute 'ri_employer_web_post_from' contains  237726  missing values\n",
      "Attribute 'ri_employer_web_post_to' contains  237748  missing values\n",
      "Attribute 'ri_job_search_website_from' contains  177571  missing values\n",
      "Attribute 'ri_job_search_website_to' contains  177581  missing values\n",
      "Attribute 'ri_layoff_in_past_six_months' contains  135303  missing values\n",
      "Attribute 'ri_local_ethnic_paper_from' contains  253481  missing values\n",
      "Attribute 'ri_local_ethnic_paper_to' contains  253481  missing values\n",
      "Attribute 'ri_posted_notice_at_worksite' contains  135360  missing values\n",
      "Attribute 'ri_pvt_employment_firm_from' contains  357920  missing values\n",
      "Attribute 'ri_pvt_employment_firm_to' contains  357922  missing values\n",
      "Attribute 'ri_us_workers_considered' contains  357129  missing values\n",
      "Attribute 'schd_a_sheepherder' contains  135288  missing values\n",
      "Attribute 'us_economic_sector' contains  245294  missing values\n",
      "Attribute 'wage_offer_from_9089' contains  114771  missing values\n",
      "Attribute 'wage_offer_to_9089' contains  300728  missing values\n",
      "Attribute 'wage_offer_unit_of_pay_9089' contains  115916  missing values\n",
      "Attribute 'wage_offered_from_9089' contains  259715  missing values\n",
      "Attribute 'wage_offered_to_9089' contains  343347  missing values\n",
      "Attribute 'wage_offered_unit_of_pay_9089' contains  303663  missing values\n"
     ]
    }
   ],
   "source": [
    "# Displaying number of missing values in each column\n",
    "for column in df.columns:\n",
    "    print(\"Attribute '{}' contains \".format(column),  df[column].isnull().sum().sum(), \" missing values\")"
   ]
  },
  {
   "cell_type": "markdown",
   "metadata": {},
   "source": [
    "## Data Cleaning"
   ]
  },
  {
   "cell_type": "markdown",
   "metadata": {},
   "source": [
    "### 1. Visa Information\n",
    "\n",
    "\"case_number\",\"case_received_date\",\"case_status\",\"class_of_admission\",\"decision_date\""
   ]
  },
  {
   "cell_type": "code",
   "execution_count": 10,
   "metadata": {
    "scrolled": false
   },
   "outputs": [],
   "source": [
    "df['case_received_date'] = pd.to_datetime(df.case_received_date, format='%Y-%m-%d')\n",
    "\n",
    "#Converting the date to contain just the year of application submission\n",
    "df['case_received_year'] = df['case_received_date'].dt.year\n",
    "df[\"case_received_year\"]=df[\"case_received_year\"].fillna((df[\"case_received_year\"].mean()))"
   ]
  },
  {
   "cell_type": "code",
   "execution_count": 11,
   "metadata": {},
   "outputs": [],
   "source": [
    "df['case_received_year'] = df['case_received_year'].astype(int)"
   ]
  },
  {
   "cell_type": "code",
   "execution_count": 12,
   "metadata": {
    "scrolled": true
   },
   "outputs": [
    {
     "name": "stdout",
     "output_type": "stream",
     "text": [
      "['Certified' 'Denied' 'Certified-Expired' 'Withdrawn']\n"
     ]
    }
   ],
   "source": [
    "print(df[\"case_status\"].unique())"
   ]
  },
  {
   "cell_type": "code",
   "execution_count": 13,
   "metadata": {
    "scrolled": true
   },
   "outputs": [
    {
     "name": "stdout",
     "output_type": "stream",
     "text": [
      "['J-1' 'B-2' 'H-1B' 'L-1' 'EWI' 'E-2' nan 'E-1' 'H-2B' 'TPS' 'F-1' 'B-1'\n",
      " 'C-1' 'Not in USA' 'TN' 'H-4' 'O-1' 'R-1' 'L-2' 'Q' 'F-2' 'H-1B1'\n",
      " 'Parolee' 'G-5' 'E-3' 'H-2A' 'VWT' 'P-1' 'A1/A2' 'D-1' 'A-3' 'R-2' 'H-1C'\n",
      " 'H-3' 'J-2' 'P-4' 'I' 'H-1A' 'G-1' 'VWB' 'G-4' 'P-3' 'AOS/H-1B' 'O-3'\n",
      " 'Parol' 'O-2' 'H1B' 'N' 'T-1' 'TD' 'M-1' 'K-1' 'U-1' 'AOS' 'P-2' 'C-3'\n",
      " 'V-2' 'M-2']\n"
     ]
    },
    {
     "data": {
      "text/plain": [
       "H-1B          283018\n",
       "L-1            19938\n",
       "F-1            14946\n",
       "Not in USA      8588\n",
       "TN              4265\n",
       "E-2             4237\n",
       "B-2             3333\n",
       "Parolee         2678\n",
       "EWI             1955\n",
       "J-1              963\n",
       "F-2              960\n",
       "E-3              878\n",
       "O-1              805\n",
       "H-4              739\n",
       "B-1              620\n",
       "H-1B1            551\n",
       "E-1              549\n",
       "L-2              531\n",
       "H-2B             412\n",
       "TPS              187\n",
       "P-1              178\n",
       "H-2A             157\n",
       "A1/A2            155\n",
       "R-1              112\n",
       "G-4              108\n",
       "J-2              101\n",
       "I                 82\n",
       "G-5               64\n",
       "VWT               58\n",
       "H-1A              41\n",
       "C-1               40\n",
       "P-3               40\n",
       "H-3               37\n",
       "A-3               29\n",
       "M-1               26\n",
       "O-2               20\n",
       "TD                15\n",
       "O-3               12\n",
       "G-1               11\n",
       "VWB               10\n",
       "H-1C               8\n",
       "R-2                7\n",
       "C-3                7\n",
       "Parol              6\n",
       "D-1                6\n",
       "P-4                6\n",
       "Q                  5\n",
       "N                  4\n",
       "T-1                4\n",
       "M-2                3\n",
       "P-2                2\n",
       "AOS/H-1B           2\n",
       "U-1                2\n",
       "V-2                2\n",
       "K-1                2\n",
       "AOS                1\n",
       "H1B                1\n",
       "Name: class_of_admission, dtype: int64"
      ]
     },
     "execution_count": 13,
     "metadata": {},
     "output_type": "execute_result"
    }
   ],
   "source": [
    "print(df[\"class_of_admission\"].unique())\n",
    "df.class_of_admission.value_counts()"
   ]
  },
  {
   "cell_type": "code",
   "execution_count": 14,
   "metadata": {
    "scrolled": true
   },
   "outputs": [],
   "source": [
    "df[\"class_of_admission\"]=df[\"class_of_admission\"].fillna((df[\"class_of_admission\"].mode()[0]))"
   ]
  },
  {
   "cell_type": "code",
   "execution_count": 15,
   "metadata": {
    "scrolled": true
   },
   "outputs": [
    {
     "data": {
      "text/plain": [
       "Certified    330519\n",
       "Denied        25649\n",
       "Name: case_status, dtype: int64"
      ]
     },
     "execution_count": 15,
     "metadata": {},
     "output_type": "execute_result"
    }
   ],
   "source": [
    "df = df[df.case_status != 'Withdrawn']\n",
    "\n",
    "#Combining certified-expired and certified applications and displaying distribution of \"case_status\" variable\n",
    "df.loc[df.case_status == 'Certified-Expired', 'case_status'] = 'Certified'\n",
    "df.case_status.value_counts()"
   ]
  },
  {
   "cell_type": "code",
   "execution_count": 16,
   "metadata": {},
   "outputs": [],
   "source": [
    "df['decision_date'] = pd.to_datetime(df.decision_date, format='%Y-%m-%d')\n",
    "\n",
    "#Converting the date to contain just the year of application submission\n",
    "df['decision_year'] = df['decision_date'].dt.year\n",
    "df['decision_year'] = df['decision_date'].astype(int)"
   ]
  },
  {
   "cell_type": "markdown",
   "metadata": {},
   "source": [
    "### 2. Employer Information\n",
    "\n",
    "\"employer_city\",\"employer_country\",\"employer_name\",\"employer_num_employees\",\"employer_state\",\"employer_yr_estab\""
   ]
  },
  {
   "cell_type": "code",
   "execution_count": 17,
   "metadata": {
    "scrolled": true
   },
   "outputs": [
    {
     "name": "stdout",
     "output_type": "stream",
     "text": [
      "[nan 'UNITED STATES OF AMERICA' 'CANADA' 'GERMANY' 'SOUTH KOREA'\n",
      " 'CAMEROON' 'JAPAN']\n"
     ]
    },
    {
     "data": {
      "text/plain": [
       "UNITED STATES OF AMERICA    229235\n",
       "CANADA                           7\n",
       "GERMANY                          2\n",
       "CAMEROON                         2\n",
       "JAPAN                            1\n",
       "SOUTH KOREA                      1\n",
       "Name: employer_country, dtype: int64"
      ]
     },
     "execution_count": 17,
     "metadata": {},
     "output_type": "execute_result"
    }
   ],
   "source": [
    "print(df[\"employer_country\"].unique())\n",
    "df.employer_country.value_counts()"
   ]
  },
  {
   "cell_type": "code",
   "execution_count": 18,
   "metadata": {
    "scrolled": true
   },
   "outputs": [
    {
     "data": {
      "text/plain": [
       "UNITED STATES OF AMERICA    229235\n",
       "CANADA                           7\n",
       "GERMANY                          2\n",
       "CAMEROON                         2\n",
       "JAPAN                            1\n",
       "SOUTH KOREA                      1\n",
       "Name: employer_country, dtype: int64"
      ]
     },
     "execution_count": 18,
     "metadata": {},
     "output_type": "execute_result"
    }
   ],
   "source": [
    "df[\"employer_country\"].fillna({\"employer_country\":\"Unknown\"});\n",
    "df.employer_country.value_counts()"
   ]
  },
  {
   "cell_type": "code",
   "execution_count": 19,
   "metadata": {
    "scrolled": true
   },
   "outputs": [
    {
     "data": {
      "text/plain": [
       "CALIFORNIA                  48312\n",
       "CA                          40868\n",
       "TEXAS                       23865\n",
       "TX                          19369\n",
       "NEW JERSEY                  15318\n",
       "                            ...  \n",
       "NORTHERN MARIANA ISLANDS       22\n",
       "VI                             18\n",
       "BRITISH COLUMBIA                3\n",
       "BC                              1\n",
       "MARSHALL ISLANDS                1\n",
       "Name: employer_state, Length: 113, dtype: int64"
      ]
     },
     "execution_count": 19,
     "metadata": {},
     "output_type": "execute_result"
    }
   ],
   "source": [
    "df.employer_state.value_counts()"
   ]
  },
  {
   "cell_type": "code",
   "execution_count": 20,
   "metadata": {},
   "outputs": [],
   "source": [
    "state_abbrevs = {\n",
    "    'Alabama': 'AL',\n",
    "    'Alaska': 'AK',\n",
    "    'Arizona': 'AZ',\n",
    "    'Arkansas': 'AR',\n",
    "    'British Columbia': 'BC',\n",
    "    'California': 'CA',\n",
    "    'Colorado': 'CO',\n",
    "    'Connecticut': 'CT',\n",
    "    'Delaware': 'DE',\n",
    "    'District of Columbia': 'DC',\n",
    "    'Florida': 'FL',\n",
    "    'Georgia': 'GA',\n",
    "    'Guam':'GU',\n",
    "    'Hawaii': 'HI',\n",
    "    'Idaho': 'ID',\n",
    "    'Illinois': 'IL',\n",
    "    'Indiana': 'IN',\n",
    "    'Iowa': 'IA',\n",
    "    'Kansas': 'KS',\n",
    "    'Kentucky': 'KY',\n",
    "    'Louisiana': 'LA',\n",
    "    'Maine': 'ME',\n",
    "    'Marshall Islands':'MH',\n",
    "    'Maryland': 'MD',\n",
    "    'Massachusetts': 'MA',\n",
    "    'Michigan': 'MI',\n",
    "    'Minnesota': 'MN',\n",
    "    'Mississippi': 'MS',\n",
    "    'Missouri': 'MO',\n",
    "    'Montana': 'MT',\n",
    "    'Nebraska': 'NE',\n",
    "    'Nevada': 'NV',\n",
    "    'New Hampshire': 'NH',\n",
    "    'New Jersey': 'NJ',\n",
    "    'New Mexico': 'NM',\n",
    "    'New York': 'NY',\n",
    "    'North Carolina': 'NC',\n",
    "    'North Dakota': 'ND',\n",
    "    'Ohio': 'OH',\n",
    "    'Oklahoma': 'OK',\n",
    "    'Oregon': 'OR',\n",
    "    'Pennsylvania': 'PA',\n",
    "    'Rhode Island': 'RI',\n",
    "    'South Carolina': 'SC',\n",
    "    'South Dakota': 'SD',\n",
    "    'Tennessee': 'TN',\n",
    "    'Texas': 'TX',\n",
    "    'Utah': 'UT',\n",
    "    'Vermont': 'VT',\n",
    "    'Virginia': 'VA',\n",
    "    'Washington': 'WA',\n",
    "    'West Virginia': 'WV',\n",
    "    'Wisconsin': 'WI',\n",
    "    'Wyoming': 'WY',\n",
    "    'Northern Mariana Islands':'MP', \n",
    "    'Palau': 'PW', \n",
    "    'Puerto Rico': 'PR', \n",
    "    'Virgin Islands': 'VI' \n",
    "}"
   ]
  },
  {
   "cell_type": "code",
   "execution_count": 21,
   "metadata": {
    "scrolled": true
   },
   "outputs": [],
   "source": [
    "state_abbrev = {k.upper(): v for k, v in state_abbrevs.items()}\n",
    "df[\"employer_state\"].replace(state_abbrev, inplace=True)\n",
    "df.employer_state = df.employer_state.astype(str)"
   ]
  },
  {
   "cell_type": "code",
   "execution_count": 22,
   "metadata": {
    "scrolled": false
   },
   "outputs": [],
   "source": [
    "df[\"employer_state\"]=df[\"employer_state\"].fillna((df[\"employer_state\"].mode()[0]))"
   ]
  },
  {
   "cell_type": "code",
   "execution_count": 23,
   "metadata": {},
   "outputs": [
    {
     "data": {
      "text/plain": [
       "CA     89180\n",
       "TX     43234\n",
       "NJ     28638\n",
       "NY     26821\n",
       "WA     16478\n",
       "IL     15389\n",
       "MA     12676\n",
       "MI     11499\n",
       "PA     11424\n",
       "VA     11321\n",
       "FL     11035\n",
       "GA     10681\n",
       "NC      7734\n",
       "OH      5831\n",
       "MD      5420\n",
       "CT      3501\n",
       "WI      3287\n",
       "MO      3180\n",
       "AZ      3007\n",
       "MN      2773\n",
       "IN      2769\n",
       "CO      2564\n",
       "SC      2271\n",
       "AL      2129\n",
       "TN      2116\n",
       "KY      1600\n",
       "DC      1563\n",
       "AR      1512\n",
       "IA      1425\n",
       "KS      1412\n",
       "DE      1316\n",
       "LA      1174\n",
       "NE      1174\n",
       "OR      1079\n",
       "UT      1068\n",
       "OK       805\n",
       "RI       790\n",
       "NV       686\n",
       "NM       684\n",
       "NH       622\n",
       "ID       599\n",
       "MS       559\n",
       "VT       458\n",
       "ND       393\n",
       "ME       382\n",
       "GU       346\n",
       "SD       305\n",
       "WV       298\n",
       "HI       255\n",
       "PR       181\n",
       "MT       131\n",
       "WY       113\n",
       "AK       102\n",
       "MP        69\n",
       "VI        67\n",
       "nan       37\n",
       "BC         4\n",
       "MH         1\n",
       "Name: employer_state, dtype: int64"
      ]
     },
     "execution_count": 23,
     "metadata": {},
     "output_type": "execute_result"
    }
   ],
   "source": [
    "df = df[df['employer_state'].notna()]\n",
    "df.employer_state.value_counts()"
   ]
  },
  {
   "cell_type": "code",
   "execution_count": 24,
   "metadata": {},
   "outputs": [],
   "source": [
    "df[\"employer_name\"]=df[\"employer_name\"].fillna((df[\"employer_name\"].mode()[0]))\n",
    "df[\"employer_name\"]=df[\"employer_name\"].astype(str).str.upper()"
   ]
  },
  {
   "cell_type": "code",
   "execution_count": 25,
   "metadata": {
    "scrolled": true
   },
   "outputs": [
    {
     "data": {
      "text/plain": [
       "29000.0    4572\n",
       "35000.0    4391\n",
       "60000.0    3816\n",
       "40000.0    2632\n",
       "5.0        2493\n",
       "           ... \n",
       "3046.0        1\n",
       "3206.0        1\n",
       "9418.0        1\n",
       "3870.0        1\n",
       "11919.0       1\n",
       "Name: employer_num_employees, Length: 4531, dtype: int64"
      ]
     },
     "execution_count": 25,
     "metadata": {},
     "output_type": "execute_result"
    }
   ],
   "source": [
    "df.employer_num_employees.value_counts()"
   ]
  },
  {
   "cell_type": "code",
   "execution_count": 26,
   "metadata": {
    "scrolled": false
   },
   "outputs": [
    {
     "data": {
      "text/plain": [
       "22348     126925\n",
       "29000       4572\n",
       "35000       4391\n",
       "60000       3816\n",
       "40000       2632\n",
       "           ...  \n",
       "20886          1\n",
       "9887           1\n",
       "5273           1\n",
       "107203         1\n",
       "15486          1\n",
       "Name: employer_num_employees, Length: 4532, dtype: int64"
      ]
     },
     "execution_count": 26,
     "metadata": {},
     "output_type": "execute_result"
    }
   ],
   "source": [
    "df[\"employer_num_employees\"]=df[\"employer_num_employees\"].fillna((df[\"employer_num_employees\"].mean()))\n",
    "df['employer_num_employees'] = df['employer_num_employees'].astype(int)\n",
    "df.employer_num_employees.value_counts()"
   ]
  },
  {
   "cell_type": "code",
   "execution_count": 27,
   "metadata": {},
   "outputs": [],
   "source": [
    "df[\"employer_yr_estab\"].fillna({\"employer_yr_estab\":\"Unknown\"});"
   ]
  },
  {
   "cell_type": "markdown",
   "metadata": {},
   "source": [
    "### 3. Foreign Worker Information\n",
    "\n",
    "\"country_of_citizenship\",\"foreign_worker_info_education\",\"foreign_worker_info_major\",\n",
    "\"foreign_worker_info_state\",\"fw_info_alt_edu_experience\",\"fw_info_birth_country\",\n",
    "\"fw_info_rel_occup_exp\",\"fw_info_req_experience\""
   ]
  },
  {
   "cell_type": "code",
   "execution_count": 28,
   "metadata": {
    "scrolled": false
   },
   "outputs": [
    {
     "name": "stdout",
     "output_type": "stream",
     "text": [
      "[nan 'BRAZIL' 'ECUADOR' 'INDIA' 'PHILIPPINES' 'COLOMBIA' 'SOUTH KOREA'\n",
      " 'MEXICO' 'GERMANY' 'UNITED KINGDOM' 'UKRAINE' 'EL SALVADOR'\n",
      " 'UNITED STATES OF AMERICA' 'POLAND' 'CHINA' 'FRANCE' 'NIGERIA' 'PERU'\n",
      " 'NETHERLANDS' 'TAIWAN' 'COSTA RICA' 'CANADA' 'BELGIUM' 'ROMANIA'\n",
      " 'HONDURAS' 'JAMAICA' 'SOUTH AFRICA' 'JAPAN' 'PAKISTAN' 'ITALY' 'JORDAN'\n",
      " 'BELARUS' 'ISRAEL' 'SWEDEN' 'TURKEY' 'SPAIN' 'NEPAL' 'VENEZUELA'\n",
      " 'TRINIDAD AND TOBAGO' 'AZERBAIJAN' 'SLOVAKIA' 'GUYANA' 'THAILAND'\n",
      " 'NEW ZEALAND' 'AUSTRALIA' 'GUATEMALA' 'SRI LANKA' 'CROATIA' 'HUNGARY'\n",
      " 'HONG KONG' 'PORTUGAL' 'SINGAPORE' 'SYRIA' 'IRELAND' 'CHILE' 'ARGENTINA'\n",
      " 'BOLIVIA' 'FINLAND' 'BURUNDI' 'URUGUAY' 'ARMENIA' 'GHANA' 'MOROCCO'\n",
      " 'BANGLADESH' 'IRAN' 'INDONESIA' 'VIETNAM' 'ALBANIA' 'BURMA (MYANMAR)'\n",
      " 'PALESTINE' 'GABON' 'MALAYSIA' 'KENYA' 'LEBANON' 'EGYPT' 'LITHUANIA'\n",
      " 'UGANDA' 'BULGARIA' 'ZIMBABWE' 'BELIZE' 'GEORGIA' 'BAHAMAS' 'RUSSIA'\n",
      " 'GREECE' 'CAMEROON' 'DENMARK' 'GAMBIA' 'NICARAGUA' 'AFGHANISTAN' 'IRAQ'\n",
      " 'CZECH REPUBLIC' 'SERBIA AND MONTENEGRO' 'ST LUCIA' 'MONGOLIA' 'SLOVENIA'\n",
      " 'SAUDI ARABIA' 'LIBERIA' 'NORWAY' 'GRENADA' 'SWITZERLAND'\n",
      " 'DOMINICAN REPUBLIC' 'UZBEKISTAN' 'ST KITTS AND NEVIS' 'ESTONIA' 'SUDAN'\n",
      " 'DEMOCRATIC REPUBLIC OF CONGO' 'AUSTRIA' 'FIJI' 'CYPRUS' 'ICELAND'\n",
      " 'KAZAKHSTAN' 'ETHIOPIA' 'MACEDONIA' 'BARBADOS' 'PARAGUAY' 'KOSOVO'\n",
      " 'PANAMA' 'MALI' 'MALDIVES' 'MOLDOVA' 'PAPUA NEW GUINEA' 'TUNISIA'\n",
      " 'CENTRAL AFRICAN REPUBLIC' 'ZAMBIA' 'TAJIKISTAN' 'BOSNIA AND HERZEGOVINA'\n",
      " 'YEMEN' 'LUXEMBOURG' 'ST VINCENT' 'DOMINICA' 'CAMBODIA' 'SURINAME'\n",
      " 'HAITI' 'UNITED ARAB EMIRATES' 'SENEGAL' 'LATVIA' 'OMAN' 'BURKINA FASO'\n",
      " 'TANZANIA' 'MADAGASCAR' 'NORTH KOREA' 'IVORY COAST' 'KUWAIT'\n",
      " 'CAYMAN ISLANDS' 'MOZAMBIQUE' 'BHUTAN' 'TURKMENISTAN' 'MAURITIUS' 'MALTA'\n",
      " 'TOGO' 'LIBYA' 'BOTSWANA' 'BENIN' 'BAHRAIN' 'NIGER' 'BERMUDA' 'MACAU'\n",
      " 'LAOS' 'LESOTHO' 'YUGOSLAVIA' 'VANUATU' 'KYRGYZSTAN' 'ALGERIA' 'ARUBA'\n",
      " 'TURKS AND CAICOS ISLANDS' 'MARSHALL ISLANDS' 'SERBIA' 'GUINEA' 'ERITREA'\n",
      " 'MONTENEGRO' 'SIERRA LEONE' 'RWANDA' 'MALAWI' 'ANGOLA'\n",
      " 'PALESTINIAN TERRITORIES' 'NAMIBIA' 'ANTIGUA AND BARBUDA' 'QATAR'\n",
      " 'MAURITANIA' \"COTE d'IVOIRE\" 'SAINT VINCENT AND THE GRENADINES' 'MONACO'\n",
      " 'GUINEA-BISSAU' 'SEYCHELLES' 'SOUTH SUDAN' 'NETHERLANDS ANTILLES'\n",
      " 'KIRIBATI' 'EQUATORIAL GUINEA' 'SAMOA' 'REPUBLIC OF CONGO'\n",
      " 'BRITISH VIRGIN ISLANDS' 'SAO TOME AND PRINCIPE' 'LIECHTENSTEIN'\n",
      " 'SOMALIA' 'CUBA' 'SWAZILAND' 'ANDORRA' 'SOVIET UNION' 'CHAD' 'COMOROS'\n",
      " 'BRUNEI' 'CAPE VERDE']\n"
     ]
    }
   ],
   "source": [
    "print(df[\"country_of_citizenship\"].unique())"
   ]
  },
  {
   "cell_type": "code",
   "execution_count": 29,
   "metadata": {},
   "outputs": [
    {
     "name": "stdout",
     "output_type": "stream",
     "text": [
      "[nan \"Bachelor's\" 'None' 'Doctorate' \"Master's\" 'Other' 'High School'\n",
      " \"Associate's\"]\n"
     ]
    }
   ],
   "source": [
    "print(df[\"foreign_worker_info_education\"].unique())"
   ]
  },
  {
   "cell_type": "code",
   "execution_count": 30,
   "metadata": {
    "scrolled": true
   },
   "outputs": [
    {
     "name": "stdout",
     "output_type": "stream",
     "text": [
      "[nan 'MECHANICAL ENGINEERING' 'MOLECULAR BIOLOGY' ...\n",
      " 'INDUSTRIAL TRIBOLOGY & MAINTENANCE ENGINEERING'\n",
      " 'SECONDARY EDUCATION WITHOUT TEACHING LICENSURE'\n",
      " 'BUSINESS ADMINISTRATION AND LOGISTICS']\n"
     ]
    }
   ],
   "source": [
    "print(df[\"foreign_worker_info_major\"].unique())"
   ]
  },
  {
   "cell_type": "code",
   "execution_count": 31,
   "metadata": {
    "scrolled": false
   },
   "outputs": [
    {
     "name": "stdout",
     "output_type": "stream",
     "text": [
      "[nan 'WISCONSIN' 'COLORADO' 'WASHINGTON' 'MICHIGAN' 'NEW YORK' 'GEORGIA'\n",
      " 'KANSAS' 'TEXAS' 'NEW JERSEY' 'CALIFORNIA' 'MISSOURI' 'PENNSYLVANIA'\n",
      " 'MARYLAND' 'MASSACHUSETTS' 'VIRGINIA' 'ILLINOIS' 'MINNESOTA' 'FLORIDA'\n",
      " 'OHIO' 'IOWA' 'INDIANA' 'ALABAMA' 'NORTH CAROLINA' 'CONNECTICUT'\n",
      " 'TENNESSEE' 'NEW HAMPSHIRE' 'ARIZONA' 'OREGON' 'ALASKA' 'LOUISIANA'\n",
      " 'NEBRASKA' 'ARKANSAS' 'HAWAII' 'UTAH' 'PUERTO RICO' 'RHODE ISLAND'\n",
      " 'VIRGIN ISLANDS' 'OKLAHOMA' 'MAINE' 'NEW MEXICO' 'DELAWARE' 'KENTUCKY'\n",
      " 'WEST VIRGINIA' 'IDAHO' 'SOUTH CAROLINA' 'DISTRICT OF COLUMBIA' 'VERMONT'\n",
      " 'GUAM' 'NORTH DAKOTA' 'MISSISSIPPI' 'MONTANA' 'NEVADA' 'SOUTH DAKOTA'\n",
      " 'WYOMING' 'NORTHERN MARIANA ISLANDS' 'MARSHALL ISLANDS' 'MO' 'CA' 'MA'\n",
      " 'GA' 'TX' 'IL' 'AZ' 'PA' 'NJ' 'NY' 'NC' 'MN' 'MI' 'VA' 'FL' 'UT' 'MS'\n",
      " 'KS' 'WI' 'KY' 'OH' 'CT' 'WA' 'OK' 'NV' 'NE' 'TN' 'CO' 'MD' 'OR' 'AL'\n",
      " 'IA' 'GU' 'AK' 'DC' 'NH' 'RI' 'IN' 'DE' 'NM' 'LA' 'SC' 'ME' 'SD' 'AR'\n",
      " 'HI' 'WV' 'VT' 'ID' 'MT' 'ND' 'WY' 'PR' 'MP' 'VI' 'MH']\n"
     ]
    }
   ],
   "source": [
    "print(df[\"foreign_worker_info_state\"].unique())"
   ]
  },
  {
   "cell_type": "code",
   "execution_count": 32,
   "metadata": {},
   "outputs": [
    {
     "name": "stdout",
     "output_type": "stream",
     "text": [
      "[nan 'A' 'N' 'Y']\n"
     ]
    }
   ],
   "source": [
    "print(df[\"fw_info_alt_edu_experience\"].unique())"
   ]
  },
  {
   "cell_type": "code",
   "execution_count": 33,
   "metadata": {
    "scrolled": true
   },
   "outputs": [
    {
     "name": "stdout",
     "output_type": "stream",
     "text": [
      "[nan 'CHINA' 'BRAZIL' 'DENMARK' 'SOUTH AFRICA' 'SOUTH KOREA' 'ARGENTINA'\n",
      " 'MEXICO' 'FRANCE' 'INDIA' 'TURKEY' 'CANADA' 'NIGER' 'PHILIPPINES' 'ITALY'\n",
      " 'UNITED KINGDOM' 'VENEZUELA' 'THAILAND' 'ZAMBIA' 'HAITI' 'NEPAL'\n",
      " 'VIETNAM' 'ECUADOR' 'GERMANY' 'JORDAN' 'SPAIN' 'UKRAINE' 'SAUDI ARABIA'\n",
      " 'IRAN' 'GHANA' 'PAKISTAN' 'RUSSIA' 'NEW ZEALAND' 'ISRAEL' 'BAHAMAS'\n",
      " 'COSTA RICA' 'TAIWAN' 'ICELAND' 'DOMINICAN REPUBLIC' 'NIGERIA' 'LEBANON'\n",
      " 'SWEDEN' 'SYRIA' 'JAPAN' 'CHILE' 'SRI LANKA' 'BANGLADESH' 'BULGARIA'\n",
      " 'NORTH KOREA' 'BAHRAIN' 'HONG KONG' 'NETHERLANDS' 'SINGAPORE' 'JAMAICA'\n",
      " 'NORWAY' 'KUWAIT' 'GRENADA' 'SERBIA' 'MALAYSIA' 'AUSTRIA'\n",
      " 'CZECH REPUBLIC' 'QATAR' 'KENYA' 'GREECE' 'PALESTINE' 'GEORGIA' 'EGYPT'\n",
      " 'LESOTHO' 'COLOMBIA' 'UGANDA' 'ST LUCIA' 'MONGOLIA' 'ALBANIA'\n",
      " 'TURKMENISTAN' 'LIBYA' 'PERU' 'GUATEMALA' 'ROMANIA' 'PORTUGAL' 'SENEGAL'\n",
      " 'INDONESIA' 'EL SALVADOR' 'AUSTRALIA' 'CYPRUS' 'MOLDOVA' 'LATVIA'\n",
      " 'IRELAND' 'URUGUAY' 'ETHIOPIA' 'BELGIUM' 'TANZANIA' 'LITHUANIA' 'POLAND'\n",
      " 'UNITED ARAB EMIRATES' 'BOLIVIA' 'ZIMBABWE' 'SWITZERLAND' 'MOROCCO'\n",
      " 'MALDIVES' 'YUGOSLAVIA' 'TRINIDAD AND TOBAGO' 'BENIN' 'LAOS' 'SLOVAKIA'\n",
      " 'SURINAME' 'MACEDONIA' 'HONDURAS' 'BURKINA FASO' 'HUNGARY' 'AZERBAIJAN'\n",
      " 'IVORY COAST' 'BELARUS' 'ARMENIA' 'CROATIA' 'ERITREA' 'BRUNEI'\n",
      " 'UNITED STATES OF AMERICA' 'CURACAO' 'MALI' 'CAMEROON' 'MAURITIUS'\n",
      " 'BURMA (MYANMAR)' 'FINLAND' 'BELIZE' 'SWAZILAND' 'SLOVENIA' 'UZBEKISTAN'\n",
      " 'BOSNIA AND HERZEGOVINA' 'KAZAKHSTAN' 'BARBADOS' 'BRITISH VIRGIN ISLANDS'\n",
      " 'TUNISIA' 'ESTONIA' 'CUBA' 'NICARAGUA' 'MAURITANIA' 'PARAGUAY'\n",
      " 'AFGHANISTAN' 'SUDAN' 'CZECHOSLOVAKIA' 'ALGERIA' 'DOMINICA' 'TAJIKISTAN'\n",
      " 'ST KITTS AND NEVIS' 'TOGO' 'KYRGYZSTAN' 'MALTA'\n",
      " 'PALESTINIAN TERRITORIES' 'OMAN' 'IRAQ' 'KOSOVO' 'SOMALIA' 'GUYANA'\n",
      " 'MACAU' 'CAMBODIA' 'FIJI' 'ANDORRA' 'PANAMA' 'MADAGASCAR' 'SEYCHELLES'\n",
      " 'SOVIET UNION' 'MALAWI' 'GAMBIA' 'YEMEN' 'DEMOCRATIC REPUBLIC OF CONGO'\n",
      " 'LUXEMBOURG' 'PAPUA NEW GUINEA' 'BOTSWANA' 'SERBIA AND MONTENEGRO'\n",
      " 'MOZAMBIQUE' 'ANGOLA' 'BERMUDA' 'DJIBOUTI' 'ST VINCENT'\n",
      " 'NETHERLANDS ANTILLES' 'ANTIGUA AND BARBUDA' 'REPUBLIC OF CONGO' 'GUINEA'\n",
      " 'NAMIBIA' 'GABON' \"COTE d'IVOIRE\" 'CHAD'\n",
      " 'SAINT VINCENT AND THE GRENADINES' 'BHUTAN' 'SIERRA LEONE' 'MONTENEGRO'\n",
      " 'MONACO' 'RWANDA' 'LIBERIA' 'WESTERN SAMOA' 'CAPE VERDE' 'ARUBA']\n"
     ]
    }
   ],
   "source": [
    "print(df[\"fw_info_birth_country\"].unique())"
   ]
  },
  {
   "cell_type": "code",
   "execution_count": 34,
   "metadata": {
    "scrolled": false
   },
   "outputs": [
    {
     "name": "stdout",
     "output_type": "stream",
     "text": [
      "[nan 'Y' 'A' 'N']\n"
     ]
    }
   ],
   "source": [
    "print(df[\"fw_info_rel_occup_exp\"].unique())"
   ]
  },
  {
   "cell_type": "code",
   "execution_count": 35,
   "metadata": {
    "scrolled": true
   },
   "outputs": [
    {
     "name": "stdout",
     "output_type": "stream",
     "text": [
      "[nan 'Y' 'A' 'N']\n"
     ]
    }
   ],
   "source": [
    "print(df[\"fw_info_req_experience\"].unique())"
   ]
  },
  {
   "cell_type": "code",
   "execution_count": 36,
   "metadata": {},
   "outputs": [],
   "source": [
    "state_abbrev = {k.upper(): v for k, v in state_abbrevs.items()}\n",
    "df[\"foreign_worker_info_state\"].replace(state_abbrev, inplace=True)\n",
    "df.foreign_worker_info_state = df.foreign_worker_info_state.astype(str)"
   ]
  },
  {
   "cell_type": "markdown",
   "metadata": {},
   "source": [
    "#### Filling those missing values with Mode"
   ]
  },
  {
   "cell_type": "code",
   "execution_count": 37,
   "metadata": {
    "scrolled": false
   },
   "outputs": [],
   "source": [
    "df[\"country_of_citizenship\"]=df[\"country_of_citizenship\"].fillna((df[\"country_of_citizenship\"].mode()[0]))\n",
    "df[\"foreign_worker_info_education\"]=df[\"foreign_worker_info_education\"].fillna((df[\"foreign_worker_info_education\"].mode()[0]))\n",
    "df[\"foreign_worker_info_major\"]=df[\"foreign_worker_info_major\"].fillna((df[\"foreign_worker_info_major\"].mode()[0]))\n",
    "df[\"foreign_worker_info_state\"]=df[\"foreign_worker_info_state\"].fillna((df[\"foreign_worker_info_state\"].mode()[0]))\n",
    "df[\"fw_info_alt_edu_experience\"]=df[\"fw_info_alt_edu_experience\"].fillna((df[\"fw_info_alt_edu_experience\"].mode()[0]))\n",
    "df[\"fw_info_birth_country\"]=df[\"fw_info_birth_country\"].fillna((df[\"fw_info_birth_country\"].mode()[0]))\n",
    "df[\"fw_info_rel_occup_exp\"]=df[\"fw_info_rel_occup_exp\"].fillna((df[\"fw_info_rel_occup_exp\"].mode()[0]))\n",
    "df[\"fw_info_req_experience\"]=df[\"fw_info_req_experience\"].fillna((df[\"fw_info_req_experience\"].mode()[0]))"
   ]
  },
  {
   "cell_type": "markdown",
   "metadata": {},
   "source": [
    "### 4. Job Information\n",
    "\n",
    " \"job_info_alt_occ_num_months\",\"job_info_education\",\"job_info_experience\",\"job_info_foreign_ed\",\n",
    " \"job_info_foreign_lang_req\",\"job_info_job_title\",\"job_info_training\""
   ]
  },
  {
   "cell_type": "code",
   "execution_count": 38,
   "metadata": {
    "scrolled": false
   },
   "outputs": [
    {
     "name": "stdout",
     "output_type": "stream",
     "text": [
      "[ nan  84.  24.  36.  60.  12.  48. 120.  72.   6.   3.   2.  96. 108.\n",
      "  30.   5. 144.  18.   8.   0.   1.  10. 240. 180.   9. 132.   4. 156.\n",
      "  21.  42.  45.  54.  20.  16.  94.  86.  33.  14.  74.  27. 168. 192.\n",
      "  15.  23.  11.  66.  25.   7.  22.  34. 204.  13.  39.  44.]\n",
      "[nan \"Bachelor's\" 'None' 'Doctorate' \"Master's\" 'High School'\n",
      " \"Associate's\" 'Other']\n",
      "[nan 'N' 'Y']\n",
      "[nan 'Y' 'N']\n",
      "[nan 'N' 'Y']\n",
      "[nan 'N' 'Y']\n"
     ]
    }
   ],
   "source": [
    "print(df[\"job_info_alt_occ_num_months\"].unique())\n",
    "print(df[\"job_info_education\"].unique())\n",
    "print(df[\"job_info_experience\"].unique())\n",
    "print(df[\"job_info_foreign_ed\"].unique())\n",
    "print(df[\"job_info_foreign_lang_req\"].unique())\n",
    "print(df[\"job_info_training\"].unique())"
   ]
  },
  {
   "cell_type": "code",
   "execution_count": 39,
   "metadata": {
    "scrolled": false
   },
   "outputs": [],
   "source": [
    "df[\"job_info_alt_occ_num_months\"]=df[\"job_info_alt_occ_num_months\"].fillna((df[\"job_info_alt_occ_num_months\"].mode()[0]))\n",
    "df[\"job_info_education\"]=df[\"job_info_education\"].fillna((df[\"job_info_education\"].mode()[0]))\n",
    "df[\"job_info_experience\"]=df[\"job_info_experience\"].fillna((df[\"job_info_experience\"].mode()[0]))\n",
    "df[\"job_info_foreign_ed\"]=df[\"job_info_foreign_ed\"].fillna((df[\"job_info_foreign_ed\"].mode()[0]))\n",
    "df[\"job_info_foreign_lang_req\"]=df[\"job_info_foreign_lang_req\"].fillna((df[\"job_info_foreign_lang_req\"].mode()[0]))\n",
    "df[\"job_info_training\"]=df[\"job_info_training\"].fillna((df[\"job_info_training\"].mode()[0]))"
   ]
  },
  {
   "cell_type": "markdown",
   "metadata": {},
   "source": [
    "### 5. Prevailing Wage\n",
    "\n",
    "\"pw_amount_9089\",\"pw_job_title_9089\",\"pw_level_9089\",\"pw_source_name_9089\",\"pw_unit_of_pay_9089\""
   ]
  },
  {
   "cell_type": "code",
   "execution_count": 40,
   "metadata": {
    "scrolled": true
   },
   "outputs": [
    {
     "name": "stdout",
     "output_type": "stream",
     "text": [
      "['75629.0' '37024.0' '47923.0' ... '83,540.00' '109,845.00' '112,354.00']\n",
      "['Computer Software Engineers, Applications' 'ASBESTOS HANDLER'\n",
      " 'Civil Engineer' ... 'FIRST LINE SUPERVISOR OF HELPERS, LABORERS'\n",
      " 'HEALTH DIAGNOSING & TREATING PRACTITIONERS' 'TILE & MARBLE SETTERS']\n",
      "['Level II' 'Level I' 'Level IV' 'Level III' nan]\n",
      "['OES' 'Other' 'CBA' nan 'SCA' 'Employer Conducted' 'DBA']\n",
      "['yr' 'hr' nan 'bi' 'mth' 'wk' 'Hour' 'Year' 'Bi-Weekly' 'Week' 'Month']\n"
     ]
    }
   ],
   "source": [
    "print(df[\"pw_amount_9089\"].unique())\n",
    "print(df[\"pw_job_title_9089\"].unique())\n",
    "print(df[\"pw_level_9089\"].unique())\n",
    "print(df[\"pw_source_name_9089\"].unique())\n",
    "print(df[\"pw_unit_of_pay_9089\"].unique())"
   ]
  },
  {
   "cell_type": "code",
   "execution_count": 41,
   "metadata": {},
   "outputs": [],
   "source": [
    "df[\"pw_job_title_9089\"].fillna({\"pw_job_title_9089\":\"Unknown\"});\n",
    "df[\"pw_level_9089\"]=df[\"pw_level_9089\"].fillna((df[\"pw_level_9089\"].mode()[0]))\n",
    "df[\"pw_source_name_9089\"]=df[\"pw_source_name_9089\"].fillna((df[\"pw_source_name_9089\"].mode()[0]))\n",
    "df[\"pw_unit_of_pay_9089\"]=df[\"pw_unit_of_pay_9089\"].fillna((df[\"pw_unit_of_pay_9089\"].mode()[0]))"
   ]
  },
  {
   "cell_type": "code",
   "execution_count": 42,
   "metadata": {
    "scrolled": true
   },
   "outputs": [],
   "source": [
    "#Replacing commas with whitespace character\n",
    "df['pw_amount_9089'] = df['pw_amount_9089'].str.replace(\",\",\"\") \n",
    "\n",
    "for unit in df.pw_unit_of_pay_9089.unique():\n",
    "    if unit == \"hr\" or unit == \"Hour\":\n",
    "        df.loc[df['pw_unit_of_pay_9089'] == unit, 'pw_amount_9089'] = df['pw_amount_9089'].apply(lambda x: float(x) * 8 * 250)\n",
    "        df.loc[df['pw_unit_of_pay_9089'] == unit, 'pw_unit_of_pay_9089'] = df['pw_unit_of_pay_9089'].replace(to_replace = unit, value = \"Year\") \n",
    "    elif unit == \"wk\" or unit == \"Week\":\n",
    "        df.loc[df['pw_unit_of_pay_9089'] == unit, 'pw_amount_9089'] = df['pw_amount_9089'].apply(lambda x: float(x) * 50)\n",
    "        df.loc[df['pw_unit_of_pay_9089'] == unit, 'pw_unit_of_pay_9089'] = df['pw_unit_of_pay_9089'].replace(to_replace = unit, value = \"Year\")\n",
    "    elif unit == \"mth\" or unit == \"Month\":\n",
    "        df.loc[df['pw_unit_of_pay_9089'] == unit, 'pw_amount_9089'] = df['pw_amount_9089'].apply(lambda x: float(x) * 12)\n",
    "        df.loc[df['pw_unit_of_pay_9089'] == unit, 'pw_unit_of_pay_9089'] = df['pw_unit_of_pay_9089'].replace(to_replace = unit, value = \"Year\")\n",
    "    elif unit == \"bi\" or unit == \"Bi-Weekly\":  \n",
    "        df.loc[df['pw_unit_of_pay_9089'] == unit, 'pw_amount_9089'] = df['pw_amount_9089'].apply(lambda x: float(x) * 25)\n",
    "        df.loc[df['pw_unit_of_pay_9089'] == unit, 'pw_unit_of_pay_9089'] = df['pw_unit_of_pay_9089'].replace(to_replace = unit, value = \"Year\")\n",
    "    elif unit ==\"yr\":\n",
    "         df.loc[df['pw_unit_of_pay_9089'] == unit ,'pw_unit_of_pay_9089'] = df['pw_unit_of_pay_9089'].replace(to_replace = unit, value = \"Year\")\n",
    "    else:\n",
    "        continue\n",
    "        \n",
    "#Filling missing values with median \n",
    "df['pw_amount_9089']= df['pw_amount_9089'].fillna((df['pw_amount_9089'].median()))\n",
    "\n",
    "#Changing format from string to float\n",
    "df['pw_amount_9089'] = df.pw_amount_9089.astype(float)"
   ]
  },
  {
   "cell_type": "code",
   "execution_count": 43,
   "metadata": {
    "scrolled": false
   },
   "outputs": [
    {
     "name": "stdout",
     "output_type": "stream",
     "text": [
      "Attribute 'add_these_pw_job_title_9089' contains  317031  missing values\n",
      "Attribute 'agent_city' contains  153452  missing values\n",
      "Attribute 'agent_firm_name' contains  157646  missing values\n",
      "Attribute 'agent_state' contains  156544  missing values\n",
      "Attribute 'application_type' contains  229320  missing values\n",
      "Attribute 'case_no' contains  229320  missing values\n",
      "Attribute 'case_number' contains  126848  missing values\n",
      "Attribute 'case_received_date' contains  126848  missing values\n",
      "Attribute 'case_status' contains  0  missing values\n",
      "Attribute 'class_of_admission' contains  0  missing values\n",
      "Attribute 'country_of_citizenship' contains  0  missing values\n",
      "Attribute 'country_of_citzenship' contains  336951  missing values\n",
      "Attribute 'decision_date' contains  0  missing values\n",
      "Attribute 'employer_address_1' contains  37  missing values\n",
      "Attribute 'employer_address_2' contains  141026  missing values\n",
      "Attribute 'employer_city' contains  10  missing values\n",
      "Attribute 'employer_country' contains  126920  missing values\n",
      "Attribute 'employer_decl_info_title' contains  126885  missing values\n",
      "Attribute 'employer_name' contains  0  missing values\n",
      "Attribute 'employer_num_employees' contains  0  missing values\n",
      "Attribute 'employer_phone' contains  126883  missing values\n",
      "Attribute 'employer_phone_ext' contains  333670  missing values\n",
      "Attribute 'employer_postal_code' contains  33  missing values\n",
      "Attribute 'employer_state' contains  0  missing values\n",
      "Attribute 'employer_yr_estab' contains  126982  missing values\n",
      "Attribute 'foreign_worker_info_alt_edu_experience' contains  271883  missing values\n",
      "Attribute 'foreign_worker_info_birth_country' contains  271880  missing values\n",
      "Attribute 'foreign_worker_info_city' contains  126875  missing values\n",
      "Attribute 'foreign_worker_info_education' contains  0  missing values\n",
      "Attribute 'foreign_worker_info_education_other' contains  352421  missing values\n",
      "Attribute 'foreign_worker_info_inst' contains  143883  missing values\n",
      "Attribute 'foreign_worker_info_major' contains  0  missing values\n",
      "Attribute 'foreign_worker_info_postal_code' contains  274425  missing values\n",
      "Attribute 'foreign_worker_info_rel_occup_exp' contains  271875  missing values\n",
      "Attribute 'foreign_worker_info_req_experience' contains  271873  missing values\n",
      "Attribute 'foreign_worker_info_state' contains  0  missing values\n",
      "Attribute 'foreign_worker_info_training_comp' contains  271874  missing values\n",
      "Attribute 'foreign_worker_ownership_interest' contains  271870  missing values\n",
      "Attribute 'foreign_worker_yr_rel_edu_completed' contains  276735  missing values\n",
      "Attribute 'fw_info_alt_edu_experience' contains  0  missing values\n",
      "Attribute 'fw_info_birth_country' contains  0  missing values\n",
      "Attribute 'fw_info_education_other' contains  211576  missing values\n",
      "Attribute 'fw_info_postal_code' contains  213280  missing values\n",
      "Attribute 'fw_info_rel_occup_exp' contains  0  missing values\n",
      "Attribute 'fw_info_req_experience' contains  0  missing values\n",
      "Attribute 'fw_info_training_comp' contains  211156  missing values\n",
      "Attribute 'fw_info_yr_rel_edu_completed' contains  223131  missing values\n",
      "Attribute 'fw_ownership_interest' contains  211154  missing values\n",
      "Attribute 'ji_foreign_worker_live_on_premises' contains  271871  missing values\n",
      "Attribute 'ji_fw_live_on_premises' contains  211152  missing values\n",
      "Attribute 'ji_live_in_dom_svc_contract' contains  353855  missing values\n",
      "Attribute 'ji_live_in_domestic_service' contains  126858  missing values\n",
      "Attribute 'ji_offered_to_sec_j_foreign_worker' contains  271871  missing values\n",
      "Attribute 'ji_offered_to_sec_j_fw' contains  211152  missing values\n",
      "Attribute 'job_info_alt_cmb_ed_oth_yrs' contains  288242  missing values\n",
      "Attribute 'job_info_alt_combo_ed' contains  287909  missing values\n",
      "Attribute 'job_info_alt_combo_ed_exp' contains  126881  missing values\n",
      "Attribute 'job_info_alt_combo_ed_other' contains  347176  missing values\n",
      "Attribute 'job_info_alt_field' contains  126880  missing values\n",
      "Attribute 'job_info_alt_field_name' contains  265907  missing values\n",
      "Attribute 'job_info_alt_occ' contains  213169  missing values\n",
      "Attribute 'job_info_alt_occ_job_title' contains  213847  missing values\n",
      "Attribute 'job_info_alt_occ_num_months' contains  0  missing values\n",
      "Attribute 'job_info_combo_occupation' contains  126855  missing values\n",
      "Attribute 'job_info_education' contains  0  missing values\n",
      "Attribute 'job_info_education_other' contains  348724  missing values\n",
      "Attribute 'job_info_experience' contains  0  missing values\n",
      "Attribute 'job_info_experience_num_months' contains  227222  missing values\n",
      "Attribute 'job_info_foreign_ed' contains  0  missing values\n",
      "Attribute 'job_info_foreign_lang_req' contains  0  missing values\n",
      "Attribute 'job_info_job_req_normal' contains  126859  missing values\n",
      "Attribute 'job_info_job_title' contains  126889  missing values\n",
      "Attribute 'job_info_major' contains  151081  missing values\n",
      "Attribute 'job_info_training' contains  0  missing values\n",
      "Attribute 'job_info_training_field' contains  351877  missing values\n",
      "Attribute 'job_info_training_num_months' contains  351596  missing values\n",
      "Attribute 'job_info_work_city' contains  95  missing values\n",
      "Attribute 'job_info_work_postal_code' contains  126930  missing values\n",
      "Attribute 'job_info_work_state' contains  96  missing values\n",
      "Attribute 'naics_2007_us_code' contains  337009  missing values\n",
      "Attribute 'naics_2007_us_title' contains  337598  missing values\n",
      "Attribute 'naics_code' contains  272070  missing values\n",
      "Attribute 'naics_title' contains  272070  missing values\n",
      "Attribute 'naics_us_code' contains  211467  missing values\n",
      "Attribute 'naics_us_code_2007' contains  248921  missing values\n",
      "Attribute 'naics_us_title' contains  211467  missing values\n",
      "Attribute 'naics_us_title_2007' contains  251893  missing values\n",
      "Attribute 'orig_case_no' contains  355892  missing values\n",
      "Attribute 'orig_file_date' contains  355904  missing values\n",
      "Attribute 'preparer_info_emp_completed' contains  126885  missing values\n",
      "Attribute 'preparer_info_title' contains  154601  missing values\n",
      "Attribute 'pw_amount_9089' contains  0  missing values\n",
      "Attribute 'pw_determ_date' contains  127160  missing values\n",
      "Attribute 'pw_expire_date' contains  127239  missing values\n",
      "Attribute 'pw_job_title_908' contains  211218  missing values\n",
      "Attribute 'pw_job_title_9089' contains  145334  missing values\n",
      "Attribute 'pw_level_9089' contains  0  missing values\n",
      "Attribute 'pw_soc_code' contains  390  missing values\n",
      "Attribute 'pw_soc_title' contains  2321  missing values\n",
      "Attribute 'pw_source_name_9089' contains  0  missing values\n",
      "Attribute 'pw_source_name_other_9089' contains  340927  missing values\n",
      "Attribute 'pw_track_num' contains  128689  missing values\n",
      "Attribute 'pw_unit_of_pay_9089' contains  0  missing values\n",
      "Attribute 'rec_info_barg_rep_notified' contains  271930  missing values\n",
      "Attribute 'recr_info_barg_rep_notified' contains  211165  missing values\n",
      "Attribute 'recr_info_coll_teach_comp_proc' contains  349374  missing values\n",
      "Attribute 'recr_info_coll_univ_teacher' contains  126876  missing values\n",
      "Attribute 'recr_info_employer_rec_payment' contains  126864  missing values\n",
      "Attribute 'recr_info_first_ad_start' contains  132806  missing values\n",
      "Attribute 'recr_info_job_fair_from' contains  354447  missing values\n",
      "Attribute 'recr_info_job_fair_to' contains  354451  missing values\n",
      "Attribute 'recr_info_on_campus_recr_from' contains  354403  missing values\n",
      "Attribute 'recr_info_on_campus_recr_to' contains  354410  missing values\n",
      "Attribute 'recr_info_pro_org_advert_from' contains  342873  missing values\n",
      "Attribute 'recr_info_pro_org_advert_to' contains  342879  missing values\n",
      "Attribute 'recr_info_prof_org_advert_from' contains  328771  missing values\n",
      "Attribute 'recr_info_prof_org_advert_to' contains  328778  missing values\n",
      "Attribute 'recr_info_professional_occ' contains  126861  missing values\n",
      "Attribute 'recr_info_radio_tv_ad_from' contains  336666  missing values\n",
      "Attribute 'recr_info_radio_tv_ad_to' contains  336665  missing values\n",
      "Attribute 'recr_info_second_ad_start' contains  132843  missing values\n",
      "Attribute 'recr_info_sunday_newspaper' contains  132717  missing values\n",
      "Attribute 'recr_info_swa_job_order_end' contains  132841  missing values\n",
      "Attribute 'recr_info_swa_job_order_start' contains  132819  missing values\n",
      "Attribute 'refile' contains  247861  missing values\n",
      "Attribute 'ri_1st_ad_newspaper_name' contains  129114  missing values\n",
      "Attribute 'ri_2nd_ad_newspaper_name' contains  129145  missing values\n"
     ]
    },
    {
     "name": "stdout",
     "output_type": "stream",
     "text": [
      "Attribute 'ri_2nd_ad_newspaper_or_journal' contains  132825  missing values\n",
      "Attribute 'ri_campus_placement_from' contains  327380  missing values\n",
      "Attribute 'ri_campus_placement_to' contains  327390  missing values\n",
      "Attribute 'ri_coll_tch_basic_process' contains  349382  missing values\n",
      "Attribute 'ri_coll_teach_pro_jnl' contains  209115  missing values\n",
      "Attribute 'ri_coll_teach_select_date' contains  350626  missing values\n",
      "Attribute 'ri_employee_referral_prog_from' contains  289853  missing values\n",
      "Attribute 'ri_employee_referral_prog_to' contains  289852  missing values\n",
      "Attribute 'ri_employer_web_post_from' contains  224277  missing values\n",
      "Attribute 'ri_employer_web_post_to' contains  224300  missing values\n",
      "Attribute 'ri_job_search_website_from' contains  166377  missing values\n",
      "Attribute 'ri_job_search_website_to' contains  166388  missing values\n",
      "Attribute 'ri_layoff_in_past_six_months' contains  126878  missing values\n",
      "Attribute 'ri_local_ethnic_paper_from' contains  239853  missing values\n",
      "Attribute 'ri_local_ethnic_paper_to' contains  239852  missing values\n",
      "Attribute 'ri_posted_notice_at_worksite' contains  126927  missing values\n",
      "Attribute 'ri_pvt_employment_firm_from' contains  340050  missing values\n",
      "Attribute 'ri_pvt_employment_firm_to' contains  340052  missing values\n",
      "Attribute 'ri_us_workers_considered' contains  339595  missing values\n",
      "Attribute 'schd_a_sheepherder' contains  126866  missing values\n",
      "Attribute 'us_economic_sector' contains  235300  missing values\n",
      "Attribute 'wage_offer_from_9089' contains  107705  missing values\n",
      "Attribute 'wage_offer_to_9089' contains  285397  missing values\n",
      "Attribute 'wage_offer_unit_of_pay_9089' contains  108769  missing values\n",
      "Attribute 'wage_offered_from_9089' contains  248582  missing values\n",
      "Attribute 'wage_offered_to_9089' contains  326852  missing values\n",
      "Attribute 'wage_offered_unit_of_pay_9089' contains  289470  missing values\n",
      "Attribute 'case_received_year' contains  0  missing values\n",
      "Attribute 'decision_year' contains  0  missing values\n"
     ]
    }
   ],
   "source": [
    "# Displaying number of missing values in each column\n",
    "for column in df.columns:\n",
    "    print(\"Attribute '{}' contains \".format(column),  df[column].isnull().sum().sum(), \" missing values\")"
   ]
  },
  {
   "cell_type": "code",
   "execution_count": 44,
   "metadata": {
    "scrolled": true
   },
   "outputs": [
    {
     "data": {
      "text/html": [
       "<div>\n",
       "<style scoped>\n",
       "    .dataframe tbody tr th:only-of-type {\n",
       "        vertical-align: middle;\n",
       "    }\n",
       "\n",
       "    .dataframe tbody tr th {\n",
       "        vertical-align: top;\n",
       "    }\n",
       "\n",
       "    .dataframe thead th {\n",
       "        text-align: right;\n",
       "    }\n",
       "</style>\n",
       "<table border=\"1\" class=\"dataframe\">\n",
       "  <thead>\n",
       "    <tr style=\"text-align: right;\">\n",
       "      <th></th>\n",
       "      <th>case_number</th>\n",
       "      <th>case_received_year</th>\n",
       "      <th>case_status</th>\n",
       "      <th>class_of_admission</th>\n",
       "      <th>decision_year</th>\n",
       "      <th>employer_country</th>\n",
       "      <th>employer_name</th>\n",
       "      <th>employer_num_employees</th>\n",
       "      <th>employer_state</th>\n",
       "      <th>employer_yr_estab</th>\n",
       "      <th>...</th>\n",
       "      <th>job_info_experience</th>\n",
       "      <th>job_info_foreign_ed</th>\n",
       "      <th>job_info_foreign_lang_req</th>\n",
       "      <th>job_info_job_title</th>\n",
       "      <th>job_info_training</th>\n",
       "      <th>pw_amount_9089</th>\n",
       "      <th>pw_job_title_9089</th>\n",
       "      <th>pw_level_9089</th>\n",
       "      <th>pw_source_name_9089</th>\n",
       "      <th>pw_unit_of_pay_9089</th>\n",
       "    </tr>\n",
       "  </thead>\n",
       "  <tbody>\n",
       "    <tr>\n",
       "      <th>0</th>\n",
       "      <td>NaN</td>\n",
       "      <td>2014</td>\n",
       "      <td>Certified</td>\n",
       "      <td>J-1</td>\n",
       "      <td>1328054400000000000</td>\n",
       "      <td>NaN</td>\n",
       "      <td>NETSOFT USA INC.</td>\n",
       "      <td>22348</td>\n",
       "      <td>NY</td>\n",
       "      <td>NaN</td>\n",
       "      <td>...</td>\n",
       "      <td>Y</td>\n",
       "      <td>Y</td>\n",
       "      <td>N</td>\n",
       "      <td>NaN</td>\n",
       "      <td>N</td>\n",
       "      <td>75629.0</td>\n",
       "      <td>Computer Software Engineers, Applications</td>\n",
       "      <td>Level II</td>\n",
       "      <td>OES</td>\n",
       "      <td>Year</td>\n",
       "    </tr>\n",
       "    <tr>\n",
       "      <th>1</th>\n",
       "      <td>NaN</td>\n",
       "      <td>2014</td>\n",
       "      <td>Denied</td>\n",
       "      <td>B-2</td>\n",
       "      <td>1324425600000000000</td>\n",
       "      <td>NaN</td>\n",
       "      <td>PINNACLE ENVIRONEMNTAL CORP</td>\n",
       "      <td>22348</td>\n",
       "      <td>NY</td>\n",
       "      <td>NaN</td>\n",
       "      <td>...</td>\n",
       "      <td>Y</td>\n",
       "      <td>Y</td>\n",
       "      <td>N</td>\n",
       "      <td>NaN</td>\n",
       "      <td>N</td>\n",
       "      <td>37024.0</td>\n",
       "      <td>ASBESTOS HANDLER</td>\n",
       "      <td>Level I</td>\n",
       "      <td>OES</td>\n",
       "      <td>Year</td>\n",
       "    </tr>\n",
       "    <tr>\n",
       "      <th>2</th>\n",
       "      <td>NaN</td>\n",
       "      <td>2014</td>\n",
       "      <td>Certified</td>\n",
       "      <td>H-1B</td>\n",
       "      <td>1322697600000000000</td>\n",
       "      <td>NaN</td>\n",
       "      <td>SCHNABEL ENGINEERING, INC.</td>\n",
       "      <td>22348</td>\n",
       "      <td>VA</td>\n",
       "      <td>NaN</td>\n",
       "      <td>...</td>\n",
       "      <td>Y</td>\n",
       "      <td>Y</td>\n",
       "      <td>N</td>\n",
       "      <td>NaN</td>\n",
       "      <td>N</td>\n",
       "      <td>47923.0</td>\n",
       "      <td>Civil Engineer</td>\n",
       "      <td>Level I</td>\n",
       "      <td>OES</td>\n",
       "      <td>Year</td>\n",
       "    </tr>\n",
       "    <tr>\n",
       "      <th>3</th>\n",
       "      <td>NaN</td>\n",
       "      <td>2014</td>\n",
       "      <td>Certified</td>\n",
       "      <td>B-2</td>\n",
       "      <td>1322697600000000000</td>\n",
       "      <td>NaN</td>\n",
       "      <td>EBENEZER MISSION CHURCH</td>\n",
       "      <td>22348</td>\n",
       "      <td>NY</td>\n",
       "      <td>NaN</td>\n",
       "      <td>...</td>\n",
       "      <td>Y</td>\n",
       "      <td>Y</td>\n",
       "      <td>N</td>\n",
       "      <td>NaN</td>\n",
       "      <td>N</td>\n",
       "      <td>21940.0</td>\n",
       "      <td>File Clerk</td>\n",
       "      <td>Level II</td>\n",
       "      <td>OES</td>\n",
       "      <td>Year</td>\n",
       "    </tr>\n",
       "    <tr>\n",
       "      <th>4</th>\n",
       "      <td>NaN</td>\n",
       "      <td>2014</td>\n",
       "      <td>Certified</td>\n",
       "      <td>L-1</td>\n",
       "      <td>1327536000000000000</td>\n",
       "      <td>NaN</td>\n",
       "      <td>ALBANY INTERNATIONAL CORP.</td>\n",
       "      <td>22348</td>\n",
       "      <td>NY</td>\n",
       "      <td>NaN</td>\n",
       "      <td>...</td>\n",
       "      <td>Y</td>\n",
       "      <td>Y</td>\n",
       "      <td>N</td>\n",
       "      <td>NaN</td>\n",
       "      <td>N</td>\n",
       "      <td>94890.0</td>\n",
       "      <td>Sales &amp; Service Engineer</td>\n",
       "      <td>Level IV</td>\n",
       "      <td>OES</td>\n",
       "      <td>Year</td>\n",
       "    </tr>\n",
       "    <tr>\n",
       "      <th>...</th>\n",
       "      <td>...</td>\n",
       "      <td>...</td>\n",
       "      <td>...</td>\n",
       "      <td>...</td>\n",
       "      <td>...</td>\n",
       "      <td>...</td>\n",
       "      <td>...</td>\n",
       "      <td>...</td>\n",
       "      <td>...</td>\n",
       "      <td>...</td>\n",
       "      <td>...</td>\n",
       "      <td>...</td>\n",
       "      <td>...</td>\n",
       "      <td>...</td>\n",
       "      <td>...</td>\n",
       "      <td>...</td>\n",
       "      <td>...</td>\n",
       "      <td>...</td>\n",
       "      <td>...</td>\n",
       "      <td>...</td>\n",
       "      <td>...</td>\n",
       "    </tr>\n",
       "    <tr>\n",
       "      <th>374349</th>\n",
       "      <td>A-16295-63980</td>\n",
       "      <td>2016</td>\n",
       "      <td>Certified</td>\n",
       "      <td>H-1B</td>\n",
       "      <td>1483056000000000000</td>\n",
       "      <td>UNITED STATES OF AMERICA</td>\n",
       "      <td>POMEROY IT SOLUTIONS SALES COMPANY</td>\n",
       "      <td>3600</td>\n",
       "      <td>KY</td>\n",
       "      <td>1982.0</td>\n",
       "      <td>...</td>\n",
       "      <td>N</td>\n",
       "      <td>Y</td>\n",
       "      <td>N</td>\n",
       "      <td>Senior .NET Developer(s)</td>\n",
       "      <td>N</td>\n",
       "      <td>84635.0</td>\n",
       "      <td>NaN</td>\n",
       "      <td>Level IV</td>\n",
       "      <td>OES</td>\n",
       "      <td>Year</td>\n",
       "    </tr>\n",
       "    <tr>\n",
       "      <th>374350</th>\n",
       "      <td>A-16291-62511</td>\n",
       "      <td>2016</td>\n",
       "      <td>Certified</td>\n",
       "      <td>H-1B</td>\n",
       "      <td>1483056000000000000</td>\n",
       "      <td>UNITED STATES OF AMERICA</td>\n",
       "      <td>SIEMENS PLM SOFTWARE INC.</td>\n",
       "      <td>4800</td>\n",
       "      <td>OH</td>\n",
       "      <td>1998.0</td>\n",
       "      <td>...</td>\n",
       "      <td>N</td>\n",
       "      <td>Y</td>\n",
       "      <td>N</td>\n",
       "      <td>Software Engineer</td>\n",
       "      <td>N</td>\n",
       "      <td>69098.0</td>\n",
       "      <td>NaN</td>\n",
       "      <td>Level II</td>\n",
       "      <td>OES</td>\n",
       "      <td>Year</td>\n",
       "    </tr>\n",
       "    <tr>\n",
       "      <th>374351</th>\n",
       "      <td>A-16280-59783</td>\n",
       "      <td>2016</td>\n",
       "      <td>Certified</td>\n",
       "      <td>L-1</td>\n",
       "      <td>1483056000000000000</td>\n",
       "      <td>UNITED STATES OF AMERICA</td>\n",
       "      <td>GLOBALLOGIC INC.</td>\n",
       "      <td>10000</td>\n",
       "      <td>CA</td>\n",
       "      <td>2000.0</td>\n",
       "      <td>...</td>\n",
       "      <td>Y</td>\n",
       "      <td>Y</td>\n",
       "      <td>N</td>\n",
       "      <td>Computer Systems Architect</td>\n",
       "      <td>N</td>\n",
       "      <td>114795.0</td>\n",
       "      <td>NaN</td>\n",
       "      <td>Level III</td>\n",
       "      <td>OES</td>\n",
       "      <td>Year</td>\n",
       "    </tr>\n",
       "    <tr>\n",
       "      <th>374352</th>\n",
       "      <td>A-16292-62639</td>\n",
       "      <td>2016</td>\n",
       "      <td>Certified</td>\n",
       "      <td>H-1B</td>\n",
       "      <td>1483056000000000000</td>\n",
       "      <td>UNITED STATES OF AMERICA</td>\n",
       "      <td>DEUTSCHE BANK TRUST COMPANY AMERICAS</td>\n",
       "      <td>100000</td>\n",
       "      <td>NY</td>\n",
       "      <td>1802.0</td>\n",
       "      <td>...</td>\n",
       "      <td>Y</td>\n",
       "      <td>Y</td>\n",
       "      <td>N</td>\n",
       "      <td>Assistant Vice President, Divisional Business ...</td>\n",
       "      <td>N</td>\n",
       "      <td>112354.0</td>\n",
       "      <td>NaN</td>\n",
       "      <td>Level II</td>\n",
       "      <td>Other</td>\n",
       "      <td>Year</td>\n",
       "    </tr>\n",
       "    <tr>\n",
       "      <th>374353</th>\n",
       "      <td>A-16292-62659</td>\n",
       "      <td>2016</td>\n",
       "      <td>Certified</td>\n",
       "      <td>H-1B</td>\n",
       "      <td>1483056000000000000</td>\n",
       "      <td>UNITED STATES OF AMERICA</td>\n",
       "      <td>FIRST TEK, INC.</td>\n",
       "      <td>600</td>\n",
       "      <td>NJ</td>\n",
       "      <td>2001.0</td>\n",
       "      <td>...</td>\n",
       "      <td>Y</td>\n",
       "      <td>Y</td>\n",
       "      <td>N</td>\n",
       "      <td>MANAGEMENT ANALYST</td>\n",
       "      <td>N</td>\n",
       "      <td>136219.0</td>\n",
       "      <td>NaN</td>\n",
       "      <td>Level IV</td>\n",
       "      <td>OES</td>\n",
       "      <td>Year</td>\n",
       "    </tr>\n",
       "  </tbody>\n",
       "</table>\n",
       "<p>356168 rows × 30 columns</p>\n",
       "</div>"
      ],
      "text/plain": [
       "          case_number  case_received_year case_status class_of_admission  \\\n",
       "0                 NaN                2014   Certified                J-1   \n",
       "1                 NaN                2014      Denied                B-2   \n",
       "2                 NaN                2014   Certified               H-1B   \n",
       "3                 NaN                2014   Certified                B-2   \n",
       "4                 NaN                2014   Certified                L-1   \n",
       "...               ...                 ...         ...                ...   \n",
       "374349  A-16295-63980                2016   Certified               H-1B   \n",
       "374350  A-16291-62511                2016   Certified               H-1B   \n",
       "374351  A-16280-59783                2016   Certified                L-1   \n",
       "374352  A-16292-62639                2016   Certified               H-1B   \n",
       "374353  A-16292-62659                2016   Certified               H-1B   \n",
       "\n",
       "              decision_year          employer_country  \\\n",
       "0       1328054400000000000                       NaN   \n",
       "1       1324425600000000000                       NaN   \n",
       "2       1322697600000000000                       NaN   \n",
       "3       1322697600000000000                       NaN   \n",
       "4       1327536000000000000                       NaN   \n",
       "...                     ...                       ...   \n",
       "374349  1483056000000000000  UNITED STATES OF AMERICA   \n",
       "374350  1483056000000000000  UNITED STATES OF AMERICA   \n",
       "374351  1483056000000000000  UNITED STATES OF AMERICA   \n",
       "374352  1483056000000000000  UNITED STATES OF AMERICA   \n",
       "374353  1483056000000000000  UNITED STATES OF AMERICA   \n",
       "\n",
       "                               employer_name  employer_num_employees  \\\n",
       "0                           NETSOFT USA INC.                   22348   \n",
       "1                PINNACLE ENVIRONEMNTAL CORP                   22348   \n",
       "2                 SCHNABEL ENGINEERING, INC.                   22348   \n",
       "3                    EBENEZER MISSION CHURCH                   22348   \n",
       "4                 ALBANY INTERNATIONAL CORP.                   22348   \n",
       "...                                      ...                     ...   \n",
       "374349    POMEROY IT SOLUTIONS SALES COMPANY                    3600   \n",
       "374350             SIEMENS PLM SOFTWARE INC.                    4800   \n",
       "374351                      GLOBALLOGIC INC.                   10000   \n",
       "374352  DEUTSCHE BANK TRUST COMPANY AMERICAS                  100000   \n",
       "374353                       FIRST TEK, INC.                     600   \n",
       "\n",
       "       employer_state  employer_yr_estab  ... job_info_experience  \\\n",
       "0                  NY                NaN  ...                   Y   \n",
       "1                  NY                NaN  ...                   Y   \n",
       "2                  VA                NaN  ...                   Y   \n",
       "3                  NY                NaN  ...                   Y   \n",
       "4                  NY                NaN  ...                   Y   \n",
       "...               ...                ...  ...                 ...   \n",
       "374349             KY             1982.0  ...                   N   \n",
       "374350             OH             1998.0  ...                   N   \n",
       "374351             CA             2000.0  ...                   Y   \n",
       "374352             NY             1802.0  ...                   Y   \n",
       "374353             NJ             2001.0  ...                   Y   \n",
       "\n",
       "       job_info_foreign_ed job_info_foreign_lang_req  \\\n",
       "0                        Y                         N   \n",
       "1                        Y                         N   \n",
       "2                        Y                         N   \n",
       "3                        Y                         N   \n",
       "4                        Y                         N   \n",
       "...                    ...                       ...   \n",
       "374349                   Y                         N   \n",
       "374350                   Y                         N   \n",
       "374351                   Y                         N   \n",
       "374352                   Y                         N   \n",
       "374353                   Y                         N   \n",
       "\n",
       "                                       job_info_job_title job_info_training  \\\n",
       "0                                                     NaN                 N   \n",
       "1                                                     NaN                 N   \n",
       "2                                                     NaN                 N   \n",
       "3                                                     NaN                 N   \n",
       "4                                                     NaN                 N   \n",
       "...                                                   ...               ...   \n",
       "374349                           Senior .NET Developer(s)                 N   \n",
       "374350                                  Software Engineer                 N   \n",
       "374351                         Computer Systems Architect                 N   \n",
       "374352  Assistant Vice President, Divisional Business ...                 N   \n",
       "374353                                 MANAGEMENT ANALYST                 N   \n",
       "\n",
       "       pw_amount_9089                          pw_job_title_9089  \\\n",
       "0             75629.0  Computer Software Engineers, Applications   \n",
       "1             37024.0                           ASBESTOS HANDLER   \n",
       "2             47923.0                             Civil Engineer   \n",
       "3             21940.0                                 File Clerk   \n",
       "4             94890.0                   Sales & Service Engineer   \n",
       "...               ...                                        ...   \n",
       "374349        84635.0                                        NaN   \n",
       "374350        69098.0                                        NaN   \n",
       "374351       114795.0                                        NaN   \n",
       "374352       112354.0                                        NaN   \n",
       "374353       136219.0                                        NaN   \n",
       "\n",
       "       pw_level_9089  pw_source_name_9089 pw_unit_of_pay_9089  \n",
       "0           Level II                  OES                Year  \n",
       "1            Level I                  OES                Year  \n",
       "2            Level I                  OES                Year  \n",
       "3           Level II                  OES                Year  \n",
       "4           Level IV                  OES                Year  \n",
       "...              ...                  ...                 ...  \n",
       "374349      Level IV                  OES                Year  \n",
       "374350      Level II                  OES                Year  \n",
       "374351     Level III                  OES                Year  \n",
       "374352      Level II                Other                Year  \n",
       "374353      Level IV                  OES                Year  \n",
       "\n",
       "[356168 rows x 30 columns]"
      ]
     },
     "execution_count": 44,
     "metadata": {},
     "output_type": "execute_result"
    }
   ],
   "source": [
    "df1 = df[[\"case_number\",\"case_received_year\",\"case_status\",\"class_of_admission\",\"decision_year\",\n",
    "          \"employer_country\",\"employer_name\",\"employer_num_employees\",\"employer_state\",\n",
    "          \"employer_yr_estab\",\n",
    "          \"foreign_worker_info_education\",\"foreign_worker_info_major\",\"foreign_worker_info_state\",\n",
    "          \"fw_info_alt_edu_experience\",\"fw_info_birth_country\",\"country_of_citizenship\",\"fw_info_rel_occup_exp\",\n",
    "          \"fw_info_req_experience\",\n",
    "          \"job_info_alt_occ_num_months\",\"job_info_education\",\"job_info_experience\",\"job_info_foreign_ed\",\n",
    "          \"job_info_foreign_lang_req\",\"job_info_job_title\",\"job_info_training\",\n",
    "          \"pw_amount_9089\",\"pw_job_title_9089\",\"pw_level_9089\",\"pw_source_name_9089\",\"pw_unit_of_pay_9089\"]].copy()\n",
    "\n",
    "df1"
   ]
  },
  {
   "cell_type": "markdown",
   "metadata": {},
   "source": [
    "## Visualization"
   ]
  },
  {
   "cell_type": "markdown",
   "metadata": {},
   "source": [
    "### Number of Visa Application for each Case Status"
   ]
  },
  {
   "cell_type": "code",
   "execution_count": 45,
   "metadata": {
    "scrolled": true
   },
   "outputs": [
    {
     "data": {
      "image/png": "[encoded data removed]",
      "text/plain": [
       "<Figure size 648x360 with 1 Axes>"
      ]
     },
     "metadata": {
      "needs_background": "light"
     },
     "output_type": "display_data"
    }
   ],
   "source": [
    "fig, ax = plt.subplots()\n",
    "fig.set_size_inches(9,5)\n",
    "sns.set_context(rc={\"font.size\":10, \"axes.labelsize\":16})\n",
    "sns.countplot(x=\"case_received_year\", hue=\"case_status\",data=df1, palette = sns.color_palette(\"colorblind\"))\n",
    "locs, labels = plt.xticks()\n",
    "plt.setp(labels, rotation=45)\n",
    "ax.set(xlabel='Visa Application Year', ylabel='No. of Visa Application')\n",
    "fig.savefig(r'/Users/lucilleadenir/Desktop/Classwork/Final_Project/Green_Card/Figures/case_year')"
   ]
  },
  {
   "cell_type": "markdown",
   "metadata": {},
   "source": [
    "### Number of Visa Application by Educational Level"
   ]
  },
  {
   "cell_type": "code",
   "execution_count": 46,
   "metadata": {
    "scrolled": false
   },
   "outputs": [
    {
     "data": {
      "image/png": "[encoded data removed]",
      "text/plain": [
       "<Figure size 648x360 with 1 Axes>"
      ]
     },
     "metadata": {
      "needs_background": "light"
     },
     "output_type": "display_data"
    }
   ],
   "source": [
    "fig, ax = plt.subplots()\n",
    "fig.set_size_inches(9,5)\n",
    "sns.set_context(rc={\"font.size\":10, \"axes.labelsize\":16})\n",
    "sns.countplot(x='foreign_worker_info_education',data=df1, \n",
    "               palette = sns.color_palette(\"colorblind\"), \n",
    "               order=df1.foreign_worker_info_education.value_counts().iloc[:10].index)\n",
    "ax.set(xlabel='Educational Level', ylabel='Number of Visa applications')\n",
    "fig.savefig(r'/Users/lucilleadenir/Desktop/Classwork/Final_Project/Green_Card/Figures/education')"
   ]
  },
  {
   "cell_type": "markdown",
   "metadata": {},
   "source": [
    "### Number of Visa Application submitted by Top 10 Employers"
   ]
  },
  {
   "cell_type": "code",
   "execution_count": 47,
   "metadata": {
    "scrolled": false
   },
   "outputs": [
    {
     "data": {
      "image/png": "[encoded data removed]",
      "text/plain": [
       "<Figure size 648x360 with 1 Axes>"
      ]
     },
     "metadata": {
      "needs_background": "light"
     },
     "output_type": "display_data"
    }
   ],
   "source": [
    "fig, ax = plt.subplots()\n",
    "fig.set_size_inches(9,5)\n",
    "sns.set_context(rc={\"font.size\":10, \"axes.labelsize\":16})\n",
    "sns.countplot(x='employer_name',data=df1, \n",
    "               palette = sns.color_palette(\"colorblind\"), \n",
    "               order=df1.employer_name.value_counts().iloc[:10].index)\n",
    "locs, labels = plt.xticks()\n",
    "plt.setp(labels, rotation=80)\n",
    "ax.set(xlabel='Top 10 Employees', ylabel='Number of Visa applications')\n",
    "fig.savefig(r'/Users/lucilleadenir/Desktop/Classwork/Final_Project/Green_Card/Figures/employer')"
   ]
  },
  {
   "cell_type": "markdown",
   "metadata": {},
   "source": [
    "### Number of Visa Application by Visa Type"
   ]
  },
  {
   "cell_type": "code",
   "execution_count": 48,
   "metadata": {
    "scrolled": true
   },
   "outputs": [
    {
     "data": {
      "image/png": "[encoded data removed]",
      "text/plain": [
       "<Figure size 648x360 with 1 Axes>"
      ]
     },
     "metadata": {
      "needs_background": "light"
     },
     "output_type": "display_data"
    }
   ],
   "source": [
    "fig, ax = plt.subplots()\n",
    "fig.set_size_inches(9,5)\n",
    "sns.set_context(rc={\"font.size\":10, \"axes.labelsize\":16})\n",
    "sns.countplot(x='class_of_admission',data=df1,palette = sns.color_palette(\"colorblind\"), \n",
    "              order=df.class_of_admission.value_counts().iloc[:10].index)\n",
    "plt.xticks(rotation=45)\n",
    "\n",
    "ax.set(xlabel=\"Type of Visa\", ylabel='Number of Visa applications')\n",
    "fig.savefig(r'/Users/lucilleadenir/Desktop/Classwork/Final_Project/Green_Card/Figures/class')"
   ]
  },
  {
   "cell_type": "markdown",
   "metadata": {},
   "source": [
    "### Number of Visa Application by Foreign Worker Citizenship"
   ]
  },
  {
   "cell_type": "code",
   "execution_count": 49,
   "metadata": {
    "scrolled": true
   },
   "outputs": [
    {
     "data": {
      "image/png": "[encoded data removed]",
      "text/plain": [
       "<Figure size 648x360 with 1 Axes>"
      ]
     },
     "metadata": {
      "needs_background": "light"
     },
     "output_type": "display_data"
    }
   ],
   "source": [
    "fig, ax = plt.subplots()\n",
    "fig.set_size_inches(9,5)\n",
    "sns.set_context(rc={\"font.size\":10, \"axes.labelsize\":16})\n",
    "sns.countplot(x='country_of_citizenship',data=df1,palette = sns.color_palette(\"colorblind\"), \n",
    "              order=df.country_of_citizenship.value_counts().iloc[:10].index)\n",
    "plt.xticks(rotation=90)\n",
    "\n",
    "ax.set(xlabel=\"Foreign Worker Citizenship\", ylabel='Number of Visa applications')\n",
    "fig.savefig(r'/Users/lucilleadenir/Desktop/Classwork/Final_Project/Green_Card/Figures/fw_citizenship')"
   ]
  },
  {
   "cell_type": "code",
   "execution_count": 50,
   "metadata": {
    "scrolled": true
   },
   "outputs": [],
   "source": [
    "df2=df1.dropna()"
   ]
  },
  {
   "cell_type": "code",
   "execution_count": 51,
   "metadata": {
    "scrolled": false
   },
   "outputs": [
    {
     "name": "stdout",
     "output_type": "stream",
     "text": [
      "Attribute 'case_number' contains  0  missing values\n",
      "Attribute 'case_received_year' contains  0  missing values\n",
      "Attribute 'case_status' contains  0  missing values\n",
      "Attribute 'class_of_admission' contains  0  missing values\n",
      "Attribute 'decision_year' contains  0  missing values\n",
      "Attribute 'employer_country' contains  0  missing values\n",
      "Attribute 'employer_name' contains  0  missing values\n",
      "Attribute 'employer_num_employees' contains  0  missing values\n",
      "Attribute 'employer_state' contains  0  missing values\n",
      "Attribute 'employer_yr_estab' contains  0  missing values\n",
      "Attribute 'foreign_worker_info_education' contains  0  missing values\n",
      "Attribute 'foreign_worker_info_major' contains  0  missing values\n",
      "Attribute 'foreign_worker_info_state' contains  0  missing values\n",
      "Attribute 'fw_info_alt_edu_experience' contains  0  missing values\n",
      "Attribute 'fw_info_birth_country' contains  0  missing values\n",
      "Attribute 'country_of_citizenship' contains  0  missing values\n",
      "Attribute 'fw_info_rel_occup_exp' contains  0  missing values\n",
      "Attribute 'fw_info_req_experience' contains  0  missing values\n",
      "Attribute 'job_info_alt_occ_num_months' contains  0  missing values\n",
      "Attribute 'job_info_education' contains  0  missing values\n",
      "Attribute 'job_info_experience' contains  0  missing values\n",
      "Attribute 'job_info_foreign_ed' contains  0  missing values\n",
      "Attribute 'job_info_foreign_lang_req' contains  0  missing values\n",
      "Attribute 'job_info_job_title' contains  0  missing values\n",
      "Attribute 'job_info_training' contains  0  missing values\n",
      "Attribute 'pw_amount_9089' contains  0  missing values\n",
      "Attribute 'pw_job_title_9089' contains  0  missing values\n",
      "Attribute 'pw_level_9089' contains  0  missing values\n",
      "Attribute 'pw_source_name_9089' contains  0  missing values\n",
      "Attribute 'pw_unit_of_pay_9089' contains  0  missing values\n"
     ]
    }
   ],
   "source": [
    "# Displaying number of missing values in each column\n",
    "for column in df2.columns:\n",
    "    print(\"Attribute '{}' contains \".format(column),  df2[column].isnull().sum().sum(), \" missing values\")"
   ]
  },
  {
   "cell_type": "code",
   "execution_count": 52,
   "metadata": {
    "scrolled": true
   },
   "outputs": [
    {
     "data": {
      "text/plain": [
       "(84179, 30)"
      ]
     },
     "execution_count": 52,
     "metadata": {},
     "output_type": "execute_result"
    }
   ],
   "source": [
    "df2.shape"
   ]
  },
  {
   "cell_type": "code",
   "execution_count": 53,
   "metadata": {
    "scrolled": false
   },
   "outputs": [
    {
     "data": {
      "image/png": "[encoded data removed]",
      "text/plain": [
       "<Figure size 1080x1080 with 2 Axes>"
      ]
     },
     "metadata": {
      "needs_background": "light"
     },
     "output_type": "display_data"
    }
   ],
   "source": [
    "fig, ax = plt.subplots(figsize=(15,15)) \n",
    "matrix = np.triu(df.corr())\n",
    "sns.heatmap(df.corr(), annot=True,cmap=\"YlGnBu\", mask=matrix)\n",
    "plt.xticks(rotation=90)\n",
    "fig.savefig(r'/Users/lucilleadenir/Desktop/Classwork/Final_Project/Green_Card/Figures/heatmap')"
   ]
  },
  {
   "cell_type": "code",
   "execution_count": 54,
   "metadata": {},
   "outputs": [],
   "source": [
    "#df2.to_csv(r'/Users/lucilleadenir/Desktop/Classwork/Final_Project/Green_Card/visa.csv')"
   ]
  },
  {
   "cell_type": "code",
   "execution_count": 55,
   "metadata": {},
   "outputs": [],
   "source": [
    "#df2.to_json (r'/Users/lucilleadenir/Desktop/Classwork/Final_Project/Green_Card/visa.json')"
   ]
  }
 ],
 "metadata": {
  "kernelspec": {
   "display_name": "PythonData",
   "language": "python",
   "name": "pythondata"
  },
  "language_info": {
   "codemirror_mode": {
    "name": "ipython",
    "version": 3
   },
   "file_extension": ".py",
   "mimetype": "text/x-python",
   "name": "python",
   "nbconvert_exporter": "python",
   "pygments_lexer": "ipython3",
   "version": "3.8.3"
  }
 },
 "nbformat": 4,
 "nbformat_minor": 4
}
