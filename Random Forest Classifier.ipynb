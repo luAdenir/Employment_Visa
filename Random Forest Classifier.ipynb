{
 "cells": [
  {
   "cell_type": "code",
   "execution_count": 1,
   "metadata": {},
   "outputs": [],
   "source": [
    "import numpy as np\n",
    "import pandas as pd\n",
    "from pathlib import Path\n",
    "from collections import Counter\n",
    "from sklearn.model_selection import train_test_split\n",
    "from sklearn.preprocessing import LabelEncoder\n",
    "from imblearn.over_sampling import RandomOverSampler\n",
    "from sklearn.linear_model import LogisticRegression\n",
    "from sklearn.metrics import balanced_accuracy_score\n",
    "from sklearn.metrics import confusion_matrix\n",
    "from imblearn.metrics import classification_report_imbalanced\n",
    "from imblearn.over_sampling import SMOTE\n",
    "from imblearn.ensemble import BalancedRandomForestClassifier\n",
    "from imblearn.ensemble import EasyEnsembleClassifier\n",
    "import sklearn.metrics as metrics\n",
    "import matplotlib.pyplot as plt\n",
    "import matplotlib.pyplot as plt\n",
    "import seaborn as sns"
   ]
  },
  {
   "cell_type": "code",
   "execution_count": 2,
   "metadata": {},
   "outputs": [],
   "source": [
    "import warnings\n",
    "warnings.filterwarnings('ignore')"
   ]
  },
  {
   "cell_type": "code",
   "execution_count": 3,
   "metadata": {
    "scrolled": false
   },
   "outputs": [
    {
     "data": {
      "text/html": [
       "<div>\n",
       "<style scoped>\n",
       "    .dataframe tbody tr th:only-of-type {\n",
       "        vertical-align: middle;\n",
       "    }\n",
       "\n",
       "    .dataframe tbody tr th {\n",
       "        vertical-align: top;\n",
       "    }\n",
       "\n",
       "    .dataframe thead th {\n",
       "        text-align: right;\n",
       "    }\n",
       "</style>\n",
       "<table border=\"1\" class=\"dataframe\">\n",
       "  <thead>\n",
       "    <tr style=\"text-align: right;\">\n",
       "      <th></th>\n",
       "      <th>Unnamed: 0</th>\n",
       "      <th>case_number</th>\n",
       "      <th>case_received_year</th>\n",
       "      <th>case_status</th>\n",
       "      <th>class_of_admission</th>\n",
       "      <th>decision_year</th>\n",
       "      <th>employer_country</th>\n",
       "      <th>employer_name</th>\n",
       "      <th>employer_num_employees</th>\n",
       "      <th>employer_state</th>\n",
       "      <th>...</th>\n",
       "      <th>job_info_experience</th>\n",
       "      <th>job_info_foreign_ed</th>\n",
       "      <th>job_info_foreign_lang_req</th>\n",
       "      <th>job_info_job_title</th>\n",
       "      <th>job_info_training</th>\n",
       "      <th>pw_amount_9089</th>\n",
       "      <th>pw_job_title_9089</th>\n",
       "      <th>pw_level_9089</th>\n",
       "      <th>pw_source_name_9089</th>\n",
       "      <th>pw_unit_of_pay_9089</th>\n",
       "    </tr>\n",
       "  </thead>\n",
       "  <tbody>\n",
       "    <tr>\n",
       "      <th>0</th>\n",
       "      <td>135269</td>\n",
       "      <td>A-13316-14231</td>\n",
       "      <td>2013</td>\n",
       "      <td>1</td>\n",
       "      <td>H-1B</td>\n",
       "      <td>1432857600000000000</td>\n",
       "      <td>UNITED STATES OF AMERICA</td>\n",
       "      <td>GENERAC POWER SYSTEMS</td>\n",
       "      <td>1935</td>\n",
       "      <td>WI</td>\n",
       "      <td>...</td>\n",
       "      <td>N</td>\n",
       "      <td>Y</td>\n",
       "      <td>N</td>\n",
       "      <td>Senior Engineer</td>\n",
       "      <td>N</td>\n",
       "      <td>83366.0</td>\n",
       "      <td>Industrial Engineers</td>\n",
       "      <td>Level IV</td>\n",
       "      <td>OES</td>\n",
       "      <td>Year</td>\n",
       "    </tr>\n",
       "    <tr>\n",
       "      <th>1</th>\n",
       "      <td>135270</td>\n",
       "      <td>A-13316-14287</td>\n",
       "      <td>2013</td>\n",
       "      <td>0</td>\n",
       "      <td>H-1B</td>\n",
       "      <td>1435276800000000000</td>\n",
       "      <td>UNITED STATES OF AMERICA</td>\n",
       "      <td>AMERICA'S CATCH, INC.</td>\n",
       "      <td>350</td>\n",
       "      <td>MS</td>\n",
       "      <td>...</td>\n",
       "      <td>N</td>\n",
       "      <td>N</td>\n",
       "      <td>N</td>\n",
       "      <td>Catfish Processor</td>\n",
       "      <td>N</td>\n",
       "      <td>16973.0</td>\n",
       "      <td>Meat, Poultry, and Fish Cutters and Trimmers</td>\n",
       "      <td>Level I</td>\n",
       "      <td>OES</td>\n",
       "      <td>Year</td>\n",
       "    </tr>\n",
       "    <tr>\n",
       "      <th>2</th>\n",
       "      <td>135271</td>\n",
       "      <td>A-13316-14312</td>\n",
       "      <td>2013</td>\n",
       "      <td>0</td>\n",
       "      <td>H-1B</td>\n",
       "      <td>1413417600000000000</td>\n",
       "      <td>UNITED STATES OF AMERICA</td>\n",
       "      <td>AVIDITY, LLC</td>\n",
       "      <td>4</td>\n",
       "      <td>CO</td>\n",
       "      <td>...</td>\n",
       "      <td>Y</td>\n",
       "      <td>Y</td>\n",
       "      <td>N</td>\n",
       "      <td>Protein Production Scientist</td>\n",
       "      <td>N</td>\n",
       "      <td>49982.0</td>\n",
       "      <td>Protein Production Scientist</td>\n",
       "      <td>Level I</td>\n",
       "      <td>OES</td>\n",
       "      <td>Year</td>\n",
       "    </tr>\n",
       "    <tr>\n",
       "      <th>3</th>\n",
       "      <td>135272</td>\n",
       "      <td>A-13316-14276</td>\n",
       "      <td>2013</td>\n",
       "      <td>1</td>\n",
       "      <td>E-2</td>\n",
       "      <td>1432598400000000000</td>\n",
       "      <td>UNITED STATES OF AMERICA</td>\n",
       "      <td>STAR COMMUNICATIONS LLC</td>\n",
       "      <td>8</td>\n",
       "      <td>WA</td>\n",
       "      <td>...</td>\n",
       "      <td>N</td>\n",
       "      <td>Y</td>\n",
       "      <td>N</td>\n",
       "      <td>Market Research Analyst</td>\n",
       "      <td>N</td>\n",
       "      <td>43514.0</td>\n",
       "      <td>Market Research Analysts and Marketing Special...</td>\n",
       "      <td>Level I</td>\n",
       "      <td>OES</td>\n",
       "      <td>Year</td>\n",
       "    </tr>\n",
       "    <tr>\n",
       "      <th>4</th>\n",
       "      <td>135273</td>\n",
       "      <td>A-13316-14275</td>\n",
       "      <td>2013</td>\n",
       "      <td>0</td>\n",
       "      <td>H-1B</td>\n",
       "      <td>1435276800000000000</td>\n",
       "      <td>UNITED STATES OF AMERICA</td>\n",
       "      <td>AMERICA'S CATCH, INC.</td>\n",
       "      <td>350</td>\n",
       "      <td>MS</td>\n",
       "      <td>...</td>\n",
       "      <td>N</td>\n",
       "      <td>N</td>\n",
       "      <td>N</td>\n",
       "      <td>Catfish Processor</td>\n",
       "      <td>N</td>\n",
       "      <td>16973.0</td>\n",
       "      <td>Meat, Poultry, and Fish Cutters and Trimmers</td>\n",
       "      <td>Level I</td>\n",
       "      <td>OES</td>\n",
       "      <td>Year</td>\n",
       "    </tr>\n",
       "  </tbody>\n",
       "</table>\n",
       "<p>5 rows × 31 columns</p>\n",
       "</div>"
      ],
      "text/plain": [
       "   Unnamed: 0    case_number  case_received_year  case_status  \\\n",
       "0      135269  A-13316-14231                2013            1   \n",
       "1      135270  A-13316-14287                2013            0   \n",
       "2      135271  A-13316-14312                2013            0   \n",
       "3      135272  A-13316-14276                2013            1   \n",
       "4      135273  A-13316-14275                2013            0   \n",
       "\n",
       "  class_of_admission        decision_year          employer_country  \\\n",
       "0               H-1B  1432857600000000000  UNITED STATES OF AMERICA   \n",
       "1               H-1B  1435276800000000000  UNITED STATES OF AMERICA   \n",
       "2               H-1B  1413417600000000000  UNITED STATES OF AMERICA   \n",
       "3                E-2  1432598400000000000  UNITED STATES OF AMERICA   \n",
       "4               H-1B  1435276800000000000  UNITED STATES OF AMERICA   \n",
       "\n",
       "             employer_name  employer_num_employees employer_state  ...  \\\n",
       "0    GENERAC POWER SYSTEMS                    1935             WI  ...   \n",
       "1    AMERICA'S CATCH, INC.                     350             MS  ...   \n",
       "2             AVIDITY, LLC                       4             CO  ...   \n",
       "3  STAR COMMUNICATIONS LLC                       8             WA  ...   \n",
       "4    AMERICA'S CATCH, INC.                     350             MS  ...   \n",
       "\n",
       "   job_info_experience job_info_foreign_ed job_info_foreign_lang_req  \\\n",
       "0                    N                   Y                         N   \n",
       "1                    N                   N                         N   \n",
       "2                    Y                   Y                         N   \n",
       "3                    N                   Y                         N   \n",
       "4                    N                   N                         N   \n",
       "\n",
       "             job_info_job_title job_info_training pw_amount_9089  \\\n",
       "0               Senior Engineer                 N        83366.0   \n",
       "1             Catfish Processor                 N        16973.0   \n",
       "2  Protein Production Scientist                 N        49982.0   \n",
       "3       Market Research Analyst                 N        43514.0   \n",
       "4             Catfish Processor                 N        16973.0   \n",
       "\n",
       "                                   pw_job_title_9089 pw_level_9089  \\\n",
       "0                               Industrial Engineers      Level IV   \n",
       "1       Meat, Poultry, and Fish Cutters and Trimmers       Level I   \n",
       "2                       Protein Production Scientist       Level I   \n",
       "3  Market Research Analysts and Marketing Special...       Level I   \n",
       "4       Meat, Poultry, and Fish Cutters and Trimmers       Level I   \n",
       "\n",
       "  pw_source_name_9089  pw_unit_of_pay_9089  \n",
       "0                 OES                 Year  \n",
       "1                 OES                 Year  \n",
       "2                 OES                 Year  \n",
       "3                 OES                 Year  \n",
       "4                 OES                 Year  \n",
       "\n",
       "[5 rows x 31 columns]"
      ]
     },
     "execution_count": 3,
     "metadata": {},
     "output_type": "execute_result"
    }
   ],
   "source": [
    "# Load the data\n",
    "file_path = Path(\"visa.csv\")\n",
    "visa = pd.read_csv(file_path)\n",
    "\n",
    "#\"case_status\"\n",
    "visa.loc[visa.case_status==\"Certified\", \"case_status\"]=1\n",
    "visa.loc[visa.case_status==\"Denied\", \"case_status\"]=0\n",
    "visa[\"case_status\"]=visa[\"case_status\"].astype(str).astype(int)\n",
    "\n",
    "\n",
    "visa.head()"
   ]
  },
  {
   "cell_type": "markdown",
   "metadata": {},
   "source": [
    "### Convert categorical features to dummy variables "
   ]
  },
  {
   "cell_type": "code",
   "execution_count": 4,
   "metadata": {},
   "outputs": [],
   "source": [
    "class_of_admission = pd.get_dummies(visa[\"class_of_admission\"],drop_first=True)\n",
    "foreign_worker_info_education = pd.get_dummies(visa[\"foreign_worker_info_education\"],drop_first=True)\n",
    "country_of_citizenship = pd.get_dummies(visa[\"country_of_citizenship\"],drop_first=True)\n",
    "fw_info_rel_occup_exp = pd.get_dummies(visa[\"fw_info_rel_occup_exp\"],drop_first=True)\n",
    "fw_info_req_experience = pd.get_dummies(visa[\"fw_info_req_experience\"],drop_first=True)\n",
    "job_info_education = pd.get_dummies(visa[\"job_info_education\"],drop_first=True)\n",
    "job_info_experience = pd.get_dummies(visa[\"job_info_experience\"],drop_first=True)\n",
    "job_info_training = pd.get_dummies(visa[\"job_info_training\"],drop_first=True)"
   ]
  },
  {
   "cell_type": "code",
   "execution_count": 5,
   "metadata": {},
   "outputs": [],
   "source": [
    "visa.drop([\"class_of_admission\",\"foreign_worker_info_education\",\"country_of_citizenship\",\n",
    "          \"fw_info_rel_occup_exp\",\"fw_info_req_experience\",\"job_info_education\",\"job_info_experience\",\n",
    "          \"job_info_training\",\"pw_level_9089\",\"case_number\",\"employer_country\",\"employer_name\",\"employer_state\",\n",
    "          \"foreign_worker_info_major\",\"foreign_worker_info_state\",\"fw_info_alt_edu_experience\",\"fw_info_birth_country\",\n",
    "          \"job_info_foreign_ed\",\"job_info_foreign_lang_req\",\"job_info_job_title\",\"pw_job_title_9089\",\"pw_source_name_9089\",\n",
    "          \"pw_unit_of_pay_9089\"],axis=1,inplace=True)"
   ]
  },
  {
   "cell_type": "code",
   "execution_count": 6,
   "metadata": {},
   "outputs": [],
   "source": [
    "visa=pd.concat([visa,class_of_admission,foreign_worker_info_education,country_of_citizenship,\n",
    "          fw_info_rel_occup_exp,fw_info_req_experience,job_info_education,job_info_experience,\n",
    "          job_info_training],axis=1)"
   ]
  },
  {
   "cell_type": "code",
   "execution_count": 7,
   "metadata": {
    "scrolled": true
   },
   "outputs": [
    {
     "data": {
      "text/html": [
       "<div>\n",
       "<style scoped>\n",
       "    .dataframe tbody tr th:only-of-type {\n",
       "        vertical-align: middle;\n",
       "    }\n",
       "\n",
       "    .dataframe tbody tr th {\n",
       "        vertical-align: top;\n",
       "    }\n",
       "\n",
       "    .dataframe thead th {\n",
       "        text-align: right;\n",
       "    }\n",
       "</style>\n",
       "<table border=\"1\" class=\"dataframe\">\n",
       "  <thead>\n",
       "    <tr style=\"text-align: right;\">\n",
       "      <th></th>\n",
       "      <th>Unnamed: 0</th>\n",
       "      <th>case_received_year</th>\n",
       "      <th>case_status</th>\n",
       "      <th>decision_year</th>\n",
       "      <th>employer_num_employees</th>\n",
       "      <th>employer_yr_estab</th>\n",
       "      <th>job_info_alt_occ_num_months</th>\n",
       "      <th>pw_amount_9089</th>\n",
       "      <th>A1/A2</th>\n",
       "      <th>B-1</th>\n",
       "      <th>...</th>\n",
       "      <th>ZAMBIA</th>\n",
       "      <th>ZIMBABWE</th>\n",
       "      <th>Bachelor's</th>\n",
       "      <th>Doctorate</th>\n",
       "      <th>High School</th>\n",
       "      <th>Master's</th>\n",
       "      <th>None</th>\n",
       "      <th>Other</th>\n",
       "      <th>Y</th>\n",
       "      <th>Y</th>\n",
       "    </tr>\n",
       "  </thead>\n",
       "  <tbody>\n",
       "    <tr>\n",
       "      <th>0</th>\n",
       "      <td>135269</td>\n",
       "      <td>2013</td>\n",
       "      <td>1</td>\n",
       "      <td>1432857600000000000</td>\n",
       "      <td>1935</td>\n",
       "      <td>1959.0</td>\n",
       "      <td>84.0</td>\n",
       "      <td>83366.0</td>\n",
       "      <td>0</td>\n",
       "      <td>0</td>\n",
       "      <td>...</td>\n",
       "      <td>0</td>\n",
       "      <td>0</td>\n",
       "      <td>1</td>\n",
       "      <td>0</td>\n",
       "      <td>0</td>\n",
       "      <td>0</td>\n",
       "      <td>0</td>\n",
       "      <td>0</td>\n",
       "      <td>0</td>\n",
       "      <td>0</td>\n",
       "    </tr>\n",
       "    <tr>\n",
       "      <th>1</th>\n",
       "      <td>135270</td>\n",
       "      <td>2013</td>\n",
       "      <td>0</td>\n",
       "      <td>1435276800000000000</td>\n",
       "      <td>350</td>\n",
       "      <td>1988.0</td>\n",
       "      <td>60.0</td>\n",
       "      <td>16973.0</td>\n",
       "      <td>0</td>\n",
       "      <td>0</td>\n",
       "      <td>...</td>\n",
       "      <td>0</td>\n",
       "      <td>0</td>\n",
       "      <td>0</td>\n",
       "      <td>0</td>\n",
       "      <td>0</td>\n",
       "      <td>0</td>\n",
       "      <td>1</td>\n",
       "      <td>0</td>\n",
       "      <td>0</td>\n",
       "      <td>0</td>\n",
       "    </tr>\n",
       "    <tr>\n",
       "      <th>2</th>\n",
       "      <td>135271</td>\n",
       "      <td>2013</td>\n",
       "      <td>0</td>\n",
       "      <td>1413417600000000000</td>\n",
       "      <td>4</td>\n",
       "      <td>1996.0</td>\n",
       "      <td>60.0</td>\n",
       "      <td>49982.0</td>\n",
       "      <td>0</td>\n",
       "      <td>0</td>\n",
       "      <td>...</td>\n",
       "      <td>0</td>\n",
       "      <td>0</td>\n",
       "      <td>0</td>\n",
       "      <td>1</td>\n",
       "      <td>0</td>\n",
       "      <td>0</td>\n",
       "      <td>0</td>\n",
       "      <td>0</td>\n",
       "      <td>1</td>\n",
       "      <td>0</td>\n",
       "    </tr>\n",
       "    <tr>\n",
       "      <th>3</th>\n",
       "      <td>135272</td>\n",
       "      <td>2013</td>\n",
       "      <td>1</td>\n",
       "      <td>1432598400000000000</td>\n",
       "      <td>8</td>\n",
       "      <td>2010.0</td>\n",
       "      <td>60.0</td>\n",
       "      <td>43514.0</td>\n",
       "      <td>0</td>\n",
       "      <td>0</td>\n",
       "      <td>...</td>\n",
       "      <td>0</td>\n",
       "      <td>0</td>\n",
       "      <td>0</td>\n",
       "      <td>0</td>\n",
       "      <td>0</td>\n",
       "      <td>1</td>\n",
       "      <td>0</td>\n",
       "      <td>0</td>\n",
       "      <td>0</td>\n",
       "      <td>0</td>\n",
       "    </tr>\n",
       "    <tr>\n",
       "      <th>4</th>\n",
       "      <td>135273</td>\n",
       "      <td>2013</td>\n",
       "      <td>0</td>\n",
       "      <td>1435276800000000000</td>\n",
       "      <td>350</td>\n",
       "      <td>1988.0</td>\n",
       "      <td>60.0</td>\n",
       "      <td>16973.0</td>\n",
       "      <td>0</td>\n",
       "      <td>0</td>\n",
       "      <td>...</td>\n",
       "      <td>0</td>\n",
       "      <td>0</td>\n",
       "      <td>0</td>\n",
       "      <td>0</td>\n",
       "      <td>0</td>\n",
       "      <td>0</td>\n",
       "      <td>1</td>\n",
       "      <td>0</td>\n",
       "      <td>0</td>\n",
       "      <td>0</td>\n",
       "    </tr>\n",
       "  </tbody>\n",
       "</table>\n",
       "<p>5 rows × 247 columns</p>\n",
       "</div>"
      ],
      "text/plain": [
       "   Unnamed: 0  case_received_year  case_status        decision_year  \\\n",
       "0      135269                2013            1  1432857600000000000   \n",
       "1      135270                2013            0  1435276800000000000   \n",
       "2      135271                2013            0  1413417600000000000   \n",
       "3      135272                2013            1  1432598400000000000   \n",
       "4      135273                2013            0  1435276800000000000   \n",
       "\n",
       "   employer_num_employees  employer_yr_estab  job_info_alt_occ_num_months  \\\n",
       "0                    1935             1959.0                         84.0   \n",
       "1                     350             1988.0                         60.0   \n",
       "2                       4             1996.0                         60.0   \n",
       "3                       8             2010.0                         60.0   \n",
       "4                     350             1988.0                         60.0   \n",
       "\n",
       "   pw_amount_9089  A1/A2  B-1  ...  ZAMBIA  ZIMBABWE  Bachelor's  Doctorate  \\\n",
       "0         83366.0      0    0  ...       0         0           1          0   \n",
       "1         16973.0      0    0  ...       0         0           0          0   \n",
       "2         49982.0      0    0  ...       0         0           0          1   \n",
       "3         43514.0      0    0  ...       0         0           0          0   \n",
       "4         16973.0      0    0  ...       0         0           0          0   \n",
       "\n",
       "   High School  Master's  None  Other  Y  Y  \n",
       "0            0         0     0      0  0  0  \n",
       "1            0         0     1      0  0  0  \n",
       "2            0         0     0      0  1  0  \n",
       "3            0         1     0      0  0  0  \n",
       "4            0         0     1      0  0  0  \n",
       "\n",
       "[5 rows x 247 columns]"
      ]
     },
     "execution_count": 7,
     "metadata": {},
     "output_type": "execute_result"
    }
   ],
   "source": [
    "visa.head()"
   ]
  },
  {
   "cell_type": "code",
   "execution_count": 32,
   "metadata": {
    "scrolled": false
   },
   "outputs": [
    {
     "data": {
      "text/plain": [
       "<matplotlib.axes._subplots.AxesSubplot at 0x7fa153bf3580>"
      ]
     },
     "execution_count": 32,
     "metadata": {},
     "output_type": "execute_result"
    },
    {
     "data": {
      "image/png": "[encoded data removed]",
      "text/plain": [
       "<Figure size 432x288 with 1 Axes>"
      ]
     },
     "metadata": {},
     "output_type": "display_data"
    }
   ],
   "source": [
    "sns.countplot(x=\"case_status\",data=visa, palette=\"winter\")"
   ]
  },
  {
   "cell_type": "code",
   "execution_count": 9,
   "metadata": {
    "scrolled": true
   },
   "outputs": [],
   "source": [
    "y = visa[\"case_status\"]\n",
    "X = visa.drop(columns=\"case_status\")"
   ]
  },
  {
   "cell_type": "code",
   "execution_count": 10,
   "metadata": {
    "scrolled": true
   },
   "outputs": [
    {
     "data": {
      "text/html": [
       "<div>\n",
       "<style scoped>\n",
       "    .dataframe tbody tr th:only-of-type {\n",
       "        vertical-align: middle;\n",
       "    }\n",
       "\n",
       "    .dataframe tbody tr th {\n",
       "        vertical-align: top;\n",
       "    }\n",
       "\n",
       "    .dataframe thead th {\n",
       "        text-align: right;\n",
       "    }\n",
       "</style>\n",
       "<table border=\"1\" class=\"dataframe\">\n",
       "  <thead>\n",
       "    <tr style=\"text-align: right;\">\n",
       "      <th></th>\n",
       "      <th>Unnamed: 0</th>\n",
       "      <th>case_received_year</th>\n",
       "      <th>decision_year</th>\n",
       "      <th>employer_num_employees</th>\n",
       "      <th>employer_yr_estab</th>\n",
       "      <th>job_info_alt_occ_num_months</th>\n",
       "      <th>pw_amount_9089</th>\n",
       "      <th>A1/A2</th>\n",
       "      <th>B-1</th>\n",
       "      <th>B-2</th>\n",
       "      <th>...</th>\n",
       "      <th>ZAMBIA</th>\n",
       "      <th>ZIMBABWE</th>\n",
       "      <th>Bachelor's</th>\n",
       "      <th>Doctorate</th>\n",
       "      <th>High School</th>\n",
       "      <th>Master's</th>\n",
       "      <th>None</th>\n",
       "      <th>Other</th>\n",
       "      <th>Y</th>\n",
       "      <th>Y</th>\n",
       "    </tr>\n",
       "  </thead>\n",
       "  <tbody>\n",
       "    <tr>\n",
       "      <th>count</th>\n",
       "      <td>84179.000000</td>\n",
       "      <td>84179.000000</td>\n",
       "      <td>8.417900e+04</td>\n",
       "      <td>8.417900e+04</td>\n",
       "      <td>84179.000000</td>\n",
       "      <td>84179.000000</td>\n",
       "      <td>8.417900e+04</td>\n",
       "      <td>84179.000000</td>\n",
       "      <td>84179.000000</td>\n",
       "      <td>84179.000000</td>\n",
       "      <td>...</td>\n",
       "      <td>84179.000000</td>\n",
       "      <td>84179.000000</td>\n",
       "      <td>84179.000000</td>\n",
       "      <td>84179.000000</td>\n",
       "      <td>84179.000000</td>\n",
       "      <td>84179.000000</td>\n",
       "      <td>84179.000000</td>\n",
       "      <td>84179.000000</td>\n",
       "      <td>84179.000000</td>\n",
       "      <td>84179.000000</td>\n",
       "    </tr>\n",
       "    <tr>\n",
       "      <th>mean</th>\n",
       "      <td>178966.804155</td>\n",
       "      <td>2013.973010</td>\n",
       "      <td>1.429156e+18</td>\n",
       "      <td>2.197198e+04</td>\n",
       "      <td>1983.309543</td>\n",
       "      <td>47.012307</td>\n",
       "      <td>8.598948e+04</td>\n",
       "      <td>0.000345</td>\n",
       "      <td>0.001330</td>\n",
       "      <td>0.008256</td>\n",
       "      <td>...</td>\n",
       "      <td>0.000107</td>\n",
       "      <td>0.000558</td>\n",
       "      <td>0.390964</td>\n",
       "      <td>0.035603</td>\n",
       "      <td>0.012937</td>\n",
       "      <td>0.446750</td>\n",
       "      <td>0.074009</td>\n",
       "      <td>0.032455</td>\n",
       "      <td>0.551682</td>\n",
       "      <td>0.018330</td>\n",
       "    </tr>\n",
       "    <tr>\n",
       "      <th>std</th>\n",
       "      <td>25495.050330</td>\n",
       "      <td>0.705961</td>\n",
       "      <td>9.181104e+15</td>\n",
       "      <td>7.481748e+04</td>\n",
       "      <td>36.470322</td>\n",
       "      <td>20.987602</td>\n",
       "      <td>3.533220e+05</td>\n",
       "      <td>0.018558</td>\n",
       "      <td>0.036452</td>\n",
       "      <td>0.090488</td>\n",
       "      <td>...</td>\n",
       "      <td>0.010339</td>\n",
       "      <td>0.023623</td>\n",
       "      <td>0.487969</td>\n",
       "      <td>0.185299</td>\n",
       "      <td>0.113002</td>\n",
       "      <td>0.497159</td>\n",
       "      <td>0.261787</td>\n",
       "      <td>0.177205</td>\n",
       "      <td>0.497325</td>\n",
       "      <td>0.134143</td>\n",
       "    </tr>\n",
       "    <tr>\n",
       "      <th>min</th>\n",
       "      <td>135269.000000</td>\n",
       "      <td>2006.000000</td>\n",
       "      <td>1.412122e+18</td>\n",
       "      <td>0.000000e+00</td>\n",
       "      <td>1600.000000</td>\n",
       "      <td>0.000000</td>\n",
       "      <td>7.500000e+00</td>\n",
       "      <td>0.000000</td>\n",
       "      <td>0.000000</td>\n",
       "      <td>0.000000</td>\n",
       "      <td>...</td>\n",
       "      <td>0.000000</td>\n",
       "      <td>0.000000</td>\n",
       "      <td>0.000000</td>\n",
       "      <td>0.000000</td>\n",
       "      <td>0.000000</td>\n",
       "      <td>0.000000</td>\n",
       "      <td>0.000000</td>\n",
       "      <td>0.000000</td>\n",
       "      <td>0.000000</td>\n",
       "      <td>0.000000</td>\n",
       "    </tr>\n",
       "    <tr>\n",
       "      <th>25%</th>\n",
       "      <td>156979.500000</td>\n",
       "      <td>2014.000000</td>\n",
       "      <td>1.421798e+18</td>\n",
       "      <td>7.500000e+01</td>\n",
       "      <td>1980.000000</td>\n",
       "      <td>24.000000</td>\n",
       "      <td>6.651800e+04</td>\n",
       "      <td>0.000000</td>\n",
       "      <td>0.000000</td>\n",
       "      <td>0.000000</td>\n",
       "      <td>...</td>\n",
       "      <td>0.000000</td>\n",
       "      <td>0.000000</td>\n",
       "      <td>0.000000</td>\n",
       "      <td>0.000000</td>\n",
       "      <td>0.000000</td>\n",
       "      <td>0.000000</td>\n",
       "      <td>0.000000</td>\n",
       "      <td>0.000000</td>\n",
       "      <td>0.000000</td>\n",
       "      <td>0.000000</td>\n",
       "    </tr>\n",
       "    <tr>\n",
       "      <th>50%</th>\n",
       "      <td>178527.000000</td>\n",
       "      <td>2014.000000</td>\n",
       "      <td>1.428970e+18</td>\n",
       "      <td>1.400000e+03</td>\n",
       "      <td>1994.000000</td>\n",
       "      <td>60.000000</td>\n",
       "      <td>8.403200e+04</td>\n",
       "      <td>0.000000</td>\n",
       "      <td>0.000000</td>\n",
       "      <td>0.000000</td>\n",
       "      <td>...</td>\n",
       "      <td>0.000000</td>\n",
       "      <td>0.000000</td>\n",
       "      <td>0.000000</td>\n",
       "      <td>0.000000</td>\n",
       "      <td>0.000000</td>\n",
       "      <td>0.000000</td>\n",
       "      <td>0.000000</td>\n",
       "      <td>0.000000</td>\n",
       "      <td>1.000000</td>\n",
       "      <td>0.000000</td>\n",
       "    </tr>\n",
       "    <tr>\n",
       "      <th>75%</th>\n",
       "      <td>200644.500000</td>\n",
       "      <td>2014.000000</td>\n",
       "      <td>1.437696e+18</td>\n",
       "      <td>2.780000e+04</td>\n",
       "      <td>2004.000000</td>\n",
       "      <td>60.000000</td>\n",
       "      <td>1.036260e+05</td>\n",
       "      <td>0.000000</td>\n",
       "      <td>0.000000</td>\n",
       "      <td>0.000000</td>\n",
       "      <td>...</td>\n",
       "      <td>0.000000</td>\n",
       "      <td>0.000000</td>\n",
       "      <td>1.000000</td>\n",
       "      <td>0.000000</td>\n",
       "      <td>0.000000</td>\n",
       "      <td>1.000000</td>\n",
       "      <td>0.000000</td>\n",
       "      <td>0.000000</td>\n",
       "      <td>1.000000</td>\n",
       "      <td>0.000000</td>\n",
       "    </tr>\n",
       "    <tr>\n",
       "      <th>max</th>\n",
       "      <td>223902.000000</td>\n",
       "      <td>2015.000000</td>\n",
       "      <td>1.443571e+18</td>\n",
       "      <td>2.200000e+06</td>\n",
       "      <td>2015.000000</td>\n",
       "      <td>240.000000</td>\n",
       "      <td>1.010880e+08</td>\n",
       "      <td>1.000000</td>\n",
       "      <td>1.000000</td>\n",
       "      <td>1.000000</td>\n",
       "      <td>...</td>\n",
       "      <td>1.000000</td>\n",
       "      <td>1.000000</td>\n",
       "      <td>1.000000</td>\n",
       "      <td>1.000000</td>\n",
       "      <td>1.000000</td>\n",
       "      <td>1.000000</td>\n",
       "      <td>1.000000</td>\n",
       "      <td>1.000000</td>\n",
       "      <td>1.000000</td>\n",
       "      <td>1.000000</td>\n",
       "    </tr>\n",
       "  </tbody>\n",
       "</table>\n",
       "<p>8 rows × 246 columns</p>\n",
       "</div>"
      ],
      "text/plain": [
       "          Unnamed: 0  case_received_year  decision_year  \\\n",
       "count   84179.000000        84179.000000   8.417900e+04   \n",
       "mean   178966.804155         2013.973010   1.429156e+18   \n",
       "std     25495.050330            0.705961   9.181104e+15   \n",
       "min    135269.000000         2006.000000   1.412122e+18   \n",
       "25%    156979.500000         2014.000000   1.421798e+18   \n",
       "50%    178527.000000         2014.000000   1.428970e+18   \n",
       "75%    200644.500000         2014.000000   1.437696e+18   \n",
       "max    223902.000000         2015.000000   1.443571e+18   \n",
       "\n",
       "       employer_num_employees  employer_yr_estab  job_info_alt_occ_num_months  \\\n",
       "count            8.417900e+04       84179.000000                 84179.000000   \n",
       "mean             2.197198e+04        1983.309543                    47.012307   \n",
       "std              7.481748e+04          36.470322                    20.987602   \n",
       "min              0.000000e+00        1600.000000                     0.000000   \n",
       "25%              7.500000e+01        1980.000000                    24.000000   \n",
       "50%              1.400000e+03        1994.000000                    60.000000   \n",
       "75%              2.780000e+04        2004.000000                    60.000000   \n",
       "max              2.200000e+06        2015.000000                   240.000000   \n",
       "\n",
       "       pw_amount_9089         A1/A2           B-1           B-2  ...  \\\n",
       "count    8.417900e+04  84179.000000  84179.000000  84179.000000  ...   \n",
       "mean     8.598948e+04      0.000345      0.001330      0.008256  ...   \n",
       "std      3.533220e+05      0.018558      0.036452      0.090488  ...   \n",
       "min      7.500000e+00      0.000000      0.000000      0.000000  ...   \n",
       "25%      6.651800e+04      0.000000      0.000000      0.000000  ...   \n",
       "50%      8.403200e+04      0.000000      0.000000      0.000000  ...   \n",
       "75%      1.036260e+05      0.000000      0.000000      0.000000  ...   \n",
       "max      1.010880e+08      1.000000      1.000000      1.000000  ...   \n",
       "\n",
       "             ZAMBIA      ZIMBABWE    Bachelor's     Doctorate   High School  \\\n",
       "count  84179.000000  84179.000000  84179.000000  84179.000000  84179.000000   \n",
       "mean       0.000107      0.000558      0.390964      0.035603      0.012937   \n",
       "std        0.010339      0.023623      0.487969      0.185299      0.113002   \n",
       "min        0.000000      0.000000      0.000000      0.000000      0.000000   \n",
       "25%        0.000000      0.000000      0.000000      0.000000      0.000000   \n",
       "50%        0.000000      0.000000      0.000000      0.000000      0.000000   \n",
       "75%        0.000000      0.000000      1.000000      0.000000      0.000000   \n",
       "max        1.000000      1.000000      1.000000      1.000000      1.000000   \n",
       "\n",
       "           Master's          None         Other             Y             Y  \n",
       "count  84179.000000  84179.000000  84179.000000  84179.000000  84179.000000  \n",
       "mean       0.446750      0.074009      0.032455      0.551682      0.018330  \n",
       "std        0.497159      0.261787      0.177205      0.497325      0.134143  \n",
       "min        0.000000      0.000000      0.000000      0.000000      0.000000  \n",
       "25%        0.000000      0.000000      0.000000      0.000000      0.000000  \n",
       "50%        0.000000      0.000000      0.000000      1.000000      0.000000  \n",
       "75%        1.000000      0.000000      0.000000      1.000000      0.000000  \n",
       "max        1.000000      1.000000      1.000000      1.000000      1.000000  \n",
       "\n",
       "[8 rows x 246 columns]"
      ]
     },
     "execution_count": 10,
     "metadata": {},
     "output_type": "execute_result"
    }
   ],
   "source": [
    "X.describe()"
   ]
  },
  {
   "cell_type": "code",
   "execution_count": 11,
   "metadata": {
    "scrolled": false
   },
   "outputs": [
    {
     "data": {
      "text/plain": [
       "1    78622\n",
       "0     5557\n",
       "Name: case_status, dtype: int64"
      ]
     },
     "execution_count": 11,
     "metadata": {},
     "output_type": "execute_result"
    }
   ],
   "source": [
    "# Check the balance of our target values\n",
    "y.value_counts()"
   ]
  },
  {
   "cell_type": "markdown",
   "metadata": {},
   "source": [
    "### Test-Train-Split"
   ]
  },
  {
   "cell_type": "code",
   "execution_count": 12,
   "metadata": {
    "scrolled": true
   },
   "outputs": [
    {
     "data": {
      "text/plain": [
       "(63134, 246)"
      ]
     },
     "execution_count": 12,
     "metadata": {},
     "output_type": "execute_result"
    }
   ],
   "source": [
    "X_train, X_test, y_train, y_test = train_test_split (X, y, random_state = 1, stratify=y)\n",
    "\n",
    "X_train.shape"
   ]
  },
  {
   "cell_type": "code",
   "execution_count": 13,
   "metadata": {
    "scrolled": true
   },
   "outputs": [
    {
     "data": {
      "text/plain": [
       "Counter({1: 58966, 0: 58966})"
      ]
     },
     "execution_count": 13,
     "metadata": {},
     "output_type": "execute_result"
    }
   ],
   "source": [
    "# Resample the training data with the RandomOversampler\n",
    "ros = RandomOverSampler(random_state=1)\n",
    "X_res, y_res = ros.fit_resample(X_train.values, y_train.values)\n",
    "Counter(y_res)"
   ]
  },
  {
   "cell_type": "code",
   "execution_count": 14,
   "metadata": {},
   "outputs": [],
   "source": [
    "# Train the Logistic Regression model using the resampled data\n",
    "model = LogisticRegression(random_state=1)\n",
    "model.fit(X_res, y_res)\n",
    "y_pred = model.predict(X_test)"
   ]
  },
  {
   "cell_type": "code",
   "execution_count": 15,
   "metadata": {
    "scrolled": false
   },
   "outputs": [
    {
     "data": {
      "text/plain": [
       "LogisticRegression()"
      ]
     },
     "execution_count": 15,
     "metadata": {},
     "output_type": "execute_result"
    }
   ],
   "source": [
    "#from random_forest.fit(X_train,y_train.ravel())\n",
    "#y_pred.summary()\n",
    "logreg = LogisticRegression()\n",
    "logreg.fit(X_train, y_train)"
   ]
  },
  {
   "cell_type": "code",
   "execution_count": 16,
   "metadata": {},
   "outputs": [
    {
     "name": "stdout",
     "output_type": "stream",
     "text": [
      "log:  0.06600142551674983\n"
     ]
    }
   ],
   "source": [
    "y_pred = logreg.predict(X_test)\n",
    "print('log: ', metrics.accuracy_score(y_test, y_pred))"
   ]
  },
  {
   "cell_type": "code",
   "execution_count": 17,
   "metadata": {},
   "outputs": [
    {
     "data": {
      "text/plain": [
       "0.5"
      ]
     },
     "execution_count": 17,
     "metadata": {},
     "output_type": "execute_result"
    }
   ],
   "source": [
    "# Calculated the balanced accuracy score\n",
    "balanced_accuracy_score(y_test, y_pred)"
   ]
  },
  {
   "cell_type": "code",
   "execution_count": 18,
   "metadata": {
    "scrolled": true
   },
   "outputs": [
    {
     "data": {
      "text/plain": [
       "array([[ 1389,     0],\n",
       "       [19656,     0]])"
      ]
     },
     "execution_count": 18,
     "metadata": {},
     "output_type": "execute_result"
    }
   ],
   "source": [
    "# Display the confusion matrix\n",
    "confusion_matrix(y_test, y_pred)"
   ]
  },
  {
   "cell_type": "code",
   "execution_count": 19,
   "metadata": {
    "scrolled": false
   },
   "outputs": [
    {
     "name": "stdout",
     "output_type": "stream",
     "text": [
      "                   pre       rec       spe        f1       geo       iba       sup\n",
      "\n",
      "          0       0.07      1.00      0.00      0.12      0.00      0.00      1389\n",
      "          1       0.00      0.00      1.00      0.00      0.00      0.00     19656\n",
      "\n",
      "avg / total       0.00      0.07      0.93      0.01      0.00      0.00     21045\n",
      "\n"
     ]
    }
   ],
   "source": [
    "# Print the imbalanced classification report\n",
    "print(classification_report_imbalanced(y_test, y_pred))"
   ]
  },
  {
   "cell_type": "code",
   "execution_count": 20,
   "metadata": {
    "scrolled": false
   },
   "outputs": [
    {
     "data": {
      "text/plain": [
       "<matplotlib.axes._subplots.AxesSubplot at 0x7fa14e78eb20>"
      ]
     },
     "execution_count": 20,
     "metadata": {},
     "output_type": "execute_result"
    },
    {
     "data": {
      "image/png": "[encoded data removed]",
      "text/plain": [
       "<Figure size 576x360 with 2 Axes>"
      ]
     },
     "metadata": {
      "needs_background": "light"
     },
     "output_type": "display_data"
    }
   ],
   "source": [
    "data = confusion_matrix(y_test, y_pred)\n",
    "df_cm = pd.DataFrame(data, columns=np.unique(y_test), index = np.unique(y_test))\n",
    "plt.figure(figsize = (8,5))\n",
    "sns.set(font_scale=1.4)#for label size\n",
    "sns.heatmap(df_cm, cmap=\"YlGnBu\", annot=True,annot_kws={\"size\": 16})# font size"
   ]
  },
  {
   "cell_type": "markdown",
   "metadata": {},
   "source": [
    "### SMOTE Oversampling"
   ]
  },
  {
   "cell_type": "code",
   "execution_count": 21,
   "metadata": {},
   "outputs": [
    {
     "data": {
      "text/plain": [
       "Counter({1: 58966, 0: 58966})"
      ]
     },
     "execution_count": 21,
     "metadata": {},
     "output_type": "execute_result"
    }
   ],
   "source": [
    "# Resample the training data with SMOTE\n",
    "X_res, y_res = SMOTE(random_state=1).fit_resample(X_train.values, y_train.values)\n",
    "Counter(y_res)"
   ]
  },
  {
   "cell_type": "code",
   "execution_count": 22,
   "metadata": {},
   "outputs": [],
   "source": [
    "# Train the Logistic Regression model using the resampled data\n",
    "model = LogisticRegression(random_state=1)\n",
    "model.fit(X_res, y_res)\n",
    "y_pred = model.predict(X_test)"
   ]
  },
  {
   "cell_type": "code",
   "execution_count": 23,
   "metadata": {},
   "outputs": [
    {
     "data": {
      "text/plain": [
       "0.5"
      ]
     },
     "execution_count": 23,
     "metadata": {},
     "output_type": "execute_result"
    }
   ],
   "source": [
    "# Calculated the balanced accuracy score\n",
    "balanced_accuracy_score(y_test, y_pred)"
   ]
  },
  {
   "cell_type": "code",
   "execution_count": 24,
   "metadata": {},
   "outputs": [
    {
     "data": {
      "text/plain": [
       "array([[ 1389,     0],\n",
       "       [19656,     0]])"
      ]
     },
     "execution_count": 24,
     "metadata": {},
     "output_type": "execute_result"
    }
   ],
   "source": [
    "# Display the confusion matrix\n",
    "confusion_matrix(y_test, y_pred)"
   ]
  },
  {
   "cell_type": "code",
   "execution_count": 25,
   "metadata": {
    "scrolled": false
   },
   "outputs": [
    {
     "name": "stdout",
     "output_type": "stream",
     "text": [
      "                   pre       rec       spe        f1       geo       iba       sup\n",
      "\n",
      "          0       0.07      1.00      0.00      0.12      0.00      0.00      1389\n",
      "          1       0.00      0.00      1.00      0.00      0.00      0.00     19656\n",
      "\n",
      "avg / total       0.00      0.07      0.93      0.01      0.00      0.00     21045\n",
      "\n"
     ]
    }
   ],
   "source": [
    "# Print the imbalanced classification report\n",
    "print(classification_report_imbalanced(y_test, y_pred))"
   ]
  },
  {
   "cell_type": "code",
   "execution_count": 26,
   "metadata": {
    "scrolled": true
   },
   "outputs": [
    {
     "data": {
      "text/plain": [
       "<matplotlib.axes._subplots.AxesSubplot at 0x7fa15d4a0f70>"
      ]
     },
     "execution_count": 26,
     "metadata": {},
     "output_type": "execute_result"
    },
    {
     "data": {
      "image/png": "[encoded data removed]",
      "text/plain": [
       "<Figure size 576x360 with 2 Axes>"
      ]
     },
     "metadata": {},
     "output_type": "display_data"
    }
   ],
   "source": [
    "data = confusion_matrix(y_test, y_pred)\n",
    "df_cm = pd.DataFrame(data, columns=np.unique(y_test), index = np.unique(y_test))\n",
    "plt.figure(figsize = (8,5))\n",
    "sns.set(font_scale=1.4)#for label size\n",
    "sns.heatmap(df_cm, cmap=\"YlGnBu\", annot=True,annot_kws={\"size\": 16})# font size"
   ]
  },
  {
   "cell_type": "markdown",
   "metadata": {},
   "source": [
    "## Ensemble Learners\n",
    "### Balanced Random Forest Classifier"
   ]
  },
  {
   "cell_type": "code",
   "execution_count": 27,
   "metadata": {
    "scrolled": true
   },
   "outputs": [],
   "source": [
    "# Resample the training data with the BalancedRandomForestClassifier\n",
    "random_forest_model = BalancedRandomForestClassifier(random_state=1)\n",
    "random_forest_model = random_forest_model.fit(X_train.values, y_train.values)\n",
    "y_pred = random_forest_model.predict(X_test)"
   ]
  },
  {
   "cell_type": "code",
   "execution_count": 28,
   "metadata": {},
   "outputs": [
    {
     "data": {
      "text/plain": [
       "0.8372925770333978"
      ]
     },
     "execution_count": 28,
     "metadata": {},
     "output_type": "execute_result"
    }
   ],
   "source": [
    "# Calculated the balanced accuracy score\n",
    "balanced_accuracy_score(y_test, y_pred)"
   ]
  },
  {
   "cell_type": "code",
   "execution_count": 29,
   "metadata": {},
   "outputs": [
    {
     "data": {
      "text/plain": [
       "array([[ 1175,   214],\n",
       "       [ 3368, 16288]])"
      ]
     },
     "execution_count": 29,
     "metadata": {},
     "output_type": "execute_result"
    }
   ],
   "source": [
    "# Display the confusion matrix\n",
    "confusion_matrix(y_test, y_pred)"
   ]
  },
  {
   "cell_type": "code",
   "execution_count": 30,
   "metadata": {
    "scrolled": false
   },
   "outputs": [
    {
     "name": "stdout",
     "output_type": "stream",
     "text": [
      "                   pre       rec       spe        f1       geo       iba       sup\n",
      "\n",
      "          0       0.26      0.85      0.83      0.40      0.84      0.70      1389\n",
      "          1       0.99      0.83      0.85      0.90      0.84      0.70     19656\n",
      "\n",
      "avg / total       0.94      0.83      0.84      0.87      0.84      0.70     21045\n",
      "\n"
     ]
    }
   ],
   "source": [
    "# Print the imbalanced classification report\n",
    "print(classification_report_imbalanced(y_test, y_pred))"
   ]
  },
  {
   "cell_type": "code",
   "execution_count": 31,
   "metadata": {
    "scrolled": false
   },
   "outputs": [
    {
     "data": {
      "text/plain": [
       "<matplotlib.axes._subplots.AxesSubplot at 0x7fa15d6f4340>"
      ]
     },
     "execution_count": 31,
     "metadata": {},
     "output_type": "execute_result"
    },
    {
     "data": {
      "image/png": "[encoded data removed]",
      "text/plain": [
       "<Figure size 576x360 with 2 Axes>"
      ]
     },
     "metadata": {},
     "output_type": "display_data"
    }
   ],
   "source": [
    "data = confusion_matrix(y_test, y_pred)\n",
    "df_cm = pd.DataFrame(data, columns=np.unique(y_test), index = np.unique(y_test))\n",
    "plt.figure(figsize = (8,5))\n",
    "sns.set(font_scale=1.4)#for label size\n",
    "sns.heatmap(df_cm, cmap=\"YlGnBu\", annot=True,annot_kws={\"size\": 16})# font size"
   ]
  },
  {
   "cell_type": "code",
   "execution_count": null,
   "metadata": {},
   "outputs": [],
   "source": []
  }
 ],
 "metadata": {
  "kernelspec": {
   "display_name": "PythonData",
   "language": "python",
   "name": "pythondata"
  },
  "language_info": {
   "codemirror_mode": {
    "name": "ipython",
    "version": 3
   },
   "file_extension": ".py",
   "mimetype": "text/x-python",
   "name": "python",
   "nbconvert_exporter": "python",
   "pygments_lexer": "ipython3",
   "version": "3.8.3"
  }
 },
 "nbformat": 4,
 "nbformat_minor": 4
}
