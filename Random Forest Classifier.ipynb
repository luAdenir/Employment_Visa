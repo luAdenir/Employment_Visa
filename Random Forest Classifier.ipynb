{
 "cells": [
  {
   "cell_type": "code",
   "execution_count": 1,
   "metadata": {},
   "outputs": [],
   "source": [
    "import numpy as np\n",
    "import pandas as pd\n",
    "from pathlib import Path\n",
    "from collections import Counter\n",
    "from sklearn.model_selection import train_test_split\n",
    "from sklearn.preprocessing import LabelEncoder\n",
    "from imblearn.over_sampling import RandomOverSampler\n",
    "from sklearn.linear_model import LogisticRegression\n",
    "from sklearn.metrics import balanced_accuracy_score\n",
    "from sklearn.metrics import confusion_matrix\n",
    "from imblearn.metrics import classification_report_imbalanced\n",
    "from imblearn.over_sampling import SMOTE\n",
    "from imblearn.ensemble import BalancedRandomForestClassifier\n",
    "from imblearn.ensemble import EasyEnsembleClassifier\n",
    "import sklearn.metrics as metrics\n",
    "import matplotlib.pyplot as plt\n",
    "import matplotlib.pyplot as plt\n",
    "import seaborn as sns"
   ]
  },
  {
   "cell_type": "code",
   "execution_count": 2,
   "metadata": {},
   "outputs": [],
   "source": [
    "import warnings\n",
    "warnings.filterwarnings('ignore')"
   ]
  },
  {
   "cell_type": "code",
   "execution_count": 3,
   "metadata": {
    "scrolled": false
   },
   "outputs": [
    {
     "data": {
      "text/html": [
       "<div>\n",
       "<style scoped>\n",
       "    .dataframe tbody tr th:only-of-type {\n",
       "        vertical-align: middle;\n",
       "    }\n",
       "\n",
       "    .dataframe tbody tr th {\n",
       "        vertical-align: top;\n",
       "    }\n",
       "\n",
       "    .dataframe thead th {\n",
       "        text-align: right;\n",
       "    }\n",
       "</style>\n",
       "<table border=\"1\" class=\"dataframe\">\n",
       "  <thead>\n",
       "    <tr style=\"text-align: right;\">\n",
       "      <th></th>\n",
       "      <th>Unnamed: 0</th>\n",
       "      <th>application_type</th>\n",
       "      <th>case_received_year</th>\n",
       "      <th>case_status</th>\n",
       "      <th>class_of_admission</th>\n",
       "      <th>decision_year</th>\n",
       "      <th>employer_country</th>\n",
       "      <th>employer_name</th>\n",
       "      <th>employer_num_employees</th>\n",
       "      <th>employer_state</th>\n",
       "      <th>...</th>\n",
       "      <th>job_info_experience</th>\n",
       "      <th>job_info_foreign_ed</th>\n",
       "      <th>job_info_foreign_lang_req</th>\n",
       "      <th>job_info_job_title</th>\n",
       "      <th>job_info_training</th>\n",
       "      <th>pw_amount_9089</th>\n",
       "      <th>pw_job_title_9089</th>\n",
       "      <th>pw_level_9089</th>\n",
       "      <th>pw_source_name_9089</th>\n",
       "      <th>pw_unit_of_pay_9089</th>\n",
       "    </tr>\n",
       "  </thead>\n",
       "  <tbody>\n",
       "    <tr>\n",
       "      <th>0</th>\n",
       "      <td>0</td>\n",
       "      <td>PERM</td>\n",
       "      <td>2014</td>\n",
       "      <td>1</td>\n",
       "      <td>J-1</td>\n",
       "      <td>1328054400000000000</td>\n",
       "      <td>NaN</td>\n",
       "      <td>NETSOFT USA INC.</td>\n",
       "      <td>22348</td>\n",
       "      <td>NY</td>\n",
       "      <td>...</td>\n",
       "      <td>Y</td>\n",
       "      <td>Y</td>\n",
       "      <td>N</td>\n",
       "      <td>NaN</td>\n",
       "      <td>N</td>\n",
       "      <td>75629.0</td>\n",
       "      <td>Computer Software Engineers, Applications</td>\n",
       "      <td>Level II</td>\n",
       "      <td>OES</td>\n",
       "      <td>Year</td>\n",
       "    </tr>\n",
       "    <tr>\n",
       "      <th>1</th>\n",
       "      <td>1</td>\n",
       "      <td>PERM</td>\n",
       "      <td>2014</td>\n",
       "      <td>0</td>\n",
       "      <td>B-2</td>\n",
       "      <td>1324425600000000000</td>\n",
       "      <td>NaN</td>\n",
       "      <td>PINNACLE ENVIRONEMNTAL CORP</td>\n",
       "      <td>22348</td>\n",
       "      <td>NY</td>\n",
       "      <td>...</td>\n",
       "      <td>Y</td>\n",
       "      <td>Y</td>\n",
       "      <td>N</td>\n",
       "      <td>NaN</td>\n",
       "      <td>N</td>\n",
       "      <td>37024.0</td>\n",
       "      <td>ASBESTOS HANDLER</td>\n",
       "      <td>Level I</td>\n",
       "      <td>OES</td>\n",
       "      <td>Year</td>\n",
       "    </tr>\n",
       "    <tr>\n",
       "      <th>2</th>\n",
       "      <td>2</td>\n",
       "      <td>PERM</td>\n",
       "      <td>2014</td>\n",
       "      <td>1</td>\n",
       "      <td>H-1B</td>\n",
       "      <td>1322697600000000000</td>\n",
       "      <td>NaN</td>\n",
       "      <td>SCHNABEL ENGINEERING, INC.</td>\n",
       "      <td>22348</td>\n",
       "      <td>VA</td>\n",
       "      <td>...</td>\n",
       "      <td>Y</td>\n",
       "      <td>Y</td>\n",
       "      <td>N</td>\n",
       "      <td>NaN</td>\n",
       "      <td>N</td>\n",
       "      <td>47923.0</td>\n",
       "      <td>Civil Engineer</td>\n",
       "      <td>Level I</td>\n",
       "      <td>OES</td>\n",
       "      <td>Year</td>\n",
       "    </tr>\n",
       "    <tr>\n",
       "      <th>3</th>\n",
       "      <td>3</td>\n",
       "      <td>PERM</td>\n",
       "      <td>2014</td>\n",
       "      <td>1</td>\n",
       "      <td>B-2</td>\n",
       "      <td>1322697600000000000</td>\n",
       "      <td>NaN</td>\n",
       "      <td>EBENEZER MISSION CHURCH</td>\n",
       "      <td>22348</td>\n",
       "      <td>NY</td>\n",
       "      <td>...</td>\n",
       "      <td>Y</td>\n",
       "      <td>Y</td>\n",
       "      <td>N</td>\n",
       "      <td>NaN</td>\n",
       "      <td>N</td>\n",
       "      <td>21940.0</td>\n",
       "      <td>File Clerk</td>\n",
       "      <td>Level II</td>\n",
       "      <td>OES</td>\n",
       "      <td>Year</td>\n",
       "    </tr>\n",
       "    <tr>\n",
       "      <th>4</th>\n",
       "      <td>4</td>\n",
       "      <td>PERM</td>\n",
       "      <td>2014</td>\n",
       "      <td>1</td>\n",
       "      <td>L-1</td>\n",
       "      <td>1327536000000000000</td>\n",
       "      <td>NaN</td>\n",
       "      <td>ALBANY INTERNATIONAL CORP.</td>\n",
       "      <td>22348</td>\n",
       "      <td>NY</td>\n",
       "      <td>...</td>\n",
       "      <td>Y</td>\n",
       "      <td>Y</td>\n",
       "      <td>N</td>\n",
       "      <td>NaN</td>\n",
       "      <td>N</td>\n",
       "      <td>94890.0</td>\n",
       "      <td>Sales &amp; Service Engineer</td>\n",
       "      <td>Level IV</td>\n",
       "      <td>OES</td>\n",
       "      <td>Year</td>\n",
       "    </tr>\n",
       "  </tbody>\n",
       "</table>\n",
       "<p>5 rows × 30 columns</p>\n",
       "</div>"
      ],
      "text/plain": [
       "   Unnamed: 0 application_type  case_received_year  case_status  \\\n",
       "0           0             PERM                2014            1   \n",
       "1           1             PERM                2014            0   \n",
       "2           2             PERM                2014            1   \n",
       "3           3             PERM                2014            1   \n",
       "4           4             PERM                2014            1   \n",
       "\n",
       "  class_of_admission        decision_year employer_country  \\\n",
       "0                J-1  1328054400000000000              NaN   \n",
       "1                B-2  1324425600000000000              NaN   \n",
       "2               H-1B  1322697600000000000              NaN   \n",
       "3                B-2  1322697600000000000              NaN   \n",
       "4                L-1  1327536000000000000              NaN   \n",
       "\n",
       "                 employer_name  employer_num_employees employer_state  ...  \\\n",
       "0             NETSOFT USA INC.                   22348             NY  ...   \n",
       "1  PINNACLE ENVIRONEMNTAL CORP                   22348             NY  ...   \n",
       "2   SCHNABEL ENGINEERING, INC.                   22348             VA  ...   \n",
       "3      EBENEZER MISSION CHURCH                   22348             NY  ...   \n",
       "4   ALBANY INTERNATIONAL CORP.                   22348             NY  ...   \n",
       "\n",
       "  job_info_experience job_info_foreign_ed job_info_foreign_lang_req  \\\n",
       "0                   Y                   Y                         N   \n",
       "1                   Y                   Y                         N   \n",
       "2                   Y                   Y                         N   \n",
       "3                   Y                   Y                         N   \n",
       "4                   Y                   Y                         N   \n",
       "\n",
       "  job_info_job_title job_info_training pw_amount_9089  \\\n",
       "0                NaN                 N        75629.0   \n",
       "1                NaN                 N        37024.0   \n",
       "2                NaN                 N        47923.0   \n",
       "3                NaN                 N        21940.0   \n",
       "4                NaN                 N        94890.0   \n",
       "\n",
       "                           pw_job_title_9089 pw_level_9089  \\\n",
       "0  Computer Software Engineers, Applications      Level II   \n",
       "1                           ASBESTOS HANDLER       Level I   \n",
       "2                             Civil Engineer       Level I   \n",
       "3                                 File Clerk      Level II   \n",
       "4                   Sales & Service Engineer      Level IV   \n",
       "\n",
       "   pw_source_name_9089 pw_unit_of_pay_9089  \n",
       "0                  OES                Year  \n",
       "1                  OES                Year  \n",
       "2                  OES                Year  \n",
       "3                  OES                Year  \n",
       "4                  OES                Year  \n",
       "\n",
       "[5 rows x 30 columns]"
      ]
     },
     "execution_count": 3,
     "metadata": {},
     "output_type": "execute_result"
    }
   ],
   "source": [
    "# Load the data\n",
    "file_path = Path(\"visa.csv\")\n",
    "visa = pd.read_csv(file_path)\n",
    "\n",
    "#\"case_status\"\n",
    "visa.loc[visa.case_status==\"Certified\", \"case_status\"]=1\n",
    "visa.loc[visa.case_status==\"Denied\", \"case_status\"]=0\n",
    "visa[\"case_status\"]=visa[\"case_status\"].astype(str).astype(int)\n",
    "\n",
    "\n",
    "visa.head()"
   ]
  },
  {
   "cell_type": "markdown",
   "metadata": {},
   "source": [
    "### Convert categorical features to dummy variables "
   ]
  },
  {
   "cell_type": "code",
   "execution_count": 4,
   "metadata": {},
   "outputs": [],
   "source": [
    "application_type = pd.get_dummies(visa[\"application_type\"],drop_first=True)\n",
    "class_of_admission = pd.get_dummies(visa[\"class_of_admission\"],drop_first=True)\n",
    "foreign_worker_info_education = pd.get_dummies(visa[\"foreign_worker_info_education\"],drop_first=True)\n",
    "country_of_citizenship = pd.get_dummies(visa[\"country_of_citizenship\"],drop_first=True)\n",
    "fw_info_rel_occup_exp = pd.get_dummies(visa[\"fw_info_rel_occup_exp\"],drop_first=True)\n",
    "fw_info_req_experience = pd.get_dummies(visa[\"fw_info_req_experience\"],drop_first=True)\n",
    "job_info_education = pd.get_dummies(visa[\"job_info_education\"],drop_first=True)\n",
    "job_info_experience = pd.get_dummies(visa[\"job_info_experience\"],drop_first=True)\n",
    "job_info_training = pd.get_dummies(visa[\"job_info_training\"],drop_first=True)"
   ]
  },
  {
   "cell_type": "code",
   "execution_count": 6,
   "metadata": {},
   "outputs": [],
   "source": [
    "visa.drop([\"application_type\",\"class_of_admission\",\"foreign_worker_info_education\",\"country_of_citizenship\",\n",
    "          \"fw_info_rel_occup_exp\",\"fw_info_req_experience\",\"job_info_education\",\"job_info_experience\",\n",
    "          \"job_info_training\",\"pw_level_9089\",\"employer_country\",\"employer_name\",\"employer_state\",\n",
    "          \"foreign_worker_info_major\",\"foreign_worker_info_state\",\"fw_info_alt_edu_experience\",\"fw_info_birth_country\",\n",
    "          \"job_info_foreign_ed\",\"job_info_foreign_lang_req\",\"job_info_job_title\",\"pw_job_title_9089\",\"pw_source_name_9089\",\n",
    "          \"pw_unit_of_pay_9089\"],axis=1,inplace=True)"
   ]
  },
  {
   "cell_type": "code",
   "execution_count": 7,
   "metadata": {},
   "outputs": [],
   "source": [
    "visa=pd.concat([visa,application_type,class_of_admission,foreign_worker_info_education,country_of_citizenship,\n",
    "          fw_info_rel_occup_exp,fw_info_req_experience,job_info_education,job_info_experience,\n",
    "          job_info_training],axis=1)"
   ]
  },
  {
   "cell_type": "code",
   "execution_count": 8,
   "metadata": {
    "scrolled": true
   },
   "outputs": [
    {
     "data": {
      "text/html": [
       "<div>\n",
       "<style scoped>\n",
       "    .dataframe tbody tr th:only-of-type {\n",
       "        vertical-align: middle;\n",
       "    }\n",
       "\n",
       "    .dataframe tbody tr th {\n",
       "        vertical-align: top;\n",
       "    }\n",
       "\n",
       "    .dataframe thead th {\n",
       "        text-align: right;\n",
       "    }\n",
       "</style>\n",
       "<table border=\"1\" class=\"dataframe\">\n",
       "  <thead>\n",
       "    <tr style=\"text-align: right;\">\n",
       "      <th></th>\n",
       "      <th>Unnamed: 0</th>\n",
       "      <th>case_received_year</th>\n",
       "      <th>case_status</th>\n",
       "      <th>decision_year</th>\n",
       "      <th>employer_num_employees</th>\n",
       "      <th>job_info_alt_occ_num_months</th>\n",
       "      <th>pw_amount_9089</th>\n",
       "      <th>ONLINE</th>\n",
       "      <th>PERM</th>\n",
       "      <th>A1/A2</th>\n",
       "      <th>...</th>\n",
       "      <th>N</th>\n",
       "      <th>Y</th>\n",
       "      <th>Bachelor's</th>\n",
       "      <th>Doctorate</th>\n",
       "      <th>High School</th>\n",
       "      <th>Master's</th>\n",
       "      <th>None</th>\n",
       "      <th>Other</th>\n",
       "      <th>Y</th>\n",
       "      <th>Y</th>\n",
       "    </tr>\n",
       "  </thead>\n",
       "  <tbody>\n",
       "    <tr>\n",
       "      <th>0</th>\n",
       "      <td>0</td>\n",
       "      <td>2014</td>\n",
       "      <td>1</td>\n",
       "      <td>1328054400000000000</td>\n",
       "      <td>22348</td>\n",
       "      <td>60.0</td>\n",
       "      <td>75629.0</td>\n",
       "      <td>0</td>\n",
       "      <td>1</td>\n",
       "      <td>0</td>\n",
       "      <td>...</td>\n",
       "      <td>0</td>\n",
       "      <td>0</td>\n",
       "      <td>0</td>\n",
       "      <td>0</td>\n",
       "      <td>0</td>\n",
       "      <td>1</td>\n",
       "      <td>0</td>\n",
       "      <td>0</td>\n",
       "      <td>1</td>\n",
       "      <td>0</td>\n",
       "    </tr>\n",
       "    <tr>\n",
       "      <th>1</th>\n",
       "      <td>1</td>\n",
       "      <td>2014</td>\n",
       "      <td>0</td>\n",
       "      <td>1324425600000000000</td>\n",
       "      <td>22348</td>\n",
       "      <td>60.0</td>\n",
       "      <td>37024.0</td>\n",
       "      <td>0</td>\n",
       "      <td>1</td>\n",
       "      <td>0</td>\n",
       "      <td>...</td>\n",
       "      <td>0</td>\n",
       "      <td>0</td>\n",
       "      <td>0</td>\n",
       "      <td>0</td>\n",
       "      <td>0</td>\n",
       "      <td>1</td>\n",
       "      <td>0</td>\n",
       "      <td>0</td>\n",
       "      <td>1</td>\n",
       "      <td>0</td>\n",
       "    </tr>\n",
       "    <tr>\n",
       "      <th>2</th>\n",
       "      <td>2</td>\n",
       "      <td>2014</td>\n",
       "      <td>1</td>\n",
       "      <td>1322697600000000000</td>\n",
       "      <td>22348</td>\n",
       "      <td>60.0</td>\n",
       "      <td>47923.0</td>\n",
       "      <td>0</td>\n",
       "      <td>1</td>\n",
       "      <td>0</td>\n",
       "      <td>...</td>\n",
       "      <td>0</td>\n",
       "      <td>0</td>\n",
       "      <td>0</td>\n",
       "      <td>0</td>\n",
       "      <td>0</td>\n",
       "      <td>1</td>\n",
       "      <td>0</td>\n",
       "      <td>0</td>\n",
       "      <td>1</td>\n",
       "      <td>0</td>\n",
       "    </tr>\n",
       "    <tr>\n",
       "      <th>3</th>\n",
       "      <td>3</td>\n",
       "      <td>2014</td>\n",
       "      <td>1</td>\n",
       "      <td>1322697600000000000</td>\n",
       "      <td>22348</td>\n",
       "      <td>60.0</td>\n",
       "      <td>21940.0</td>\n",
       "      <td>0</td>\n",
       "      <td>1</td>\n",
       "      <td>0</td>\n",
       "      <td>...</td>\n",
       "      <td>0</td>\n",
       "      <td>0</td>\n",
       "      <td>0</td>\n",
       "      <td>0</td>\n",
       "      <td>0</td>\n",
       "      <td>1</td>\n",
       "      <td>0</td>\n",
       "      <td>0</td>\n",
       "      <td>1</td>\n",
       "      <td>0</td>\n",
       "    </tr>\n",
       "    <tr>\n",
       "      <th>4</th>\n",
       "      <td>4</td>\n",
       "      <td>2014</td>\n",
       "      <td>1</td>\n",
       "      <td>1327536000000000000</td>\n",
       "      <td>22348</td>\n",
       "      <td>60.0</td>\n",
       "      <td>94890.0</td>\n",
       "      <td>0</td>\n",
       "      <td>1</td>\n",
       "      <td>0</td>\n",
       "      <td>...</td>\n",
       "      <td>0</td>\n",
       "      <td>0</td>\n",
       "      <td>0</td>\n",
       "      <td>0</td>\n",
       "      <td>0</td>\n",
       "      <td>1</td>\n",
       "      <td>0</td>\n",
       "      <td>0</td>\n",
       "      <td>1</td>\n",
       "      <td>0</td>\n",
       "    </tr>\n",
       "  </tbody>\n",
       "</table>\n",
       "<p>5 rows × 283 columns</p>\n",
       "</div>"
      ],
      "text/plain": [
       "   Unnamed: 0  case_received_year  case_status        decision_year  \\\n",
       "0           0                2014            1  1328054400000000000   \n",
       "1           1                2014            0  1324425600000000000   \n",
       "2           2                2014            1  1322697600000000000   \n",
       "3           3                2014            1  1322697600000000000   \n",
       "4           4                2014            1  1327536000000000000   \n",
       "\n",
       "   employer_num_employees  job_info_alt_occ_num_months  pw_amount_9089  \\\n",
       "0                   22348                         60.0         75629.0   \n",
       "1                   22348                         60.0         37024.0   \n",
       "2                   22348                         60.0         47923.0   \n",
       "3                   22348                         60.0         21940.0   \n",
       "4                   22348                         60.0         94890.0   \n",
       "\n",
       "   ONLINE  PERM  A1/A2  ...  N  Y  Bachelor's  Doctorate  High School  \\\n",
       "0       0     1      0  ...  0  0           0          0            0   \n",
       "1       0     1      0  ...  0  0           0          0            0   \n",
       "2       0     1      0  ...  0  0           0          0            0   \n",
       "3       0     1      0  ...  0  0           0          0            0   \n",
       "4       0     1      0  ...  0  0           0          0            0   \n",
       "\n",
       "   Master's  None  Other  Y  Y  \n",
       "0         1     0      0  1  0  \n",
       "1         1     0      0  1  0  \n",
       "2         1     0      0  1  0  \n",
       "3         1     0      0  1  0  \n",
       "4         1     0      0  1  0  \n",
       "\n",
       "[5 rows x 283 columns]"
      ]
     },
     "execution_count": 8,
     "metadata": {},
     "output_type": "execute_result"
    }
   ],
   "source": [
    "visa.head()"
   ]
  },
  {
   "cell_type": "code",
   "execution_count": 9,
   "metadata": {
    "scrolled": false
   },
   "outputs": [
    {
     "data": {
      "text/plain": [
       "<matplotlib.axes._subplots.AxesSubplot at 0x7fe0bbe87fd0>"
      ]
     },
     "execution_count": 9,
     "metadata": {},
     "output_type": "execute_result"
    },
    {
     "data": {
      "image/png": "[encoded data removed]",
      "text/plain": [
       "<Figure size 432x288 with 1 Axes>"
      ]
     },
     "metadata": {
      "needs_background": "light"
     },
     "output_type": "display_data"
    }
   ],
   "source": [
    "sns.countplot(x=\"case_status\",data=visa, palette=\"winter\")"
   ]
  },
  {
   "cell_type": "code",
   "execution_count": 10,
   "metadata": {
    "scrolled": true
   },
   "outputs": [],
   "source": [
    "y = visa[\"case_status\"]\n",
    "X = visa.drop(columns=\"case_status\")"
   ]
  },
  {
   "cell_type": "code",
   "execution_count": 11,
   "metadata": {
    "scrolled": true
   },
   "outputs": [
    {
     "data": {
      "text/html": [
       "<div>\n",
       "<style scoped>\n",
       "    .dataframe tbody tr th:only-of-type {\n",
       "        vertical-align: middle;\n",
       "    }\n",
       "\n",
       "    .dataframe tbody tr th {\n",
       "        vertical-align: top;\n",
       "    }\n",
       "\n",
       "    .dataframe thead th {\n",
       "        text-align: right;\n",
       "    }\n",
       "</style>\n",
       "<table border=\"1\" class=\"dataframe\">\n",
       "  <thead>\n",
       "    <tr style=\"text-align: right;\">\n",
       "      <th></th>\n",
       "      <th>Unnamed: 0</th>\n",
       "      <th>case_received_year</th>\n",
       "      <th>decision_year</th>\n",
       "      <th>employer_num_employees</th>\n",
       "      <th>job_info_alt_occ_num_months</th>\n",
       "      <th>pw_amount_9089</th>\n",
       "      <th>ONLINE</th>\n",
       "      <th>PERM</th>\n",
       "      <th>A1/A2</th>\n",
       "      <th>AOS</th>\n",
       "      <th>...</th>\n",
       "      <th>N</th>\n",
       "      <th>Y</th>\n",
       "      <th>Bachelor's</th>\n",
       "      <th>Doctorate</th>\n",
       "      <th>High School</th>\n",
       "      <th>Master's</th>\n",
       "      <th>None</th>\n",
       "      <th>Other</th>\n",
       "      <th>Y</th>\n",
       "      <th>Y</th>\n",
       "    </tr>\n",
       "  </thead>\n",
       "  <tbody>\n",
       "    <tr>\n",
       "      <th>count</th>\n",
       "      <td>356168.000000</td>\n",
       "      <td>356168.000000</td>\n",
       "      <td>3.561680e+05</td>\n",
       "      <td>3.561680e+05</td>\n",
       "      <td>356168.000000</td>\n",
       "      <td>3.561680e+05</td>\n",
       "      <td>356168.000000</td>\n",
       "      <td>356168.00000</td>\n",
       "      <td>356168.000000</td>\n",
       "      <td>356168.000000</td>\n",
       "      <td>...</td>\n",
       "      <td>356168.000000</td>\n",
       "      <td>356168.000000</td>\n",
       "      <td>356168.000000</td>\n",
       "      <td>356168.000000</td>\n",
       "      <td>356168.000000</td>\n",
       "      <td>356168.000000</td>\n",
       "      <td>356168.000000</td>\n",
       "      <td>356168.000000</td>\n",
       "      <td>356168.000000</td>\n",
       "      <td>356168.000000</td>\n",
       "    </tr>\n",
       "    <tr>\n",
       "      <th>mean</th>\n",
       "      <td>187824.581953</td>\n",
       "      <td>2014.561990</td>\n",
       "      <td>1.423923e+18</td>\n",
       "      <td>2.234837e+04</td>\n",
       "      <td>50.612947</td>\n",
       "      <td>4.696245e+05</td>\n",
       "      <td>0.940388</td>\n",
       "      <td>0.05396</td>\n",
       "      <td>0.000418</td>\n",
       "      <td>0.000003</td>\n",
       "      <td>...</td>\n",
       "      <td>0.102606</td>\n",
       "      <td>0.128234</td>\n",
       "      <td>0.249315</td>\n",
       "      <td>0.021661</td>\n",
       "      <td>0.009439</td>\n",
       "      <td>0.635975</td>\n",
       "      <td>0.058371</td>\n",
       "      <td>0.020729</td>\n",
       "      <td>0.717833</td>\n",
       "      <td>0.011938</td>\n",
       "    </tr>\n",
       "    <tr>\n",
       "      <th>std</th>\n",
       "      <td>108551.954744</td>\n",
       "      <td>0.892878</td>\n",
       "      <td>4.244757e+16</td>\n",
       "      <td>6.699144e+04</td>\n",
       "      <td>18.721351</td>\n",
       "      <td>7.679620e+06</td>\n",
       "      <td>0.236767</td>\n",
       "      <td>0.22594</td>\n",
       "      <td>0.020449</td>\n",
       "      <td>0.001676</td>\n",
       "      <td>...</td>\n",
       "      <td>0.303444</td>\n",
       "      <td>0.334351</td>\n",
       "      <td>0.432617</td>\n",
       "      <td>0.145575</td>\n",
       "      <td>0.096697</td>\n",
       "      <td>0.481156</td>\n",
       "      <td>0.234445</td>\n",
       "      <td>0.142476</td>\n",
       "      <td>0.450055</td>\n",
       "      <td>0.108608</td>\n",
       "    </tr>\n",
       "    <tr>\n",
       "      <th>min</th>\n",
       "      <td>0.000000</td>\n",
       "      <td>2006.000000</td>\n",
       "      <td>1.317600e+18</td>\n",
       "      <td>0.000000e+00</td>\n",
       "      <td>0.000000</td>\n",
       "      <td>7.500000e+00</td>\n",
       "      <td>0.000000</td>\n",
       "      <td>0.00000</td>\n",
       "      <td>0.000000</td>\n",
       "      <td>0.000000</td>\n",
       "      <td>...</td>\n",
       "      <td>0.000000</td>\n",
       "      <td>0.000000</td>\n",
       "      <td>0.000000</td>\n",
       "      <td>0.000000</td>\n",
       "      <td>0.000000</td>\n",
       "      <td>0.000000</td>\n",
       "      <td>0.000000</td>\n",
       "      <td>0.000000</td>\n",
       "      <td>0.000000</td>\n",
       "      <td>0.000000</td>\n",
       "    </tr>\n",
       "    <tr>\n",
       "      <th>25%</th>\n",
       "      <td>93461.750000</td>\n",
       "      <td>2014.000000</td>\n",
       "      <td>1.396483e+18</td>\n",
       "      <td>3.510000e+02</td>\n",
       "      <td>36.000000</td>\n",
       "      <td>6.780800e+04</td>\n",
       "      <td>1.000000</td>\n",
       "      <td>0.00000</td>\n",
       "      <td>0.000000</td>\n",
       "      <td>0.000000</td>\n",
       "      <td>...</td>\n",
       "      <td>0.000000</td>\n",
       "      <td>0.000000</td>\n",
       "      <td>0.000000</td>\n",
       "      <td>0.000000</td>\n",
       "      <td>0.000000</td>\n",
       "      <td>0.000000</td>\n",
       "      <td>0.000000</td>\n",
       "      <td>0.000000</td>\n",
       "      <td>0.000000</td>\n",
       "      <td>0.000000</td>\n",
       "    </tr>\n",
       "    <tr>\n",
       "      <th>50%</th>\n",
       "      <td>188083.500000</td>\n",
       "      <td>2014.000000</td>\n",
       "      <td>1.432685e+18</td>\n",
       "      <td>2.234800e+04</td>\n",
       "      <td>60.000000</td>\n",
       "      <td>8.627800e+04</td>\n",
       "      <td>1.000000</td>\n",
       "      <td>0.00000</td>\n",
       "      <td>0.000000</td>\n",
       "      <td>0.000000</td>\n",
       "      <td>...</td>\n",
       "      <td>0.000000</td>\n",
       "      <td>0.000000</td>\n",
       "      <td>0.000000</td>\n",
       "      <td>0.000000</td>\n",
       "      <td>0.000000</td>\n",
       "      <td>1.000000</td>\n",
       "      <td>0.000000</td>\n",
       "      <td>0.000000</td>\n",
       "      <td>1.000000</td>\n",
       "      <td>0.000000</td>\n",
       "    </tr>\n",
       "    <tr>\n",
       "      <th>75%</th>\n",
       "      <td>282299.250000</td>\n",
       "      <td>2015.000000</td>\n",
       "      <td>1.458778e+18</td>\n",
       "      <td>2.234800e+04</td>\n",
       "      <td>60.000000</td>\n",
       "      <td>1.047900e+05</td>\n",
       "      <td>1.000000</td>\n",
       "      <td>0.00000</td>\n",
       "      <td>0.000000</td>\n",
       "      <td>0.000000</td>\n",
       "      <td>...</td>\n",
       "      <td>0.000000</td>\n",
       "      <td>0.000000</td>\n",
       "      <td>0.000000</td>\n",
       "      <td>0.000000</td>\n",
       "      <td>0.000000</td>\n",
       "      <td>1.000000</td>\n",
       "      <td>0.000000</td>\n",
       "      <td>0.000000</td>\n",
       "      <td>1.000000</td>\n",
       "      <td>0.000000</td>\n",
       "    </tr>\n",
       "    <tr>\n",
       "      <th>max</th>\n",
       "      <td>374353.000000</td>\n",
       "      <td>2016.000000</td>\n",
       "      <td>1.483056e+18</td>\n",
       "      <td>1.633332e+07</td>\n",
       "      <td>240.000000</td>\n",
       "      <td>4.957480e+08</td>\n",
       "      <td>1.000000</td>\n",
       "      <td>1.00000</td>\n",
       "      <td>1.000000</td>\n",
       "      <td>1.000000</td>\n",
       "      <td>...</td>\n",
       "      <td>1.000000</td>\n",
       "      <td>1.000000</td>\n",
       "      <td>1.000000</td>\n",
       "      <td>1.000000</td>\n",
       "      <td>1.000000</td>\n",
       "      <td>1.000000</td>\n",
       "      <td>1.000000</td>\n",
       "      <td>1.000000</td>\n",
       "      <td>1.000000</td>\n",
       "      <td>1.000000</td>\n",
       "    </tr>\n",
       "  </tbody>\n",
       "</table>\n",
       "<p>8 rows × 282 columns</p>\n",
       "</div>"
      ],
      "text/plain": [
       "          Unnamed: 0  case_received_year  decision_year  \\\n",
       "count  356168.000000       356168.000000   3.561680e+05   \n",
       "mean   187824.581953         2014.561990   1.423923e+18   \n",
       "std    108551.954744            0.892878   4.244757e+16   \n",
       "min         0.000000         2006.000000   1.317600e+18   \n",
       "25%     93461.750000         2014.000000   1.396483e+18   \n",
       "50%    188083.500000         2014.000000   1.432685e+18   \n",
       "75%    282299.250000         2015.000000   1.458778e+18   \n",
       "max    374353.000000         2016.000000   1.483056e+18   \n",
       "\n",
       "       employer_num_employees  job_info_alt_occ_num_months  pw_amount_9089  \\\n",
       "count            3.561680e+05                356168.000000    3.561680e+05   \n",
       "mean             2.234837e+04                    50.612947    4.696245e+05   \n",
       "std              6.699144e+04                    18.721351    7.679620e+06   \n",
       "min              0.000000e+00                     0.000000    7.500000e+00   \n",
       "25%              3.510000e+02                    36.000000    6.780800e+04   \n",
       "50%              2.234800e+04                    60.000000    8.627800e+04   \n",
       "75%              2.234800e+04                    60.000000    1.047900e+05   \n",
       "max              1.633332e+07                   240.000000    4.957480e+08   \n",
       "\n",
       "              ONLINE          PERM          A1/A2            AOS  ...  \\\n",
       "count  356168.000000  356168.00000  356168.000000  356168.000000  ...   \n",
       "mean        0.940388       0.05396       0.000418       0.000003  ...   \n",
       "std         0.236767       0.22594       0.020449       0.001676  ...   \n",
       "min         0.000000       0.00000       0.000000       0.000000  ...   \n",
       "25%         1.000000       0.00000       0.000000       0.000000  ...   \n",
       "50%         1.000000       0.00000       0.000000       0.000000  ...   \n",
       "75%         1.000000       0.00000       0.000000       0.000000  ...   \n",
       "max         1.000000       1.00000       1.000000       1.000000  ...   \n",
       "\n",
       "                   N              Y     Bachelor's      Doctorate  \\\n",
       "count  356168.000000  356168.000000  356168.000000  356168.000000   \n",
       "mean        0.102606       0.128234       0.249315       0.021661   \n",
       "std         0.303444       0.334351       0.432617       0.145575   \n",
       "min         0.000000       0.000000       0.000000       0.000000   \n",
       "25%         0.000000       0.000000       0.000000       0.000000   \n",
       "50%         0.000000       0.000000       0.000000       0.000000   \n",
       "75%         0.000000       0.000000       0.000000       0.000000   \n",
       "max         1.000000       1.000000       1.000000       1.000000   \n",
       "\n",
       "         High School       Master's           None          Other  \\\n",
       "count  356168.000000  356168.000000  356168.000000  356168.000000   \n",
       "mean        0.009439       0.635975       0.058371       0.020729   \n",
       "std         0.096697       0.481156       0.234445       0.142476   \n",
       "min         0.000000       0.000000       0.000000       0.000000   \n",
       "25%         0.000000       0.000000       0.000000       0.000000   \n",
       "50%         0.000000       1.000000       0.000000       0.000000   \n",
       "75%         0.000000       1.000000       0.000000       0.000000   \n",
       "max         1.000000       1.000000       1.000000       1.000000   \n",
       "\n",
       "                   Y              Y  \n",
       "count  356168.000000  356168.000000  \n",
       "mean        0.717833       0.011938  \n",
       "std         0.450055       0.108608  \n",
       "min         0.000000       0.000000  \n",
       "25%         0.000000       0.000000  \n",
       "50%         1.000000       0.000000  \n",
       "75%         1.000000       0.000000  \n",
       "max         1.000000       1.000000  \n",
       "\n",
       "[8 rows x 282 columns]"
      ]
     },
     "execution_count": 11,
     "metadata": {},
     "output_type": "execute_result"
    }
   ],
   "source": [
    "X.describe()"
   ]
  },
  {
   "cell_type": "code",
   "execution_count": 12,
   "metadata": {
    "scrolled": false
   },
   "outputs": [
    {
     "data": {
      "text/plain": [
       "1    330519\n",
       "0     25649\n",
       "Name: case_status, dtype: int64"
      ]
     },
     "execution_count": 12,
     "metadata": {},
     "output_type": "execute_result"
    }
   ],
   "source": [
    "# Check the balance of our target values\n",
    "y.value_counts()"
   ]
  },
  {
   "cell_type": "markdown",
   "metadata": {},
   "source": [
    "### Test-Train-Split"
   ]
  },
  {
   "cell_type": "code",
   "execution_count": 13,
   "metadata": {
    "scrolled": true
   },
   "outputs": [
    {
     "data": {
      "text/plain": [
       "(267126, 282)"
      ]
     },
     "execution_count": 13,
     "metadata": {},
     "output_type": "execute_result"
    }
   ],
   "source": [
    "X_train, X_test, y_train, y_test = train_test_split (X, y, random_state = 1, stratify=y)\n",
    "\n",
    "X_train.shape"
   ]
  },
  {
   "cell_type": "code",
   "execution_count": 14,
   "metadata": {
    "scrolled": true
   },
   "outputs": [
    {
     "data": {
      "text/plain": [
       "Counter({1: 247889, 0: 247889})"
      ]
     },
     "execution_count": 14,
     "metadata": {},
     "output_type": "execute_result"
    }
   ],
   "source": [
    "# Resample the training data with the RandomOversampler\n",
    "ros = RandomOverSampler(random_state=1)\n",
    "X_res, y_res = ros.fit_resample(X_train.values, y_train.values)\n",
    "Counter(y_res)"
   ]
  },
  {
   "cell_type": "code",
   "execution_count": 15,
   "metadata": {},
   "outputs": [],
   "source": [
    "# Train the Logistic Regression model using the resampled data\n",
    "model = LogisticRegression(random_state=1)\n",
    "model.fit(X_res, y_res)\n",
    "y_pred = model.predict(X_test)"
   ]
  },
  {
   "cell_type": "code",
   "execution_count": 16,
   "metadata": {
    "scrolled": false
   },
   "outputs": [
    {
     "data": {
      "text/plain": [
       "LogisticRegression()"
      ]
     },
     "execution_count": 16,
     "metadata": {},
     "output_type": "execute_result"
    }
   ],
   "source": [
    "#from random_forest.fit(X_train,y_train.ravel())\n",
    "#y_pred.summary()\n",
    "logreg = LogisticRegression()\n",
    "logreg.fit(X_train, y_train)"
   ]
  },
  {
   "cell_type": "code",
   "execution_count": 17,
   "metadata": {},
   "outputs": [
    {
     "name": "stdout",
     "output_type": "stream",
     "text": [
      "log:  0.07201096111947171\n"
     ]
    }
   ],
   "source": [
    "y_pred = logreg.predict(X_test)\n",
    "print('log: ', metrics.accuracy_score(y_test, y_pred))"
   ]
  },
  {
   "cell_type": "code",
   "execution_count": 18,
   "metadata": {},
   "outputs": [
    {
     "data": {
      "text/plain": [
       "0.5"
      ]
     },
     "execution_count": 18,
     "metadata": {},
     "output_type": "execute_result"
    }
   ],
   "source": [
    "# Calculated the balanced accuracy score\n",
    "balanced_accuracy_score(y_test, y_pred)"
   ]
  },
  {
   "cell_type": "code",
   "execution_count": 19,
   "metadata": {
    "scrolled": true
   },
   "outputs": [
    {
     "data": {
      "text/plain": [
       "array([[ 6412,     0],\n",
       "       [82630,     0]])"
      ]
     },
     "execution_count": 19,
     "metadata": {},
     "output_type": "execute_result"
    }
   ],
   "source": [
    "# Display the confusion matrix\n",
    "confusion_matrix(y_test, y_pred)"
   ]
  },
  {
   "cell_type": "code",
   "execution_count": 20,
   "metadata": {
    "scrolled": false
   },
   "outputs": [
    {
     "name": "stdout",
     "output_type": "stream",
     "text": [
      "                   pre       rec       spe        f1       geo       iba       sup\n",
      "\n",
      "          0       0.07      1.00      0.00      0.13      0.00      0.00      6412\n",
      "          1       0.00      0.00      1.00      0.00      0.00      0.00     82630\n",
      "\n",
      "avg / total       0.01      0.07      0.93      0.01      0.00      0.00     89042\n",
      "\n"
     ]
    }
   ],
   "source": [
    "# Print the imbalanced classification report\n",
    "print(classification_report_imbalanced(y_test, y_pred))"
   ]
  },
  {
   "cell_type": "code",
   "execution_count": 21,
   "metadata": {
    "scrolled": false
   },
   "outputs": [
    {
     "data": {
      "text/plain": [
       "<matplotlib.axes._subplots.AxesSubplot at 0x7fe08d27e9a0>"
      ]
     },
     "execution_count": 21,
     "metadata": {},
     "output_type": "execute_result"
    },
    {
     "data": {
      "image/png": "[encoded data removed]",
      "text/plain": [
       "<Figure size 576x360 with 2 Axes>"
      ]
     },
     "metadata": {
      "needs_background": "light"
     },
     "output_type": "display_data"
    }
   ],
   "source": [
    "data = confusion_matrix(y_test, y_pred)\n",
    "df_cm = pd.DataFrame(data, columns=np.unique(y_test), index = np.unique(y_test))\n",
    "plt.figure(figsize = (8,5))\n",
    "sns.set(font_scale=1.4)#for label size\n",
    "sns.heatmap(df_cm, cmap=\"YlGnBu\", annot=True,annot_kws={\"size\": 16})# font size"
   ]
  },
  {
   "cell_type": "markdown",
   "metadata": {},
   "source": [
    "### SMOTE Oversampling"
   ]
  },
  {
   "cell_type": "code",
   "execution_count": 22,
   "metadata": {},
   "outputs": [
    {
     "data": {
      "text/plain": [
       "Counter({1: 247889, 0: 247889})"
      ]
     },
     "execution_count": 22,
     "metadata": {},
     "output_type": "execute_result"
    }
   ],
   "source": [
    "# Resample the training data with SMOTE\n",
    "X_res, y_res = SMOTE(random_state=1).fit_resample(X_train.values, y_train.values)\n",
    "Counter(y_res)"
   ]
  },
  {
   "cell_type": "code",
   "execution_count": 23,
   "metadata": {},
   "outputs": [],
   "source": [
    "# Train the Logistic Regression model using the resampled data\n",
    "model = LogisticRegression(random_state=1)\n",
    "model.fit(X_res, y_res)\n",
    "y_pred = model.predict(X_test)"
   ]
  },
  {
   "cell_type": "code",
   "execution_count": 24,
   "metadata": {},
   "outputs": [
    {
     "data": {
      "text/plain": [
       "0.5"
      ]
     },
     "execution_count": 24,
     "metadata": {},
     "output_type": "execute_result"
    }
   ],
   "source": [
    "# Calculated the balanced accuracy score\n",
    "balanced_accuracy_score(y_test, y_pred)"
   ]
  },
  {
   "cell_type": "code",
   "execution_count": 25,
   "metadata": {},
   "outputs": [
    {
     "data": {
      "text/plain": [
       "array([[    0,  6412],\n",
       "       [    0, 82630]])"
      ]
     },
     "execution_count": 25,
     "metadata": {},
     "output_type": "execute_result"
    }
   ],
   "source": [
    "# Display the confusion matrix\n",
    "confusion_matrix(y_test, y_pred)"
   ]
  },
  {
   "cell_type": "code",
   "execution_count": 26,
   "metadata": {
    "scrolled": false
   },
   "outputs": [
    {
     "name": "stdout",
     "output_type": "stream",
     "text": [
      "                   pre       rec       spe        f1       geo       iba       sup\n",
      "\n",
      "          0       0.00      0.00      1.00      0.00      0.00      0.00      6412\n",
      "          1       0.93      1.00      0.00      0.96      0.00      0.00     82630\n",
      "\n",
      "avg / total       0.86      0.93      0.07      0.89      0.00      0.00     89042\n",
      "\n"
     ]
    }
   ],
   "source": [
    "# Print the imbalanced classification report\n",
    "print(classification_report_imbalanced(y_test, y_pred))"
   ]
  },
  {
   "cell_type": "code",
   "execution_count": 27,
   "metadata": {
    "scrolled": true
   },
   "outputs": [
    {
     "data": {
      "text/plain": [
       "<matplotlib.axes._subplots.AxesSubplot at 0x7fe08d27ed90>"
      ]
     },
     "execution_count": 27,
     "metadata": {},
     "output_type": "execute_result"
    },
    {
     "data": {
      "image/png": "[encoded data removed]",
      "text/plain": [
       "<Figure size 576x360 with 2 Axes>"
      ]
     },
     "metadata": {},
     "output_type": "display_data"
    }
   ],
   "source": [
    "data = confusion_matrix(y_test, y_pred)\n",
    "df_cm = pd.DataFrame(data, columns=np.unique(y_test), index = np.unique(y_test))\n",
    "plt.figure(figsize = (8,5))\n",
    "sns.set(font_scale=1.4)#for label size\n",
    "sns.heatmap(df_cm, cmap=\"YlGnBu\", annot=True,annot_kws={\"size\": 16})# font size"
   ]
  },
  {
   "cell_type": "markdown",
   "metadata": {},
   "source": [
    "## Ensemble Learners\n",
    "### Balanced Random Forest Classifier"
   ]
  },
  {
   "cell_type": "code",
   "execution_count": 28,
   "metadata": {
    "scrolled": true
   },
   "outputs": [],
   "source": [
    "# Resample the training data with the BalancedRandomForestClassifier\n",
    "random_forest_model = BalancedRandomForestClassifier(random_state=1)\n",
    "random_forest_model = random_forest_model.fit(X_train.values, y_train.values)\n",
    "y_pred = random_forest_model.predict(X_test)"
   ]
  },
  {
   "cell_type": "code",
   "execution_count": 29,
   "metadata": {},
   "outputs": [
    {
     "data": {
      "text/plain": [
       "0.8824762983359971"
      ]
     },
     "execution_count": 29,
     "metadata": {},
     "output_type": "execute_result"
    }
   ],
   "source": [
    "# Calculated the balanced accuracy score\n",
    "balanced_accuracy_score(y_test, y_pred)"
   ]
  },
  {
   "cell_type": "code",
   "execution_count": 30,
   "metadata": {},
   "outputs": [
    {
     "data": {
      "text/plain": [
       "array([[ 5608,   804],\n",
       "       [ 9061, 73569]])"
      ]
     },
     "execution_count": 30,
     "metadata": {},
     "output_type": "execute_result"
    }
   ],
   "source": [
    "# Display the confusion matrix\n",
    "confusion_matrix(y_test, y_pred)"
   ]
  },
  {
   "cell_type": "code",
   "execution_count": 31,
   "metadata": {
    "scrolled": true
   },
   "outputs": [
    {
     "name": "stdout",
     "output_type": "stream",
     "text": [
      "                   pre       rec       spe        f1       geo       iba       sup\n",
      "\n",
      "          0       0.38      0.87      0.89      0.53      0.88      0.78      6412\n",
      "          1       0.99      0.89      0.87      0.94      0.88      0.78     82630\n",
      "\n",
      "avg / total       0.95      0.89      0.88      0.91      0.88      0.78     89042\n",
      "\n"
     ]
    }
   ],
   "source": [
    "# Print the imbalanced classification report\n",
    "print(classification_report_imbalanced(y_test, y_pred))"
   ]
  },
  {
   "cell_type": "code",
   "execution_count": 32,
   "metadata": {
    "scrolled": true
   },
   "outputs": [
    {
     "data": {
      "text/plain": [
       "<matplotlib.axes._subplots.AxesSubplot at 0x7fe0b3881b50>"
      ]
     },
     "execution_count": 32,
     "metadata": {},
     "output_type": "execute_result"
    },
    {
     "data": {
      "image/png": "[encoded data removed]",
      "text/plain": [
       "<Figure size 576x360 with 2 Axes>"
      ]
     },
     "metadata": {},
     "output_type": "display_data"
    }
   ],
   "source": [
    "data = confusion_matrix(y_test, y_pred)\n",
    "df_cm = pd.DataFrame(data, columns=np.unique(y_test), index = np.unique(y_test))\n",
    "plt.figure(figsize = (8,5))\n",
    "sns.set(font_scale=1.4)#for label size\n",
    "sns.heatmap(df_cm, cmap=\"YlGnBu\", annot=True,annot_kws={\"size\": 16})# font size"
   ]
  }
 ],
 "metadata": {
  "kernelspec": {
   "display_name": "PythonData",
   "language": "python",
   "name": "pythondata"
  },
  "language_info": {
   "codemirror_mode": {
    "name": "ipython",
    "version": 3
   },
   "file_extension": ".py",
   "mimetype": "text/x-python",
   "name": "python",
   "nbconvert_exporter": "python",
   "pygments_lexer": "ipython3",
   "version": "3.8.3"
  }
 },
 "nbformat": 4,
 "nbformat_minor": 4
}
